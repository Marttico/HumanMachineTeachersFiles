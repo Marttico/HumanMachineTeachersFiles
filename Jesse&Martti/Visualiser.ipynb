{
 "cells": [
  {
   "cell_type": "code",
   "execution_count": 12,
   "id": "c39418ff",
   "metadata": {},
   "outputs": [],
   "source": [
    "import numpy as np\n",
    "import pandas as pd\n",
    "import time\n",
    "from IPython.display import clear_output\n",
    "from IPython import display\n",
    "import matplotlib.pyplot as plt\n",
    "red = '\\033[91m'\n",
    "green = '\\033[92m'\n",
    "yellow = '\\033[93m'\n",
    "blue = '\\033[94m'\n",
    "pink = '\\033[95m'\n",
    "Magenta  = \"\\033[35m\"\n",
    "LightMagenta = \"\\033[95m\"\n",
    "black = \"\\033[0m\"\n",
    "\n",
    "def printArray(arr,color=\"\\033[91m\"):\n",
    "    for y, i in enumerate(arr):\n",
    "        for x,o in enumerate(i):\n",
    "            kleur = black\n",
    "            if o == 1:\n",
    "                kleur = red\n",
    "            if o == 2:\n",
    "                kleur = blue\n",
    "            if o == 3:\n",
    "                kleur = green\n",
    "            print(\"%s%s\"%(kleur,\"█\"), end=\"\")\n",
    "        print(\" \", end=\"\")\n"
   ]
  },
  {
   "cell_type": "code",
   "execution_count": 13,
   "id": "820c9d62",
   "metadata": {},
   "outputs": [],
   "source": [
    "def renderAnimation(file):\n",
    "    RowString = \"\"\n",
    "    for p in range(file[0].shape[0]):\n",
    "        tempRow = \"Row %i\"%p\n",
    "        RowString += tempRow.ljust(file[0].shape[1]+2)\n",
    "\n",
    "    for i in range(len(file)):\n",
    "        print(RowString)\n",
    "        for o in range(file[i].shape[1]):\n",
    "\n",
    "            f = file[i][:,o,:]\n",
    "            printArray(f)\n",
    "            print(\"\")\n",
    "\n",
    "        print(\"%sPriority 1:█\\n%sPriority 2:█\\n%sPriority 3:█\\n\"%(red,blue,green))\n",
    "\n",
    "\n",
    "\n",
    "        clear_output(wait=True)\n",
    "\n",
    "        time.sleep(0.05)"
   ]
  },
  {
   "cell_type": "code",
   "execution_count": 41,
   "id": "9594bce7",
   "metadata": {},
   "outputs": [
    {
     "name": "stdout",
     "output_type": "stream",
     "text": [
      "Row 0 Row 1 Row 2 Row 3 \n",
      "\u001b[92m█\u001b[92m█\u001b[92m█\u001b[92m█\u001b[92m█ \u001b[91m█\u001b[92m█\u001b[92m█\u001b[94m█\u001b[91m█ \u001b[94m█\u001b[94m█\u001b[94m█\u001b[94m█\u001b[94m█ \u001b[91m█\u001b[91m█\u001b[91m█\u001b[91m█\u001b[91m█ \n",
      "\u001b[92m█\u001b[92m█\u001b[92m█\u001b[92m█\u001b[92m█ \u001b[92m█\u001b[94m█\u001b[92m█\u001b[92m█\u001b[91m█ \u001b[94m█\u001b[94m█\u001b[94m█\u001b[94m█\u001b[94m█ \u001b[91m█\u001b[91m█\u001b[91m█\u001b[91m█\u001b[91m█ \n",
      "\u001b[92m█\u001b[92m█\u001b[92m█\u001b[92m█\u001b[92m█ \u001b[94m█\u001b[94m█\u001b[91m█\u001b[94m█\u001b[91m█ \u001b[94m█\u001b[94m█\u001b[94m█\u001b[94m█\u001b[94m█ \u001b[91m█\u001b[91m█\u001b[91m█\u001b[91m█\u001b[91m█ \n",
      "\u001b[92m█\u001b[92m█\u001b[92m█\u001b[92m█\u001b[92m█ \u001b[94m█\u001b[94m█\u001b[94m█\u001b[91m█\u001b[91m█ \u001b[94m█\u001b[94m█\u001b[94m█\u001b[94m█\u001b[94m█ \u001b[91m█\u001b[91m█\u001b[91m█\u001b[91m█\u001b[91m█ \n",
      "\u001b[91mPriority 1:█\n",
      "\u001b[94mPriority 2:█\n",
      "\u001b[92mPriority 3:█\n",
      "\n"
     ]
    }
   ],
   "source": [
    "import os\n",
    "print(\"Select folder you'd want to view:\")\n",
    "folders = next(os.walk(\"Observations\"))[1]\n",
    "for i,val in enumerate(folders):\n",
    "    print(\"%i: %s\"%(i,val))\n",
    "\n",
    "folderselection = input(\"Type the number here:\")\n",
    "\n",
    "clear_output(wait=True)\n",
    "\n",
    "files = next(os.walk(\"Observations/\"+folders[int(folderselection)]))[2]\n",
    "files.sort()\n",
    "for i,val in enumerate(files):\n",
    "    print(\"%i: %s\"%(i,val))\n",
    "\n",
    "print(\"Select file you'd like to demo:\")\n",
    "filename = input()\n",
    "print(files[int(filename)])\n",
    "#input()\n",
    "file = np.load(\"Observations/\"+folders[int(folderselection)]+\"/\"+files[int(filename)])\n",
    "\n",
    "renderAnimation(file)"
   ]
  },
  {
   "cell_type": "markdown",
   "id": "a8f0fdc4",
   "metadata": {},
   "source": []
  },
  {
   "cell_type": "code",
   "execution_count": null,
   "id": "e746b23e",
   "metadata": {},
   "outputs": [],
   "source": []
  }
 ],
 "metadata": {
  "kernelspec": {
   "display_name": "Python 3 (ipykernel)",
   "language": "python",
   "name": "python3"
  },
  "language_info": {
   "codemirror_mode": {
    "name": "ipython",
    "version": 3
   },
   "file_extension": ".py",
   "mimetype": "text/x-python",
   "name": "python",
   "nbconvert_exporter": "python",
   "pygments_lexer": "ipython3",
   "version": "3.9.13"
  }
 },
 "nbformat": 4,
 "nbformat_minor": 5
}
