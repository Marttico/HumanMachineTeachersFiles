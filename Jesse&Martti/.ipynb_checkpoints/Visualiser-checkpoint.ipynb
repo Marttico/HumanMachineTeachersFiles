{
 "cells": [
  {
   "cell_type": "code",
   "execution_count": 1,
   "id": "c39418ff",
   "metadata": {},
   "outputs": [],
   "source": [
    "import numpy as np\n",
    "import pandas as pd\n",
    "import time\n",
    "from IPython.display import clear_output\n",
    "from IPython import display\n",
    "import matplotlib.pyplot as plt\n",
    "red = '\\033[91m'\n",
    "green = '\\033[92m'\n",
    "yellow = '\\033[93m'\n",
    "blue = '\\033[94m'\n",
    "pink = '\\033[95m'\n",
    "Magenta  = \"\\033[35m\"\n",
    "LightMagenta = \"\\033[95m\"\n",
    "black = \"\\033[0m\"\n",
    "\n",
    "def printArray(arr,color=\"\\033[91m\"):\n",
    "    for y, i in enumerate(arr):\n",
    "        for x,o in enumerate(i):\n",
    "            kleur = black\n",
    "            if o == 1:\n",
    "                kleur = red\n",
    "            if o == 2:\n",
    "                kleur = blue\n",
    "            if o == 3:\n",
    "                kleur = green\n",
    "            print(\"%s%s\"%(kleur,\"█\"), end=\"\")\n",
    "        print(\" \", end=\"\")\n"
   ]
  },
  {
   "cell_type": "code",
   "execution_count": 2,
   "id": "820c9d62",
   "metadata": {},
   "outputs": [],
   "source": [
    "def renderAnimation(file):\n",
    "    RowString = \"\"\n",
    "    for p in range(file[0].shape[0]):\n",
    "        tempRow = \"Row %i\"%p\n",
    "        RowString += tempRow.ljust(file[0].shape[1]+2)\n",
    "\n",
    "    for i in range(len(file)):\n",
    "        print(RowString)\n",
    "        for o in range(file[i].shape[1]):\n",
    "\n",
    "            f = file[i][:,o,:]\n",
    "            printArray(f)\n",
    "            print(\"\")\n",
    "\n",
    "        print(\"%sPriority 1:█\\n%sPriority 2:█\\n%sPriority 3:█\\n\"%(red,blue,green))\n",
    "\n",
    "\n",
    "\n",
    "        clear_output(wait=True)\n",
    "\n",
    "        time.sleep(0.05)"
   ]
  },
  {
   "cell_type": "code",
   "execution_count": null,
   "id": "9594bce7",
   "metadata": {},
   "outputs": [
    {
     "name": "stdout",
     "output_type": "stream",
     "text": [
      "Select folder you'd want to view:\n",
      "0, .ipynb_checkpoints\n",
      "1, SecondAttempt\n",
      "2, 01-14-2023-19-40-35\n",
      "3, FirstAttempt\n",
      "4, FourthAttempt(Successful)\n",
      "5, 01-14-2023-19-39-17\n",
      "6, ThirdAttempt\n"
     ]
    }
   ],
   "source": [
    "import os\n",
    "print(\"Select folder you'd want to view:\")\n",
    "folders = next(os.walk(\"Observations\"))[1]\n",
    "for i,val in enumerate(folders):\n",
    "    print(\"%i: %s\"%(i,val))\n",
    "\n",
    "input(\"Type the number here:\")\n",
    "filename = input(\"Select file you'd like to demo: \")\n",
    "\n",
    "file = np.load(\"Observations/array%s.npy\"%filename)\n",
    "\n",
    "renderAnimation(file)"
   ]
  },
  {
   "cell_type": "code",
   "execution_count": 9,
   "id": "0d8891ef",
   "metadata": {},
   "outputs": [
    {
     "name": "stdout",
     "output_type": "stream",
     "text": [
      "['.ipynb_checkpoints', 'SecondAttempt', '01-14-2023-19-40-35', 'FirstAttempt', 'FourthAttempt(Successful)', '01-14-2023-19-39-17', 'ThirdAttempt']\n",
      "\n"
     ]
    }
   ],
   "source": [
    "import os\n",
    "print(next(os.walk(\"Observations\"))[1])\n",
    "print()"
   ]
  },
  {
   "cell_type": "code",
   "execution_count": null,
   "id": "0c0ea151",
   "metadata": {},
   "outputs": [],
   "source": []
  }
 ],
 "metadata": {
  "kernelspec": {
   "display_name": "Python 3 (ipykernel)",
   "language": "python",
   "name": "python3"
  },
  "language_info": {
   "codemirror_mode": {
    "name": "ipython",
    "version": 3
   },
   "file_extension": ".py",
   "mimetype": "text/x-python",
   "name": "python",
   "nbconvert_exporter": "python",
   "pygments_lexer": "ipython3",
   "version": "3.9.13"
  }
 },
 "nbformat": 4,
 "nbformat_minor": 5
}
