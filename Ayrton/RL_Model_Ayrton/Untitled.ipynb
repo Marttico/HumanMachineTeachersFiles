{
 "cells": [
  {
   "cell_type": "markdown",
   "id": "d062974b",
   "metadata": {},
   "source": [
    "# Import libraries"
   ]
  },
  {
   "cell_type": "code",
   "execution_count": 1,
   "id": "a3a8b535",
   "metadata": {},
   "outputs": [],
   "source": [
    "import numpy as np\n",
    "import random"
   ]
  },
  {
   "cell_type": "markdown",
   "id": "66a778f5",
   "metadata": {},
   "source": [
    "# Environment"
   ]
  },
  {
   "cell_type": "code",
   "execution_count": 2,
   "id": "e027d08b",
   "metadata": {},
   "outputs": [],
   "source": [
    "def __init__(self, **kwargs):\n",
    "    self.width = 6\n",
    "    self.height = 6   \n",
    "    self.priorties=[1,2]"
   ]
  },
  {
   "cell_type": "code",
   "execution_count": 3,
   "id": "b71a1780",
   "metadata": {},
   "outputs": [],
   "source": [
    "def action_to_coords( self, action ):\n",
    "    return [ action % self.width, int( action / self.width ) ] "
   ]
  },
  {
   "cell_type": "markdown",
   "id": "b630fb76",
   "metadata": {},
   "source": [
    "# Restrictions"
   ]
  },
  {
   "cell_type": "code",
   "execution_count": 4,
   "id": "c74637dd",
   "metadata": {},
   "outputs": [],
   "source": [
    "def is_empty_contraint( self, state, x, y ):\n",
    "    return state[y][x] == 0\n",
    "    \n",
    "def is_not_floating_constraint( self, state, x, y ):\n",
    "    return True\n",
    "    \n",
    "def is_on_top_of_equal_or_higher_priority( self, state, x, y ):\n",
    "    return True"
   ]
  },
  {
   "cell_type": "markdown",
   "id": "a77b50e9",
   "metadata": {},
   "source": [
    "# Actions"
   ]
  },
  {
   "cell_type": "code",
   "execution_count": 5,
   "id": "907ee86e",
   "metadata": {},
   "outputs": [],
   "source": [
    "def get_possible_actions( self, state ):\n",
    "        actions=[]\n",
    "        for y in range(self.height):\n",
    "            for x in range(self.width):\n",
    "                action = y * self.width + x\n",
    "                if ( self.is_empty_contraint( state, x, y ) == True and \n",
    "                     self.is_not_floating_constraint( state, x, y ) == True and\n",
    "                     self.is_on_top_of_equal_or_higher_priority( state, x,y ) ):\n",
    "                    actions.append( action )\n",
    "        return actions \n",
    "\n",
    "def choose_action(self, container_prio, state):\n",
    "    possible_actions = self.get_possible_actions( state )\n",
    "        \n",
    "    print(\"possible actions: \")\n",
    "    for i in possible_actions:\n",
    "            print(str(i), end=\" \")\n",
    "    print(\"\")\n",
    "        \n",
    "        \n",
    "    action = random.choice( possible_actions )\n",
    "        \n",
    "    coords = self.action_to_coords( action )\n",
    "    print(\"choosing action: \" + str(action) + \" coords: \"+str(coords[0])+\",\"+str(coords[1]))\n",
    "\n",
    "    return action"
   ]
  },
  {
   "cell_type": "markdown",
   "id": "4fc0a424",
   "metadata": {},
   "source": [
    "# Step"
   ]
  },
  {
   "cell_type": "code",
   "execution_count": 6,
   "id": "bc582604",
   "metadata": {},
   "outputs": [],
   "source": [
    "def step(self, state, container_prio, action):  \n",
    "        new_state = state\n",
    "        \n",
    "        coords = self.action_to_coords( action )\n",
    "        new_state[ coords[1] ][ coords[0] ] = container_prio\n",
    "        reward = -1            \n",
    "        done = len( self.get_possible_actions( new_state ) ) == 0\n",
    "        info = {}\n",
    "        return new_state, reward, done, info\n"
   ]
  },
  {
   "cell_type": "markdown",
   "id": "bd3bb4fc",
   "metadata": {},
   "source": [
    "# Reset"
   ]
  },
  {
   "cell_type": "code",
   "execution_count": 7,
   "id": "ccc37ec7",
   "metadata": {},
   "outputs": [],
   "source": [
    "def reset(self):\n",
    "        return np.zeros( ( self.width, self.height ) )"
   ]
  },
  {
   "cell_type": "markdown",
   "id": "cd139af7",
   "metadata": {},
   "source": [
    "# Render"
   ]
  },
  {
   "cell_type": "code",
   "execution_count": 8,
   "id": "3bf85fc8",
   "metadata": {},
   "outputs": [],
   "source": [
    "def render(self, state, action, reward):\n",
    "        print(\"new state:\")\n",
    "        for y in range(self.height):\n",
    "            for x in range(self.width):\n",
    "                print(str(int(state[y][x])),end=\" \")\n",
    "            print(\"\")\n",
    "        pass"
   ]
  },
  {
   "cell_type": "code",
   "execution_count": 9,
   "id": "5d0fcca8",
   "metadata": {},
   "outputs": [
    {
     "ename": "NameError",
     "evalue": "name 'TestEnv' is not defined",
     "output_type": "error",
     "traceback": [
      "\u001b[0;31m---------------------------------------------------------------------------\u001b[0m",
      "\u001b[0;31mNameError\u001b[0m                                 Traceback (most recent call last)",
      "Cell \u001b[0;32mIn [9], line 1\u001b[0m\n\u001b[0;32m----> 1\u001b[0m env \u001b[38;5;241m=\u001b[39m \u001b[43mTestEnv\u001b[49m()\n\u001b[1;32m      3\u001b[0m \u001b[38;5;66;03m# initialize the environment\u001b[39;00m\n\u001b[1;32m      4\u001b[0m state \u001b[38;5;241m=\u001b[39m env\u001b[38;5;241m.\u001b[39mreset()\n",
      "\u001b[0;31mNameError\u001b[0m: name 'TestEnv' is not defined"
     ]
    }
   ],
   "source": [
    "env = TestEnv()\n",
    "\n",
    "# initialize the environment\n",
    "state = env.reset()\n",
    "\n",
    "done = False\n",
    "step = 0\n",
    "while not done:  \n",
    "    \n",
    "  container_prio = random.choice(env.priorties)\n",
    "\n",
    "  print(\"------- step \" + str( step ) + \" --------\" )\n",
    "  print(\"incoming container with priority \" + str(container_prio) )\n",
    "\n",
    "  # choose a random action\n",
    "  action = env.choose_action( container_prio, state )\n",
    "\n",
    "  # take the action and get the information from the environment\n",
    "  new_state, reward, done, info = env.step(state, container_prio, action)\n",
    "  \n",
    "  state=new_state\n",
    "\n",
    "  # show the current position and reward\n",
    "  env.render( state=new_state, action=action, reward=reward)\n",
    "\n",
    "  step = step + 1\n",
    "  \n",
    "  if done == True:\n",
    "    break\n",
    "    \n",
    "  if (step > 1000 ):\n",
    "    break"
   ]
  },
  {
   "cell_type": "code",
   "execution_count": null,
   "id": "5b69d782",
   "metadata": {},
   "outputs": [],
   "source": []
  }
 ],
 "metadata": {
  "kernelspec": {
   "display_name": "Python 3 (ipykernel)",
   "language": "python",
   "name": "python3"
  },
  "language_info": {
   "codemirror_mode": {
    "name": "ipython",
    "version": 3
   },
   "file_extension": ".py",
   "mimetype": "text/x-python",
   "name": "python",
   "nbconvert_exporter": "python",
   "pygments_lexer": "ipython3",
   "version": "3.9.13"
  }
 },
 "nbformat": 4,
 "nbformat_minor": 5
}
