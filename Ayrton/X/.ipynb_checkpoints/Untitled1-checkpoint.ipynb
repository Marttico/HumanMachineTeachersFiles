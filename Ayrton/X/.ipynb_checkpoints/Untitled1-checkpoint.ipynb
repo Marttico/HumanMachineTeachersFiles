{
 "cells": [
  {
   "cell_type": "code",
   "execution_count": 7,
   "id": "a5200106",
   "metadata": {},
   "outputs": [
    {
     "name": "stdout",
     "output_type": "stream",
     "text": [
      "Accuracy:  0.11719468910214276\n"
     ]
    }
   ],
   "source": [
    "# first, let's import the necessary libraries\n",
    "import pandas as pd\n",
    "from sklearn.feature_extraction.text import CountVectorizer\n",
    "from sklearn.naive_bayes import MultinomialNB\n",
    "\n",
    "# next, let's read in the two datasets\n",
    "recipes_df = pd.read_csv('Dataset Foodboost/ingredients.csv')\n",
    "tags_df = pd.read_csv('Dataset Foodboost/tags.csv')\n",
    "\n",
    "# now, let's merge the two datasets on the \"recipe\" column\n",
    "merged_df = pd.merge(recipes_df, tags_df, on=\"recipe\")\n",
    "\n",
    "# now, let's create a feature matrix using the \"ingredients\" column\n",
    "vectorizer = CountVectorizer()\n",
    "X = vectorizer.fit_transform(merged_df[\"ingredient\"])\n",
    "\n",
    "# and let's create the target vector using the \"tags\" column\n",
    "y = merged_df[\"tag\"]\n",
    "\n",
    "# now, let's split the data into training and testing sets\n",
    "from sklearn.model_selection import train_test_split\n",
    "X_train, X_test, y_train, y_test = train_test_split(X, y, test_size=0.2, random_state=42)\n",
    "\n",
    "# now, let's create the model and fit it to the training data\n",
    "model = MultinomialNB()\n",
    "model.fit(X_train, y_train)\n",
    "\n",
    "# finally, let's evaluate the model on the test data\n",
    "accuracy = model.score(X_test, y_test)\n",
    "print(\"Accuracy: \", accuracy)\n"
   ]
  },
  {
   "cell_type": "code",
   "execution_count": null,
   "id": "7d794c84",
   "metadata": {},
   "outputs": [],
   "source": []
  }
 ],
 "metadata": {
  "kernelspec": {
   "display_name": "Python 3 (ipykernel)",
   "language": "python",
   "name": "python3"
  },
  "language_info": {
   "codemirror_mode": {
    "name": "ipython",
    "version": 3
   },
   "file_extension": ".py",
   "mimetype": "text/x-python",
   "name": "python",
   "nbconvert_exporter": "python",
   "pygments_lexer": "ipython3",
   "version": "3.9.13"
  }
 },
 "nbformat": 4,
 "nbformat_minor": 5
}
