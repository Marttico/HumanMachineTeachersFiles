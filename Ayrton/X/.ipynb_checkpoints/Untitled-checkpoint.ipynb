{
 "cells": [
  {
   "cell_type": "markdown",
   "id": "5b53433b",
   "metadata": {},
   "source": [
    "# Importeren van libraries en dataset"
   ]
  },
  {
   "cell_type": "code",
   "execution_count": 85,
   "id": "3db83044",
   "metadata": {},
   "outputs": [],
   "source": [
    "import numpy as np\n",
    "import pandas as pd\n",
    "from matplotlib import pyplot as plt\n",
    "from sklearn.datasets import load_breast_cancer\n",
    "from sklearn.metrics import confusion_matrix\n",
    "from sklearn.neighbors import KNeighborsClassifier\n",
    "from sklearn import tree\n",
    "from sklearn.linear_model import LogisticRegression\n",
    "from sklearn.model_selection import train_test_split\n",
    "import seaborn as sns\n",
    "sns.set()\n",
    "\n",
    "df = pd.read_csv('Dataset Foodboost/tags.csv')"
   ]
  },
  {
   "cell_type": "markdown",
   "id": "663ddb03",
   "metadata": {},
   "source": [
    "# Ik wil een Mexicaans of Hollands gerecht"
   ]
  },
  {
   "cell_type": "code",
   "execution_count": 86,
   "id": "36feb9f5",
   "metadata": {},
   "outputs": [
    {
     "data": {
      "text/html": [
       "<div>\n",
       "<style scoped>\n",
       "    .dataframe tbody tr th:only-of-type {\n",
       "        vertical-align: middle;\n",
       "    }\n",
       "\n",
       "    .dataframe tbody tr th {\n",
       "        vertical-align: top;\n",
       "    }\n",
       "\n",
       "    .dataframe thead th {\n",
       "        text-align: right;\n",
       "    }\n",
       "</style>\n",
       "<table border=\"1\" class=\"dataframe\">\n",
       "  <thead>\n",
       "    <tr style=\"text-align: right;\">\n",
       "      <th></th>\n",
       "      <th>Unnamed: 0</th>\n",
       "      <th>recipe</th>\n",
       "      <th>tag</th>\n",
       "    </tr>\n",
       "  </thead>\n",
       "  <tbody>\n",
       "    <tr>\n",
       "      <th>27</th>\n",
       "      <td>27</td>\n",
       "      <td>Massaman curry</td>\n",
       "      <td>aziatisch</td>\n",
       "    </tr>\n",
       "    <tr>\n",
       "      <th>44</th>\n",
       "      <td>44</td>\n",
       "      <td>Ajam pangang</td>\n",
       "      <td>aziatisch</td>\n",
       "    </tr>\n",
       "    <tr>\n",
       "      <th>68</th>\n",
       "      <td>68</td>\n",
       "      <td>Pico de gallo</td>\n",
       "      <td>mexicaans</td>\n",
       "    </tr>\n",
       "    <tr>\n",
       "      <th>78</th>\n",
       "      <td>78</td>\n",
       "      <td>Sajoer boontjes</td>\n",
       "      <td>aziatisch</td>\n",
       "    </tr>\n",
       "    <tr>\n",
       "      <th>83</th>\n",
       "      <td>83</td>\n",
       "      <td>Koe loe kai</td>\n",
       "      <td>aziatisch</td>\n",
       "    </tr>\n",
       "    <tr>\n",
       "      <th>...</th>\n",
       "      <td>...</td>\n",
       "      <td>...</td>\n",
       "      <td>...</td>\n",
       "    </tr>\n",
       "    <tr>\n",
       "      <th>45671</th>\n",
       "      <td>45671</td>\n",
       "      <td>Thaise gehaktballetjes met paksoi</td>\n",
       "      <td>aziatisch</td>\n",
       "    </tr>\n",
       "    <tr>\n",
       "      <th>45747</th>\n",
       "      <td>45747</td>\n",
       "      <td>Quesadillas met gerookte kip en paprika</td>\n",
       "      <td>mexicaans</td>\n",
       "    </tr>\n",
       "    <tr>\n",
       "      <th>45810</th>\n",
       "      <td>45810</td>\n",
       "      <td>Gegratineerde wraps</td>\n",
       "      <td>mexicaans</td>\n",
       "    </tr>\n",
       "    <tr>\n",
       "      <th>45834</th>\n",
       "      <td>45834</td>\n",
       "      <td>Indische gehaktschotel</td>\n",
       "      <td>aziatisch</td>\n",
       "    </tr>\n",
       "    <tr>\n",
       "      <th>45998</th>\n",
       "      <td>45998</td>\n",
       "      <td>Thaise kipcurry met aubergine</td>\n",
       "      <td>aziatisch</td>\n",
       "    </tr>\n",
       "  </tbody>\n",
       "</table>\n",
       "<p>1065 rows × 3 columns</p>\n",
       "</div>"
      ],
      "text/plain": [
       "       Unnamed: 0                                   recipe        tag\n",
       "27             27                           Massaman curry  aziatisch\n",
       "44             44                             Ajam pangang  aziatisch\n",
       "68             68                            Pico de gallo  mexicaans\n",
       "78             78                         Sajoer boontjes   aziatisch\n",
       "83             83                             Koe loe kai   aziatisch\n",
       "...           ...                                      ...        ...\n",
       "45671       45671        Thaise gehaktballetjes met paksoi  aziatisch\n",
       "45747       45747  Quesadillas met gerookte kip en paprika  mexicaans\n",
       "45810       45810                      Gegratineerde wraps  mexicaans\n",
       "45834       45834                   Indische gehaktschotel  aziatisch\n",
       "45998       45998            Thaise kipcurry met aubergine  aziatisch\n",
       "\n",
       "[1065 rows x 3 columns]"
      ]
     },
     "execution_count": 86,
     "metadata": {},
     "output_type": "execute_result"
    }
   ],
   "source": [
    "df = df[df[\"tag\"].str.contains(\"mexicaans|aziatisch\") == True]\n",
    "df"
   ]
  },
  {
   "cell_type": "markdown",
   "id": "786121e3",
   "metadata": {},
   "source": [
    "# Verschillende modellen proberen"
   ]
  },
  {
   "cell_type": "code",
   "execution_count": null,
   "id": "f53ec52b",
   "metadata": {},
   "outputs": [],
   "source": [
    "X = \n",
    "y = \n",
    "\n",
    "X_train, X_test, y_train, y_test = train_test_split(X, y, test_size = 0.2, random_state=42)"
   ]
  },
  {
   "cell_type": "markdown",
   "id": "0fab4a07",
   "metadata": {},
   "source": [
    "## Decision Tree Classifier"
   ]
  },
  {
   "cell_type": "code",
   "execution_count": null,
   "id": "9e4149f0",
   "metadata": {},
   "outputs": [],
   "source": [
    "DTC = tree.DecisionTreeClassifier(max_depth = 15).fit(X_train, y_train)\n",
    "DTC_y_pred =  DTC.predict(X_test)\n",
    "\n",
    "print(confusion_matrix(y_test, DTC_y_pred))\n",
    "print(classification_report(y_test, DTC_y_pred))"
   ]
  },
  {
   "cell_type": "markdown",
   "id": "7d240795",
   "metadata": {},
   "source": [
    "## K Nearest Neighbors"
   ]
  },
  {
   "cell_type": "code",
   "execution_count": 89,
   "id": "f6f4f0db",
   "metadata": {},
   "outputs": [
    {
     "ename": "SyntaxError",
     "evalue": "invalid syntax (3845660828.py, line 2)",
     "output_type": "error",
     "traceback": [
      "\u001b[0;36m  Cell \u001b[0;32mIn [89], line 2\u001b[0;36m\u001b[0m\n\u001b[0;31m    y = df.['tag'].values\u001b[0m\n\u001b[0m           ^\u001b[0m\n\u001b[0;31mSyntaxError\u001b[0m\u001b[0;31m:\u001b[0m invalid syntax\n"
     ]
    }
   ],
   "source": [
    "KNN = KNeighborsClassifier(n_neighbors=5).fit(X_train, y_train)\n",
    "\n",
    "print(confusion_matrix(y_test, KNN_y_pred))\n",
    "print(classification_report(y_test, KNN_y_pred))"
   ]
  },
  {
   "cell_type": "markdown",
   "id": "83741da7",
   "metadata": {},
   "source": [
    "## Logistic Regression"
   ]
  },
  {
   "cell_type": "code",
   "execution_count": null,
   "id": "ad4d6f2b",
   "metadata": {},
   "outputs": [],
   "source": [
    "LR = LogisticRegression(multi_class='multinomial', solver = 'lbfgs').fit(X_train, y_train)\n",
    "LR_y_pred =  LR.predict(X_test)\n",
    "\n",
    "print(confusion_matrix(y_test, LR_y_pred))\n",
    "print(classification_report(y_test, LR_y_pred))"
   ]
  }
 ],
 "metadata": {
  "kernelspec": {
   "display_name": "Python 3 (ipykernel)",
   "language": "python",
   "name": "python3"
  },
  "language_info": {
   "codemirror_mode": {
    "name": "ipython",
    "version": 3
   },
   "file_extension": ".py",
   "mimetype": "text/x-python",
   "name": "python",
   "nbconvert_exporter": "python",
   "pygments_lexer": "ipython3",
   "version": "3.9.13"
  }
 },
 "nbformat": 4,
 "nbformat_minor": 5
}
