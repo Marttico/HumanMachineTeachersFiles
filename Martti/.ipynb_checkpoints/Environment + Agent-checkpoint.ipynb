{
 "cells": [
  {
   "cell_type": "code",
   "execution_count": 6,
   "id": "cb87e460",
   "metadata": {},
   "outputs": [],
   "source": [
    "import numpy as np\n",
    "import pandas as pd\n",
    "import time\n",
    "from IPython.display import clear_output"
   ]
  },
  {
   "cell_type": "code",
   "execution_count": 9,
   "id": "038d8882",
   "metadata": {},
   "outputs": [],
   "source": [
    "Size = (2,2,3)\n",
    "\n",
    "c = np.zeros(Size, dtype=int)"
   ]
  },
  {
   "cell_type": "code",
   "execution_count": 18,
   "id": "17c4813a",
   "metadata": {},
   "outputs": [],
   "source": [
    "c[(0,1,0)] = 1"
   ]
  },
  {
   "cell_type": "code",
   "execution_count": 21,
   "id": "a048029b",
   "metadata": {},
   "outputs": [],
   "source": [
    "def addC(sp,pos,prio):\n",
    "    tmp = sp.copy()\n",
    "    if sp[pos] == 0:\n",
    "        tmp[pos] = prio\n",
    "    return tmp"
   ]
  },
  {
   "cell_type": "code",
   "execution_count": 23,
   "id": "e78c1e54",
   "metadata": {},
   "outputs": [
    {
     "data": {
      "text/plain": [
       "array([[[1, 9, 0],\n",
       "        [1, 0, 0]],\n",
       "\n",
       "       [[0, 0, 0],\n",
       "        [0, 0, 0]]])"
      ]
     },
     "execution_count": 23,
     "metadata": {},
     "output_type": "execute_result"
    }
   ],
   "source": [
    "addC(c,(0,0,1),9)"
   ]
  },
  {
   "cell_type": "code",
   "execution_count": null,
   "id": "04b5d078",
   "metadata": {},
   "outputs": [],
   "source": []
  }
 ],
 "metadata": {
  "kernelspec": {
   "display_name": "Python 3 (ipykernel)",
   "language": "python",
   "name": "python3"
  },
  "language_info": {
   "codemirror_mode": {
    "name": "ipython",
    "version": 3
   },
   "file_extension": ".py",
   "mimetype": "text/x-python",
   "name": "python",
   "nbconvert_exporter": "python",
   "pygments_lexer": "ipython3",
   "version": "3.9.13"
  }
 },
 "nbformat": 4,
 "nbformat_minor": 5
}
