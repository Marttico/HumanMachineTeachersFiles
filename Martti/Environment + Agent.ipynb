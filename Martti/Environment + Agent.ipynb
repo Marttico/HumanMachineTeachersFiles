{
 "cells": [
  {
   "cell_type": "code",
   "execution_count": 6,
   "id": "26108439",
   "metadata": {},
   "outputs": [],
   "source": [
    "import numpy as np\n",
    "import pandas as pd\n",
    "import time\n",
    "from IPython.display import clear_output"
   ]
  },
  {
   "cell_type": "code",
   "execution_count": 9,
   "id": "671b86dc",
   "metadata": {},
   "outputs": [],
   "source": [
    "Size = (2,2,3)\n",
    "\n",
    "c = np.zeros(Size, dtype=int)"
   ]
  },
  {
   "cell_type": "code",
   "execution_count": 18,
   "id": "4b5377ac",
   "metadata": {},
   "outputs": [],
   "source": [
    "c[(0,1,0)] = 1"
   ]
  },
  {
   "cell_type": "code",
   "execution_count": 37,
   "id": "bcfc28f5",
   "metadata": {},
   "outputs": [],
   "source": [
    "def addC(sp,pos,prio):\n",
    "    tmp = sp.copy()\n",
    "    if sp[pos] == 0 and np.logical_and(sp[pos[0],pos[1],:pos[2]] != 0):\n",
    "        tmp[pos] = prio\n",
    "    return tmp"
   ]
  },
  {
   "cell_type": "code",
   "execution_count": 39,
   "id": "aa724a9c",
   "metadata": {},
   "outputs": [
    {
     "ename": "IndexError",
     "evalue": "index 4 is out of bounds for axis 2 with size 3",
     "output_type": "error",
     "traceback": [
      "\u001b[0;31m---------------------------------------------------------------------------\u001b[0m",
      "\u001b[0;31mIndexError\u001b[0m                                Traceback (most recent call last)",
      "Cell \u001b[0;32mIn [39], line 1\u001b[0m\n\u001b[0;32m----> 1\u001b[0m c \u001b[38;5;241m=\u001b[39m \u001b[43maddC\u001b[49m\u001b[43m(\u001b[49m\u001b[43mc\u001b[49m\u001b[43m,\u001b[49m\u001b[43m(\u001b[49m\u001b[38;5;241;43m0\u001b[39;49m\u001b[43m,\u001b[49m\u001b[38;5;241;43m0\u001b[39;49m\u001b[43m,\u001b[49m\u001b[38;5;241;43m4\u001b[39;49m\u001b[43m)\u001b[49m\u001b[43m,\u001b[49m\u001b[38;5;241;43m9\u001b[39;49m\u001b[43m)\u001b[49m\n",
      "Cell \u001b[0;32mIn [37], line 3\u001b[0m, in \u001b[0;36maddC\u001b[0;34m(sp, pos, prio)\u001b[0m\n\u001b[1;32m      1\u001b[0m \u001b[38;5;28;01mdef\u001b[39;00m \u001b[38;5;21maddC\u001b[39m(sp,pos,prio):\n\u001b[1;32m      2\u001b[0m     tmp \u001b[38;5;241m=\u001b[39m sp\u001b[38;5;241m.\u001b[39mcopy()\n\u001b[0;32m----> 3\u001b[0m     \u001b[38;5;28;01mif\u001b[39;00m \u001b[43msp\u001b[49m\u001b[43m[\u001b[49m\u001b[43mpos\u001b[49m\u001b[43m]\u001b[49m \u001b[38;5;241m==\u001b[39m \u001b[38;5;241m0\u001b[39m \u001b[38;5;129;01mand\u001b[39;00m np\u001b[38;5;241m.\u001b[39mlogical_and(sp[pos[\u001b[38;5;241m0\u001b[39m],pos[\u001b[38;5;241m1\u001b[39m],:pos[\u001b[38;5;241m2\u001b[39m]] \u001b[38;5;241m!=\u001b[39m \u001b[38;5;241m0\u001b[39m):\n\u001b[1;32m      4\u001b[0m         tmp[pos] \u001b[38;5;241m=\u001b[39m prio\n\u001b[1;32m      5\u001b[0m     \u001b[38;5;28;01mreturn\u001b[39;00m tmp\n",
      "\u001b[0;31mIndexError\u001b[0m: index 4 is out of bounds for axis 2 with size 3"
     ]
    }
   ],
   "source": [
    "c = addC(c,(0,0,4),9)"
   ]
  },
  {
   "cell_type": "code",
   "execution_count": 36,
   "id": "c1ce28cb",
   "metadata": {},
   "outputs": [
    {
     "data": {
      "text/plain": [
       "array([ True,  True])"
      ]
     },
     "execution_count": 36,
     "metadata": {},
     "output_type": "execute_result"
    }
   ],
   "source": [
    "c[0,0,:2] != 0"
   ]
  },
  {
   "cell_type": "code",
   "execution_count": null,
   "id": "48a411f4",
   "metadata": {},
   "outputs": [],
   "source": []
  }
 ],
 "metadata": {
  "kernelspec": {
   "display_name": "Python 3 (ipykernel)",
   "language": "python",
   "name": "python3"
  },
  "language_info": {
   "codemirror_mode": {
    "name": "ipython",
    "version": 3
   },
   "file_extension": ".py",
   "mimetype": "text/x-python",
   "name": "python",
   "nbconvert_exporter": "python",
   "pygments_lexer": "ipython3",
   "version": "3.9.13"
  }
 },
 "nbformat": 4,
 "nbformat_minor": 5
}
