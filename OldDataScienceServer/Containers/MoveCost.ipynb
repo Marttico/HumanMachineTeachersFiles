{
 "cells": [
  {
   "cell_type": "code",
   "execution_count": 2,
   "id": "0f744348",
   "metadata": {},
   "outputs": [],
   "source": [
    "import pandas as pd\n",
    "import numpy as np"
   ]
  },
  {
   "cell_type": "code",
   "execution_count": 3,
   "id": "cf6c3a46",
   "metadata": {},
   "outputs": [
    {
     "name": "stdout",
     "output_type": "stream",
     "text": [
      "21422\n"
     ]
    }
   ],
   "source": [
    "class Container:\n",
    "    def __init__(self, containerID, containerString, gewicht):\n",
    "        self.containerID = containerID\n",
    "        self.containerString = containerString\n",
    "        self.gewicht = gewicht\n",
    "        \n",
    "c1 = Container(21422,\"Speelgoed\",50000)\n",
    "\n",
    "print(c1.containerID)"
   ]
  },
  {
   "cell_type": "code",
   "execution_count": 40,
   "id": "748c7806",
   "metadata": {},
   "outputs": [
    {
     "name": "stdout",
     "output_type": "stream",
     "text": [
      "[<__main__.Container object at 0x7fd9a75c7250>\n",
      " <__main__.Container object at 0x7fd9a75c7790>\n",
      " <__main__.Container object at 0x7fd9a75c7a30>]\n",
      "True\n"
     ]
    }
   ],
   "source": [
    "#MoveContainer from lot to lot\n",
    "lot1 = np.empty((10,10,6),dtype=Container)\n",
    "lot1[0,0,0] = Container(25034,\"Speelgoed\",2400)\n",
    "lot1[1,0,0] = Container(25034,\"Speelgoed\",2400)\n",
    "lot1[2,0,0] = Container(25034,\"Speelgoed\",2400)\n",
    "lot1[0,1,0] = Container(25034,\"Speelgoed\",2400)\n",
    "lot1[0,2,0] = Container(25034,\"Speelgoed\",2400)\n",
    "lot1[1,2,0] = Container(25034,\"Speelgoed\",2400)\n",
    "lot1[2,2,0] = Container(25034,\"Speelgoed\",2400)\n",
    "lot1[3,1,0] = Container(25034,\"Speelgoed\",2400)\n",
    "lot1[3,1,1] = Container(25034,\"Speelgoed\",2400)\n",
    "lot1[3,1,2] = Container(25034,\"Speelgoed\",2400)\n",
    "#lot1[1,0,1] = Container(25034,\"Speelgoed\",2400)\n",
    "lot2 = np.empty((10,10,5),dtype=Container)\n",
    "#TODO: Check if container is movable!\n",
    "def MoveContainer(l1,l2,pos1,pos2):\n",
    "    l2[pos2] = l1[pos1]\n",
    "    l1[pos1] = None\n",
    "\n",
    "#Recursive algorithm that checks if the given spot reaches the North Border (X = -1) (Not the fastest route, but at least it works)\n",
    "def ReachesNorth(lot,pos,cpd = {}):\n",
    "    if(pos[0] == -1 or pos[0] == lot.shape[0]):\n",
    "        #print(cpd)\n",
    "        return True\n",
    "    if(pos[1] >= lot.shape[1] or pos[1] < 0):\n",
    "        return False\n",
    "    \n",
    "    if(pos not in cpd.keys()):\n",
    "        cpd[pos] = True\n",
    "        if(np.all(lot[pos[0],pos[1],:] == None)):\n",
    "            North = ReachesNorth(lot,(pos[0]-1,pos[1],pos[2]),cpd = cpd)\n",
    "            South = ReachesNorth(lot,(pos[0]+1,pos[1],pos[2]),cpd = cpd)\n",
    "            East = ReachesNorth(lot,(pos[0],pos[1]+1,pos[2]),cpd = cpd)\n",
    "            West = ReachesNorth(lot,(pos[0],pos[1]-1,pos[2]),cpd = cpd)\n",
    "            #print(\"Pos(%i,%i,%i),%i,%i,%i,%i\"%(pos[0],pos[1],pos[2],North,South,East,West))\n",
    "\n",
    "            return North or South or East or West\n",
    "        else:\n",
    "           return False\n",
    "    else:\n",
    "       return False\n",
    "\n",
    "def isMovable(lot,pos):\n",
    "    #Check whether there's containers above the container we want to move\n",
    "    NoContainerOntop = np.all(lot[pos[0],pos[1],(pos[2]+1):] == None)\n",
    "    #Check whether spot north of the container is empty and reaches north.\n",
    "    ContainerNorthReachesNorth = ReachesNorth(lot,(pos[0]-1,pos[1],pos[2]))\n",
    "    #Check whether there's containers North of the container we want to move\n",
    "    return NoContainerOntop and ContainerNorthReachesNorth\n",
    "\n",
    "def isValidDestination(lot,pos):\n",
    "    print(lot[pos[0],pos[1],:(pos[2])])\n",
    "    if lot[pos[0],pos[1],pos[2]] == None:\n",
    "        ContainersUnder = np.all(lot[pos[0],pos[1],:(pos[2])] != None)\n",
    "    else:\n",
    "        ContainersUnder = True\n",
    "    return ContainersUnder\n",
    "##print(lot1[0,0,0])\n",
    "#MoveContainer(lot1,lot2,(0,0,0),(0,0,0))\n",
    "\n",
    "print(isValidDestination(lot1,(3,1,3)))\n",
    "#print(ReachesNorth(lot1,(0,10,5)))"
   ]
  },
  {
   "cell_type": "code",
   "execution_count": 5,
   "id": "518b08dd",
   "metadata": {},
   "outputs": [
    {
     "data": {
      "text/plain": [
       "True"
      ]
     },
     "execution_count": 5,
     "metadata": {},
     "output_type": "execute_result"
    }
   ],
   "source": [
    "empty_lot = np.empty((10,10,5),dtype=Container)\n",
    "empty_lot[0,0,0] = c1\n",
    "empty_lot[0,0,0].gewicht\n",
    "\n",
    "\n",
    "np.all(empty_lot[0,0,1:] == None)"
   ]
  },
  {
   "cell_type": "markdown",
   "id": "b3e54d95",
   "metadata": {},
   "source": [
    "# Old"
   ]
  },
  {
   "cell_type": "code",
   "execution_count": 91,
   "id": "f80b59d2",
   "metadata": {},
   "outputs": [
    {
     "name": "stdout",
     "output_type": "stream",
     "text": [
      "310\n",
      "251\n",
      "65\n",
      "3\n",
      "0\n",
      "0\n"
     ]
    }
   ],
   "source": [
    "PortSize = (20,20)\n",
    "StackPercentage = [0.8,0.8,0.3,0.1,0.1,0.1]\n",
    "\n",
    "portDFs = []\n",
    "for i in range(len(StackPercentage)):\n",
    "    portDFs.append(pd.DataFrame(data=np.random.rand(PortSize[0],PortSize[1]) < StackPercentage[i]))\n",
    "    if i != 0:\n",
    "        portDFs[i] = portDFs[i] & portDFs[i-1]\n",
    "        \n",
    "    print((portDFs[i][portDFs[i] == True]).count().sum())"
   ]
  },
  {
   "cell_type": "code",
   "execution_count": null,
   "id": "0d398171",
   "metadata": {},
   "outputs": [],
   "source": []
  }
 ],
 "metadata": {
  "kernelspec": {
   "display_name": "Python 3 (ipykernel)",
   "language": "python",
   "name": "python3"
  },
  "language_info": {
   "codemirror_mode": {
    "name": "ipython",
    "version": 3
   },
   "file_extension": ".py",
   "mimetype": "text/x-python",
   "name": "python",
   "nbconvert_exporter": "python",
   "pygments_lexer": "ipython3",
   "version": "3.9.13"
  }
 },
 "nbformat": 4,
 "nbformat_minor": 5
}
