{
 "cells": [
  {
   "cell_type": "code",
   "execution_count": null,
   "id": "1d4775e5",
   "metadata": {},
   "outputs": [],
   "source": [
    "#Scores board based on priority :)\n",
    "def scoreEnvironment(Environment):\n",
    "    result = 0\n",
    "    for x in range(Environment.shape[0]):\n",
    "        for y in range(Environment.shape[1]):\n",
    "            for z in range(Environment.shape[2]):\n",
    "                if(Environment[x,y,z] == 'H'):\n",
    "                    #result += (Environment[x,y,z+1:] == 'L').sum()\n",
    "                    north = (Environment[x,y:,:] == 'L').sum()\n",
    "                    south = (Environment[x,:y+1,:] == 'L').sum()\n",
    "                    \n",
    "                    result += -min(north,south)\n",
    "    return result\n",
    "\n",
    "#Returns cleared environment\n",
    "def clearEnvironment(Environment):\n",
    "    return np.array([[['0'] * Size[2]] * Size[1]] * Size[0])\n",
    "\n",
    "#Generate status of board in Boolean array\n",
    "def GenerateStatusDataset(Environment,dataType):\n",
    "    return np.concatenate([np.array([dataType == 'H']),(Environment == 'L').flatten(), (Environment == 'H').flatten(),(Environment == '0').flatten()])"
   ]
  },
  {
   "cell_type": "code",
   "execution_count": null,
   "id": "925b61f2",
   "metadata": {},
   "outputs": [],
   "source": []
  },
  {
   "cell_type": "code",
   "execution_count": null,
   "id": "14aebf4a",
   "metadata": {},
   "outputs": [],
   "source": [
    "import torch as T\n",
    "import torch.nn as nn\n",
    "import torch.nn.functional as F\n",
    "import torch.optim as optim\n",
    "import matplotlib.pyplot as plt"
   ]
  },
  {
   "cell_type": "code",
   "execution_count": null,
   "id": "2951620c",
   "metadata": {},
   "outputs": [],
   "source": []
  },
  {
   "cell_type": "code",
   "execution_count": null,
   "id": "6a88b2b4",
   "metadata": {},
   "outputs": [],
   "source": [
    "#Fill randomly\n",
    "for x in range(Size[0]):\n",
    "    for y in range(Size[1]):\n",
    "        for z in range(Size[2]):\n",
    "            AddContainer(Speelveld,Size,np.random.choice(['L','H']),x,y,z)"
   ]
  },
  {
   "cell_type": "code",
   "execution_count": null,
   "id": "ad140085",
   "metadata": {},
   "outputs": [],
   "source": [
    "\n",
    "Speelveld = clearEnvironment(Speelveld)\n",
    "\n",
    "#REPLACE WITH NEURAL NETWORK :)\n",
    "for x in range(Size[0]):\n",
    "    for y in range(Size[1]):\n",
    "        for z in range(Size[2]):\n",
    "            AddContainer(Speelveld,Size,np.random.choice(['L','H']),x,y,z)\n",
    "            \n",
    "print(scoreEnvironment(Speelveld))\n",
    "\n",
    "Speelveld"
   ]
  },
  {
   "cell_type": "code",
   "execution_count": null,
   "id": "919a1086",
   "metadata": {},
   "outputs": [],
   "source": [
    "Speelveld = clearEnvironment(Speelveld)\n",
    "for i in range(10):\n",
    "    AddContainer(Speelveld,Size,np.random.choice(['L','H']),np.random.randint(0,Size[0]),np.random.randint(0,Size[1]),np.random.randint(0,Size[2]))\n",
    "Speelveld"
   ]
  },
  {
   "cell_type": "markdown",
   "id": "15ddac56",
   "metadata": {},
   "source": [
    "# mijn code idee/poging"
   ]
  },
  {
   "cell_type": "markdown",
   "id": "1f394f86",
   "metadata": {},
   "source": [
    "- controles v\n",
    "- speelveld v\n",
    "- reinfocement learning \n",
    "- agent "
   ]
  },
  {
   "cell_type": "code",
   "execution_count": 25,
   "id": "b4dabe65",
   "metadata": {},
   "outputs": [],
   "source": [
    "import numpy as np \n",
    "import random"
   ]
  },
  {
   "cell_type": "markdown",
   "id": "9b370cdc",
   "metadata": {},
   "source": [
    "### Speelveld"
   ]
  },
  {
   "cell_type": "code",
   "execution_count": 81,
   "id": "2fa20a24",
   "metadata": {},
   "outputs": [],
   "source": [
    "#container op (1,2,0) = speelveld[0][1][1][1]\n",
    "size = (3,3,2)\n",
    "speelveld = np.array([([( [['0'] * size[2]]) * size[1] ]) * size[0] ]).astype(object)"
   ]
  },
  {
   "cell_type": "markdown",
   "id": "8a957078",
   "metadata": {},
   "source": [
    "### Controles"
   ]
  },
  {
   "cell_type": "code",
   "execution_count": 78,
   "id": "60a7a12b",
   "metadata": {},
   "outputs": [],
   "source": [
    "def legal_move(x,y,z):\n",
    "    #later pad heen\n",
    "  \n",
    "    #max hoogte\n",
    "    if z > size[2] - 1:\n",
    "        print('Max hoogte overstreden, zet de container ergens anders neer')\n",
    "        return False \n",
    "    \n",
    "    #buiten lot\n",
    "    if x < 0 or x >= size[0] or y < 0 or y >= size[1]:\n",
    "        print(\"Container staat niet in het lot\")\n",
    "        return False \n",
    "    \n",
    "    #staat al een container\n",
    "    if speelveld[0][x][y][z] != '0':\n",
    "        print(\"Er staat al een container\")\n",
    "        return False\n",
    "    \n",
    "    #container zweeft niet\n",
    "    if not speelveld[0][x][y][:z].all() != '0':\n",
    "        print(\"Container zweeft\")\n",
    "        return False \n",
    "    \n",
    "    #container in het midden \n",
    "    if y-1 != -1 and y+1 != size[1]:\n",
    "        if speelveld[0][x][y-1][0] != '0' and speelveld[0][x][y+1][0] != '0':\n",
    "            print(\"Container staat in het midden\")\n",
    "            return False \n",
    "    \n",
    "    return True  "
   ]
  },
  {
   "cell_type": "markdown",
   "id": "a1b3cecb",
   "metadata": {},
   "source": [
    "### Container plaatsen"
   ]
  },
  {
   "cell_type": "code",
   "execution_count": 79,
   "id": "06e851be",
   "metadata": {},
   "outputs": [],
   "source": [
    "def place_container(x,y,z,prio):\n",
    "    if legal_move(x,y,z):\n",
    "        speelveld[0][x][y][z] = prio\n",
    "        speelveld\n",
    "    else:\n",
    "        print(\"Mag niet\")\n",
    "        return False "
   ]
  },
  {
   "cell_type": "markdown",
   "id": "b9ab42d4",
   "metadata": {},
   "source": [
    "### Container data"
   ]
  },
  {
   "cell_type": "code",
   "execution_count": 80,
   "id": "489e23f1",
   "metadata": {},
   "outputs": [],
   "source": [
    "# container data\n",
    "aantal_containers = 9\n",
    "prio = ['H', 'L']\n",
    "container_id = []\n",
    "container_prio = []\n",
    "\n",
    "for c in range(aantal_containers):\n",
    "    container_id.append(c)\n",
    "    container_prio_index = random.randrange(len(prio))\n",
    "    container_prio.append(prio[container_prio_index])\n",
    "\n",
    "container_data = np.column_stack((container_id,container_prio))"
   ]
  },
  {
   "cell_type": "markdown",
   "id": "8b478788",
   "metadata": {},
   "source": [
    "## probeersel"
   ]
  },
  {
   "cell_type": "code",
   "execution_count": 82,
   "id": "3ab18534",
   "metadata": {},
   "outputs": [
    {
     "name": "stdout",
     "output_type": "stream",
     "text": [
      "Container staat in het midden\n",
      "Mag niet\n",
      "Container staat in het midden\n",
      "Mag niet\n",
      "Container staat in het midden\n",
      "Mag niet\n",
      "Container staat in het midden\n",
      "Mag niet\n",
      "Container staat in het midden\n",
      "Mag niet\n",
      "Container staat in het midden\n",
      "Mag niet\n"
     ]
    },
    {
     "data": {
      "text/plain": [
       "array([[[['L', '0'],\n",
       "         ['L', '0'],\n",
       "         ['L', 'H']],\n",
       "\n",
       "        [['H', '0'],\n",
       "         ['H', '0'],\n",
       "         ['L', 'H']],\n",
       "\n",
       "        [['L', '0'],\n",
       "         ['L', '0'],\n",
       "         ['H', 'H']]]], dtype=object)"
      ]
     },
     "execution_count": 82,
     "metadata": {},
     "output_type": "execute_result"
    }
   ],
   "source": [
    "speelveld = np.array([([( [['0'] * size[2]]) * size[1] ]) * size[0] ]).astype(object)\n",
    "for a in range(size[0]):\n",
    "    for c in range(size[2]):\n",
    "        for b in range(size[1]):\n",
    "            place_container(a,b,c,random.choice(container_data)[1] ) \n",
    "            \n",
    "speelveld"
   ]
  },
  {
   "cell_type": "code",
   "execution_count": null,
   "id": "cd068d44",
   "metadata": {},
   "outputs": [],
   "source": []
  },
  {
   "cell_type": "code",
   "execution_count": 83,
   "id": "11273f14",
   "metadata": {},
   "outputs": [
    {
     "ename": "ModuleNotFoundError",
     "evalue": "No module named 'gym'",
     "output_type": "error",
     "traceback": [
      "\u001b[0;31m---------------------------------------------------------------------------\u001b[0m",
      "\u001b[0;31mModuleNotFoundError\u001b[0m                       Traceback (most recent call last)",
      "Input \u001b[0;32mIn [83]\u001b[0m, in \u001b[0;36m<cell line: 4>\u001b[0;34m()\u001b[0m\n\u001b[1;32m      2\u001b[0m \u001b[38;5;28;01mimport\u001b[39;00m \u001b[38;5;21;01mrandom\u001b[39;00m\n\u001b[1;32m      3\u001b[0m \u001b[38;5;28;01mfrom\u001b[39;00m \u001b[38;5;21;01mIPython\u001b[39;00m\u001b[38;5;21;01m.\u001b[39;00m\u001b[38;5;21;01mdisplay\u001b[39;00m \u001b[38;5;28;01mimport\u001b[39;00m clear_output\n\u001b[0;32m----> 4\u001b[0m \u001b[38;5;28;01mimport\u001b[39;00m \u001b[38;5;21;01mgym\u001b[39;00m\n",
      "\u001b[0;31mModuleNotFoundError\u001b[0m: No module named 'gym'"
     ]
    }
   ],
   "source": [
    "import numpy as np\n",
    "import random\n",
    "from IPython.display import clear_output\n",
    "import gym"
   ]
  },
  {
   "cell_type": "code",
   "execution_count": null,
   "id": "7d14cc44",
   "metadata": {},
   "outputs": [],
   "source": []
  },
  {
   "cell_type": "code",
   "execution_count": null,
   "id": "da313e80",
   "metadata": {},
   "outputs": [],
   "source": []
  },
  {
   "cell_type": "code",
   "execution_count": null,
   "id": "7c88ad48",
   "metadata": {},
   "outputs": [],
   "source": []
  }
 ],
 "metadata": {
  "kernelspec": {
   "display_name": "Python 3 (ipykernel)",
   "language": "python",
   "name": "python3"
  },
  "language_info": {
   "codemirror_mode": {
    "name": "ipython",
    "version": 3
   },
   "file_extension": ".py",
   "mimetype": "text/x-python",
   "name": "python",
   "nbconvert_exporter": "python",
   "pygments_lexer": "ipython3",
   "version": "3.9.13"
  }
 },
 "nbformat": 4,
 "nbformat_minor": 5
}
