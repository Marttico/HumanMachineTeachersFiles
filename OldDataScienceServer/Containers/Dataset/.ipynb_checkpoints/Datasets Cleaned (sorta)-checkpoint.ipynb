{
 "cells": [
  {
   "cell_type": "code",
   "execution_count": 1,
   "id": "16a60a1f",
   "metadata": {},
   "outputs": [
    {
     "name": "stdout",
     "output_type": "stream",
     "text": [
      "actions.csv\t\t\t  handling.csv\tmarker.csv  stackentry.csv\r\n",
      "containerlocationinformation.csv  machine.csv\treadme.txt  stacks.csv\r\n"
     ]
    }
   ],
   "source": [
    "!ls /data/container"
   ]
  },
  {
   "cell_type": "code",
   "execution_count": 2,
   "id": "afae4afd",
   "metadata": {},
   "outputs": [
    {
     "name": "stdout",
     "output_type": "stream",
     "text": [
      " == Markers + Stacks ==\n",
      "Define the layout of the yard. All lengths and positions are defined in milimeters for a marker and a stack.\n",
      "A stack is a specific block on the terminal, and a marker is a place within that stack you can position a container.\n",
      "\n",
      "Based upon this information we can draw a mark for the yard.\n",
      "\n",
      " == Stack entry == \n",
      "This is a container placed in a specific stack. A stack entry is placed by a stackcorrection or handling. \n",
      "A stack correction is a hard mutation done by someone in the backoffice. A handling is an actual activity done by a crane / stacker / carrier.\n",
      "All stack entries with a put_mutation and without a pull mutation are currently in the yard.\n",
      "\n",
      " == handling == \n",
      "Alle movements of containers executed.\n",
      "\n",
      " == container location information ==\n",
      "Shows a bit more information about where a container was or went to. A handling has a from and a to containerlocation information.\n",
      "\n",
      " == actions ==\n",
      "Give information about the container which is transported.\n",
      "\n"
     ]
    }
   ],
   "source": [
    "with open('/data/container/readme.txt') as f:\n",
    "    contents = f.read()\n",
    "    print(contents)"
   ]
  },
  {
   "cell_type": "code",
   "execution_count": 44,
   "id": "750fb1e3",
   "metadata": {},
   "outputs": [],
   "source": [
    "import pandas as pd\n",
    "\n",
    "#Contains all the actions that get executed (and the status of those actions)\n",
    "acti = pd.read_csv('/data/container/actions.csv').dropna(axis=1, how='all')\n",
    "\n",
    "#Contains all the locations of the containers.\n",
    "#NOTE: Er zijn 4 plekken waar de containers kunnen staan. (Op de Truck, Yard Terminal, Simple Terminal en Vessel)\n",
    "#      Dus het lijkt alsof de data gemixt is. Sommige data wordt niet gebruikt voor verschillende types dtypes.\n",
    "#      Bij SimpleTerminal staat er in de Cachedstring de locatie van de container.\n",
    "#      Ik weet niet wat bay, tier en row betekenen. Dit zouden we nog moeten uitzoeken.\n",
    "#      \n",
    "con_loc = pd.read_csv('/data/container/containerlocationinformation.csv').dropna(axis=1, how='all')\n",
    "\n",
    "#Contains all the movements of the containers that have been executed. This is why hand is larger than acti.\n",
    "#NOTE: In de kolom jobsposition zit een epoch timestamp.\n",
    "hand = pd.read_csv('/data/container/handling.csv',low_memory=False).dropna(axis=1, how='all')\n",
    "\n",
    "#Contains the machinery that's available with a lot of info about this machinery.\n",
    "#NOTE: Sommige machines zijn dus in andere landen. De longitude en latitude lijken ver van Nederland te zitten bij sommige machinery.\n",
    "#      Verder zijn er ook sommige machines die gedelete zijn.\n",
    "mach = pd.read_csv('/data/container/machine.csv').dropna(axis=1, how='all')\n",
    "\n",
    "#Contains markers showing what dimensions the container stacks and lots have. I'm not entirely sure how it works.\n",
    "mark = pd.read_csv('/data/container/marker.csv').dropna(axis=1, how='all')\n",
    "\n",
    "#Contains some kinda info about the stacks. \n",
    "stack_try = pd.read_csv('/data/container/stackentry.csv').dropna(axis=1, how='all')\n",
    "\n",
    "#Contains some kinda info about the stacks.\n",
    "stacks = pd.read_csv('/data/container/stacks.csv').dropna(axis=1, how='all')\n",
    "\n",
    "\n",
    "\n"
   ]
  },
  {
   "cell_type": "markdown",
   "id": "3c6f201c",
   "metadata": {},
   "source": [
    "# Data cleaning kolommen geen NaN"
   ]
  },
  {
   "cell_type": "code",
   "execution_count": 26,
   "id": "69c55454",
   "metadata": {
    "scrolled": true
   },
   "outputs": [],
   "source": [
    "#blijft hetzelfde\n",
    "acti = acti\n",
    "con_loc = con_loc\n",
    "\n",
    "#kolommen waarin alles dezelfde waarde heeft of minder dan 5 ingevulde waardes in totaal \n",
    "hand = hand.drop(['connectedassigntosameexecutor','hasalternatives','planneddate','connectedbubble'], axis= 1)\n",
    "mach = mach.drop(['showtabssearch','showtabstruck','showtabstrain','showtabsmoves','showmenucockpit','showmenugate','showmenudamage','enableallowtrainmoves','limitpositionsbyrestrictedyardregions','defaultmarker_id','yard_id','showmenusettings'], axis = 1)\n",
    "mark = mark.drop(['depth', 'stackdesignationpriority','deletedon'],axis = 1)\n",
    "stack_try = stack_try.drop(['depth','container_relative_marker_position','container_height'], axis = 1)\n",
    "stacks = stacks.drop(['maxheight','yard_id','defaultrelativemarkerposition','opentop','openbottom'], axis = 1)\n"
   ]
  }
 ],
 "metadata": {
  "kernelspec": {
   "display_name": "Python 3 (ipykernel)",
   "language": "python",
   "name": "python3"
  },
  "language_info": {
   "codemirror_mode": {
    "name": "ipython",
    "version": 3
   },
   "file_extension": ".py",
   "mimetype": "text/x-python",
   "name": "python",
   "nbconvert_exporter": "python",
   "pygments_lexer": "ipython3",
   "version": "3.9.13"
  }
 },
 "nbformat": 4,
 "nbformat_minor": 5
}
