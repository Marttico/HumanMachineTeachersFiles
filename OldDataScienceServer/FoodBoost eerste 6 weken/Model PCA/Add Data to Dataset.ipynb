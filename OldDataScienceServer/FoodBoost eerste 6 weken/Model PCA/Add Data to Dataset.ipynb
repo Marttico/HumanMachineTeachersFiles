{
 "cells": [
  {
   "cell_type": "code",
   "execution_count": 4,
   "id": "408a587b",
   "metadata": {},
   "outputs": [],
   "source": [
    "#Importing packages\n",
    "import numpy as np\n",
    "import pandas as pd\n",
    "import matplotlib.pyplot as plt\n",
    "from sklearn.linear_model import LinearRegression\n",
    "from sklearn.model_selection import train_test_split"
   ]
  },
  {
   "cell_type": "code",
   "execution_count": null,
   "id": "7995920e",
   "metadata": {},
   "outputs": [],
   "source": []
  },
  {
   "cell_type": "code",
   "execution_count": 5,
   "id": "a2225120",
   "metadata": {},
   "outputs": [],
   "source": [
    "#Import Dataset WITHOUT index column\n",
    "df = pd.read_csv(\"PCADataset.csv\").iloc[:,1:]\n",
    "\n",
    "#Execute SVD on the dataset\n",
    "svd = np.linalg.svd(df, full_matrices=False)\n",
    "\n",
    "#Create numpy arrays variables of SVD output\n",
    "m = np.linalg.matrix_rank(df) #Set rank\n",
    "C = svd[0][:,:m] * svd[1][:m] #Define C\n",
    "V = svd[2][:m,:]              #Define V\n",
    "\n",
    "#Create DataFrame versions of numpy arrays.\n",
    "Vdf = pd.DataFrame(data=V,columns=df.columns)\n",
    "Cdf = pd.DataFrame(data=C)\n",
    "newRow = pd.DataFrame(columns=df.columns)#Add recipes for new user."
   ]
  },
  {
   "cell_type": "code",
   "execution_count": 6,
   "id": "aa02f005",
   "metadata": {
    "scrolled": true
   },
   "outputs": [],
   "source": [
    "\n",
    "\n",
    "#Generate new row to simulate new data.\n",
    "i_recipes = pd.DataFrame(data=np.dot(np.random.randn(1,m),V),columns=df.columns) #+ pd.DataFrame(data=np.dot(np.random.randn(1,m),V)*0.05,columns=df.columns)\n",
    "\n",
    "#Choose a rank amount of recipes to observe.\n",
    "for i in np.random.choice(i_recipes.columns,size=m):\n",
    "    newRow.loc[:,i] = i_recipes.loc[:,i]"
   ]
  },
  {
   "cell_type": "code",
   "execution_count": 7,
   "id": "984eabc5",
   "metadata": {},
   "outputs": [
    {
     "data": {
      "text/html": [
       "<div>\n",
       "<style scoped>\n",
       "    .dataframe tbody tr th:only-of-type {\n",
       "        vertical-align: middle;\n",
       "    }\n",
       "\n",
       "    .dataframe tbody tr th {\n",
       "        vertical-align: top;\n",
       "    }\n",
       "\n",
       "    .dataframe thead th {\n",
       "        text-align: right;\n",
       "    }\n",
       "</style>\n",
       "<table border=\"1\" class=\"dataframe\">\n",
       "  <thead>\n",
       "    <tr style=\"text-align: right;\">\n",
       "      <th></th>\n",
       "      <th>Hollandse bonenstoof met boerenkool</th>\n",
       "      <th>Kung po beef</th>\n",
       "      <th>Lovely by Lucy’s garnalensalade</th>\n",
       "      <th>Mediterrane rundvleesragout met polenta</th>\n",
       "      <th>Mexicaanse pizza</th>\n",
       "      <th>Wokschotel met puntpaprika en kibbeling</th>\n",
       "    </tr>\n",
       "  </thead>\n",
       "  <tbody>\n",
       "    <tr>\n",
       "      <th>0</th>\n",
       "      <td>0.028312</td>\n",
       "      <td>-0.004475</td>\n",
       "      <td>0.025799</td>\n",
       "      <td>0.001882</td>\n",
       "      <td>-0.000287</td>\n",
       "      <td>-0.053529</td>\n",
       "    </tr>\n",
       "  </tbody>\n",
       "</table>\n",
       "</div>"
      ],
      "text/plain": [
       "   Hollandse bonenstoof met boerenkool  Kung po beef  \\\n",
       "0                             0.028312     -0.004475   \n",
       "\n",
       "   Lovely by Lucy’s garnalensalade  Mediterrane rundvleesragout met polenta  \\\n",
       "0                         0.025799                                 0.001882   \n",
       "\n",
       "   Mexicaanse pizza  Wokschotel met puntpaprika en kibbeling  \n",
       "0         -0.000287                                -0.053529  "
      ]
     },
     "execution_count": 7,
     "metadata": {},
     "output_type": "execute_result"
    }
   ],
   "source": [
    "newRow.dropna(axis=1)"
   ]
  },
  {
   "cell_type": "code",
   "execution_count": 8,
   "id": "2fd2f2a2",
   "metadata": {},
   "outputs": [],
   "source": [
    "#Data Preperation\n",
    "V_no_nan = Vdf.loc[:,newRow.dropna(axis=1).columns]\n",
    "X_no_nan = df.loc[:,newRow.dropna(axis=1).columns]\n",
    "V_nn_fl = V_no_nan.to_numpy().flatten()\n",
    "\n",
    "#Create list of features\n",
    "Xlist = []\n",
    "for i in X_no_nan.transpose():\n",
    "    Xlist.append(np.concatenate([X_no_nan.loc[i,:].to_numpy().flatten() , V_nn_fl]))"
   ]
  },
  {
   "cell_type": "markdown",
   "id": "a011340f",
   "metadata": {},
   "source": [
    "## Creation and testing of the Linear Regressor"
   ]
  },
  {
   "cell_type": "code",
   "execution_count": 9,
   "id": "78272a39",
   "metadata": {},
   "outputs": [
    {
     "name": "stdout",
     "output_type": "stream",
     "text": [
      "The model scored a whopping 1.000000 score!!\n"
     ]
    }
   ],
   "source": [
    "##Split Test and Train data\n",
    "X_train, X_test,y_train, y_test = train_test_split(Xlist,C,test_size=0.05)\n",
    "\n",
    "#Create and fit Linear Regressor\n",
    "regr = LinearRegression().fit(Xlist, C)\n",
    "print(\"The model scored a whopping %f score!!\"%(regr.score(X_test,y_test)))"
   ]
  },
  {
   "cell_type": "code",
   "execution_count": 10,
   "id": "7243bfe4",
   "metadata": {},
   "outputs": [
    {
     "ename": "TypeError",
     "evalue": "fit() missing 1 required positional argument: 'y'",
     "output_type": "error",
     "traceback": [
      "\u001b[0;31m---------------------------------------------------------------------------\u001b[0m",
      "\u001b[0;31mTypeError\u001b[0m                                 Traceback (most recent call last)",
      "Input \u001b[0;32mIn [10]\u001b[0m, in \u001b[0;36m<cell line: 1>\u001b[0;34m()\u001b[0m\n\u001b[0;32m----> 1\u001b[0m regr2 \u001b[38;5;241m=\u001b[39m \u001b[43mLinearRegression\u001b[49m\u001b[43m(\u001b[49m\u001b[43m)\u001b[49m\u001b[38;5;241;43m.\u001b[39;49m\u001b[43mfit\u001b[49m\u001b[43m(\u001b[49m\u001b[43mV_nn_fl\u001b[49m\u001b[43m)\u001b[49m\n",
      "\u001b[0;31mTypeError\u001b[0m: fit() missing 1 required positional argument: 'y'"
     ]
    }
   ],
   "source": [
    "regr2 = LinearRegression().fit(V_nn_fl)"
   ]
  },
  {
   "cell_type": "code",
   "execution_count": 11,
   "id": "b4b1ed51",
   "metadata": {},
   "outputs": [
    {
     "data": {
      "text/html": [
       "<div>\n",
       "<style scoped>\n",
       "    .dataframe tbody tr th:only-of-type {\n",
       "        vertical-align: middle;\n",
       "    }\n",
       "\n",
       "    .dataframe tbody tr th {\n",
       "        vertical-align: top;\n",
       "    }\n",
       "\n",
       "    .dataframe thead th {\n",
       "        text-align: right;\n",
       "    }\n",
       "</style>\n",
       "<table border=\"1\" class=\"dataframe\">\n",
       "  <thead>\n",
       "    <tr style=\"text-align: right;\">\n",
       "      <th></th>\n",
       "      <th>Andijviestamppot met gebakken salami</th>\n",
       "      <th>Libanese wraps met appel-koolsalade</th>\n",
       "      <th>Plaattaart met gegrilde groenten en witte kaas</th>\n",
       "      <th>Zalmspies met sojaglaze van de BBQ</th>\n",
       "      <th>&amp;amp;Suus’ buik-weg-salade</th>\n",
       "      <th>'Burrito'-schotel met knapperige tortillapuntjes</th>\n",
       "      <th>'Foeyonghai' met bami</th>\n",
       "      <th>'Kapsalon' met&amp;nbsp;vegetarische&amp;nbsp;kipshoarma en salade</th>\n",
       "      <th>'Leeuwenkoppen' van gehakt en kool</th>\n",
       "      <th>'Marokkaanse' lamsbout</th>\n",
       "      <th>...</th>\n",
       "      <th>Zwarte-bonenstoof met feta</th>\n",
       "      <th>Zwartebonen-rijstsalade met avocado &amp;amp; witte kaas</th>\n",
       "      <th>Zwartebonenchili met kip</th>\n",
       "      <th>Zwartebonenstoof met tofu en gordita's</th>\n",
       "      <th>Zweedse balletjes</th>\n",
       "      <th>Zweedse gehaktballetjes</th>\n",
       "      <th>Zweedse gehaktballetjes met room</th>\n",
       "      <th>Zweedse vegaballetjes met aardappel &amp;amp; broccoli</th>\n",
       "      <th>Zwitserse kaasfondue</th>\n",
       "      <th>‘Nasi’ met Hollandse soepgroente</th>\n",
       "    </tr>\n",
       "  </thead>\n",
       "  <tbody>\n",
       "  </tbody>\n",
       "</table>\n",
       "<p>0 rows × 4616 columns</p>\n",
       "</div>"
      ],
      "text/plain": [
       "Empty DataFrame\n",
       "Columns: [ Andijviestamppot met gebakken salami,  Libanese wraps met appel-koolsalade,  Plaattaart met gegrilde groenten en witte kaas,  Zalmspies met sojaglaze van de BBQ, &amp;Suus’ buik-weg-salade, 'Burrito'-schotel met knapperige tortillapuntjes, 'Foeyonghai' met bami, 'Kapsalon' met&nbsp;vegetarische&nbsp;kipshoarma en salade, 'Leeuwenkoppen' van gehakt en kool, 'Marokkaanse' lamsbout, 'Mexicaanse' bonensoep met quesadillas, 'Pho' met mihoen en ribeye, 'Pokébowl' met meloen, mango en avocado, 'Roti' met vegetarische rulstukjes, bonen &amp; ei , 'The day after'-ontbijt, 10 minutennasi met ham en gebakken ei, 2x gazpacho, 3 tosti's met graskaas, Aardappel, pastinaak en biet met worst , Aardappel-bietenrösti met vega-kipragout, Aardappel-broccolischotel, Aardappel-broccolisoep met volkoren kruiden crostini, Aardappel-groentecurry, Aardappel-hamsalade, Aardappel-kip-groenteschotel met notensalade, Aardappel-preisoep, Aardappel-preisoep met geitenkaascroutons, Aardappel-preisoep met warmgerookte zalm, Aardappel-preitaart, Aardappel-tonijnsalade met asperges, Aardappel-wortelstoof, Aardappelbolognesegratin, Aardappelcurry met wokgroente, Aardappelen à la niçoise, Aardappelgratin en witlof-bietensalade met runderworst, Aardappelomelet met tomaten, Aardappelpartjes uit de oven met chorizo , Aardappelpom van Judith Cyrus, Aardappelpuree met bieslook, snijbonen, kibbeling en ravigottesaus, Aardappelpuree met cheddar, bloemkool &amp; groenteballetjes, Aardappelpuree met kaas, groenten en kaaskoekjes, Aardappelpuree met witlof, ham en kaas, Aardappelsalade met biet en zure haring, Aardappelsalade met bietjes en zalm, Aardappelsalade met doperwten, Aardappelsalade met gerookte zalm, Aardappelsalade met groene kruiden, Aardappelsalade met lamsham en lentegroenten, Aardappelsalade met tonijn, Aardappelsalade met witte asperges en zalm, Aardappelsalade op z'n Italiaans, Aardappeltjes met gegrilde asperges, Aardappeltjes uit de oven met kip en broccoli, Aardappeltortilla met aioli en salsa, Aardappeltortilla met snijbonen, Aardappeltortilla tomaat en tonijn, Aardbeienjam maken, Aardbeienscones, Aardperenstamp met pruimen, Aard­ap­pel­prei­soep met zalm­bal­le­tjes, Afghaanse pompoenstoof, Ajam pangang, Alain Carons kip met mosterd-gembersaus, pilav rijst en gestoofde prei, Alain Carons niçoise de legumes, Amayzines fruitige vegasalade, American burger met coleslaw, American pancakes met appelcompote en spek, American pancakes met blauwe bessen en ahornsiroop, American pancakes met fruit en noten, American style taco's, Amerikaanse caesar salad, Andijviesalade met oude kaas, Andijviestamppot, Andijviestamppot met Gelderse rookworst, Andijviestamppot met groenteballetjes, Andijviestamppot met radijs en mosterd-speklapjes, Andijviestamppot met tomaat en radicchio, Andijviestamppot met tomaatjes en zalm, Andijviestamppot met zalm, Andijviestamppot met zoete aardappel en kalkoenfilet, Anna Rikes courgettesalade, Annemerels verleidelijke salade , Annics rijke caesarsalade, Ansjovisrollade, Antonio Carluccio's risotto met voorjaarsgroenten, Antonio Carluccio’s pasta en doperwten, Appel-spruitenstamppot met braadworst , Appeljachtschotel, Appelringpannenkoeken, Appeltaarttosti van Leonie ter Veld, Arabisch gekruide kip met ovengroenten, Arepa's met gehakt en kaas, Arepas gevuld met pittig draadjesvlees en ui, Arepas met smokey kip, chorizo en cheddar, Argentijnse kipburger met blauwaderkaas, Arrabbiata met paprika en wodka, Asperge-erwtenfrittata met selderijolie, Asperge-krielsalade à la flamande, Asperge-zalmspiesen met wasabimayo, Aspergebroccoli met  sesam &amp; gepocheerde kip met sambal, ...]\n",
       "Index: []\n",
       "\n",
       "[0 rows x 4616 columns]"
      ]
     },
     "execution_count": 11,
     "metadata": {},
     "output_type": "execute_result"
    }
   ],
   "source": [
    "newRow.dropna()"
   ]
  },
  {
   "cell_type": "markdown",
   "id": "211c4be5",
   "metadata": {},
   "source": [
    "## Prediction for new user."
   ]
  },
  {
   "cell_type": "code",
   "execution_count": 12,
   "id": "20428fee",
   "metadata": {
    "scrolled": true
   },
   "outputs": [
    {
     "data": {
      "text/plain": [
       "(6, 42)"
      ]
     },
     "execution_count": 12,
     "metadata": {},
     "output_type": "execute_result"
    }
   ],
   "source": [
    "regr.coef_.shape"
   ]
  },
  {
   "cell_type": "code",
   "execution_count": 13,
   "id": "651dd1f3",
   "metadata": {
    "scrolled": true
   },
   "outputs": [
    {
     "data": {
      "text/html": [
       "<div>\n",
       "<style scoped>\n",
       "    .dataframe tbody tr th:only-of-type {\n",
       "        vertical-align: middle;\n",
       "    }\n",
       "\n",
       "    .dataframe tbody tr th {\n",
       "        vertical-align: top;\n",
       "    }\n",
       "\n",
       "    .dataframe thead th {\n",
       "        text-align: right;\n",
       "    }\n",
       "</style>\n",
       "<table border=\"1\" class=\"dataframe\">\n",
       "  <thead>\n",
       "    <tr style=\"text-align: right;\">\n",
       "      <th></th>\n",
       "      <th>Andijviestamppot met gebakken salami</th>\n",
       "      <th>Libanese wraps met appel-koolsalade</th>\n",
       "      <th>Plaattaart met gegrilde groenten en witte kaas</th>\n",
       "      <th>Zalmspies met sojaglaze van de BBQ</th>\n",
       "      <th>&amp;amp;Suus’ buik-weg-salade</th>\n",
       "      <th>'Burrito'-schotel met knapperige tortillapuntjes</th>\n",
       "      <th>'Foeyonghai' met bami</th>\n",
       "      <th>'Kapsalon' met&amp;nbsp;vegetarische&amp;nbsp;kipshoarma en salade</th>\n",
       "      <th>'Leeuwenkoppen' van gehakt en kool</th>\n",
       "      <th>'Marokkaanse' lamsbout</th>\n",
       "      <th>...</th>\n",
       "      <th>Zwarte-bonenstoof met feta</th>\n",
       "      <th>Zwartebonen-rijstsalade met avocado &amp;amp; witte kaas</th>\n",
       "      <th>Zwartebonenchili met kip</th>\n",
       "      <th>Zwartebonenstoof met tofu en gordita's</th>\n",
       "      <th>Zweedse balletjes</th>\n",
       "      <th>Zweedse gehaktballetjes</th>\n",
       "      <th>Zweedse gehaktballetjes met room</th>\n",
       "      <th>Zweedse vegaballetjes met aardappel &amp;amp; broccoli</th>\n",
       "      <th>Zwitserse kaasfondue</th>\n",
       "      <th>‘Nasi’ met Hollandse soepgroente</th>\n",
       "    </tr>\n",
       "  </thead>\n",
       "  <tbody>\n",
       "    <tr>\n",
       "      <th>0</th>\n",
       "      <td>-0.028652</td>\n",
       "      <td>-0.033515</td>\n",
       "      <td>-0.006335</td>\n",
       "      <td>-0.020395</td>\n",
       "      <td>-0.042516</td>\n",
       "      <td>0.060746</td>\n",
       "      <td>-0.01529</td>\n",
       "      <td>-0.011718</td>\n",
       "      <td>0.028627</td>\n",
       "      <td>-0.041687</td>\n",
       "      <td>...</td>\n",
       "      <td>-0.022167</td>\n",
       "      <td>-0.019281</td>\n",
       "      <td>-0.024242</td>\n",
       "      <td>-0.034394</td>\n",
       "      <td>0.004472</td>\n",
       "      <td>0.000167</td>\n",
       "      <td>0.01247</td>\n",
       "      <td>0.017252</td>\n",
       "      <td>-0.022624</td>\n",
       "      <td>0.027142</td>\n",
       "    </tr>\n",
       "  </tbody>\n",
       "</table>\n",
       "<p>1 rows × 4616 columns</p>\n",
       "</div>"
      ],
      "text/plain": [
       "    Andijviestamppot met gebakken salami  \\\n",
       "0                              -0.028652   \n",
       "\n",
       "    Libanese wraps met appel-koolsalade  \\\n",
       "0                             -0.033515   \n",
       "\n",
       "    Plaattaart met gegrilde groenten en witte kaas  \\\n",
       "0                                        -0.006335   \n",
       "\n",
       "    Zalmspies met sojaglaze van de BBQ  &amp;Suus’ buik-weg-salade  \\\n",
       "0                            -0.020395                   -0.042516   \n",
       "\n",
       "   'Burrito'-schotel met knapperige tortillapuntjes  'Foeyonghai' met bami  \\\n",
       "0                                          0.060746               -0.01529   \n",
       "\n",
       "   'Kapsalon' met&nbsp;vegetarische&nbsp;kipshoarma en salade  \\\n",
       "0                                          -0.011718            \n",
       "\n",
       "   'Leeuwenkoppen' van gehakt en kool  'Marokkaanse' lamsbout  ...  \\\n",
       "0                            0.028627               -0.041687  ...   \n",
       "\n",
       "   Zwarte-bonenstoof met feta   \\\n",
       "0                    -0.022167   \n",
       "\n",
       "   Zwartebonen-rijstsalade met avocado &amp; witte kaas  \\\n",
       "0                                          -0.019281      \n",
       "\n",
       "   Zwartebonenchili met kip  Zwartebonenstoof met tofu en gordita's  \\\n",
       "0                 -0.024242                               -0.034394   \n",
       "\n",
       "   Zweedse balletjes  Zweedse gehaktballetjes  \\\n",
       "0           0.004472                 0.000167   \n",
       "\n",
       "   Zweedse gehaktballetjes met room  \\\n",
       "0                           0.01247   \n",
       "\n",
       "   Zweedse vegaballetjes met aardappel &amp; broccoli  Zwitserse kaasfondue  \\\n",
       "0                                           0.017252              -0.022624   \n",
       "\n",
       "   ‘Nasi’ met Hollandse soepgroente  \n",
       "0                          0.027142  \n",
       "\n",
       "[1 rows x 4616 columns]"
      ]
     },
     "execution_count": 13,
     "metadata": {},
     "output_type": "execute_result"
    }
   ],
   "source": [
    "#Calculate the C variables for the new user\n",
    "c_i = regr.predict([np.concatenate([newRow.dropna(axis=1).to_numpy().flatten() , V_nn_fl])])\n",
    "\n",
    "#Calculate new users unobserved reviews\n",
    "pd.DataFrame(np.dot(c_i,V),columns=df.columns)"
   ]
  },
  {
   "cell_type": "code",
   "execution_count": 21,
   "id": "4e0d45c8",
   "metadata": {},
   "outputs": [],
   "source": [
    "#uitkomsten in dictonary zetten voor lp model\n",
    "rondom_dict=dict(pd.DataFrame(np.dot(c_i,V),columns=df.columns).transpose()[0])"
   ]
  },
  {
   "cell_type": "markdown",
   "id": "e544185e",
   "metadata": {},
   "source": [
    "# <font color='hotpink'>Mogelijk nuttige code</font>"
   ]
  },
  {
   "cell_type": "code",
   "execution_count": 6,
   "id": "8559174a",
   "metadata": {
    "scrolled": true
   },
   "outputs": [
    {
     "ename": "KeyboardInterrupt",
     "evalue": "Interrupted by user",
     "output_type": "error",
     "traceback": [
      "\u001b[0;31m---------------------------------------------------------------------------\u001b[0m",
      "\u001b[0;31mKeyboardInterrupt\u001b[0m                         Traceback (most recent call last)",
      "Input \u001b[0;32mIn [6]\u001b[0m, in \u001b[0;36m<cell line: 6>\u001b[0;34m()\u001b[0m\n\u001b[1;32m      4\u001b[0m inputRecept \u001b[38;5;241m=\u001b[39m \u001b[38;5;124m\"\u001b[39m\u001b[38;5;124m\"\u001b[39m\n\u001b[1;32m      6\u001b[0m \u001b[38;5;28;01mwhile\u001b[39;00m inputRecept \u001b[38;5;241m!=\u001b[39m \u001b[38;5;124m\"\u001b[39m\u001b[38;5;124m0\u001b[39m\u001b[38;5;124m\"\u001b[39m:\n\u001b[0;32m----> 7\u001b[0m     inputRecept \u001b[38;5;241m=\u001b[39m \u001b[38;5;28;43minput\u001b[39;49m\u001b[43m(\u001b[49m\u001b[38;5;124;43m\"\u001b[39;49m\u001b[38;5;124;43mEnter Recipe: \u001b[39;49m\u001b[38;5;124;43m\"\u001b[39;49m\u001b[43m)\u001b[49m\n\u001b[1;32m      8\u001b[0m     \u001b[38;5;28;01mif\u001b[39;00m inputRecept \u001b[38;5;241m==\u001b[39m \u001b[38;5;124m\"\u001b[39m\u001b[38;5;124m0\u001b[39m\u001b[38;5;124m\"\u001b[39m:\n\u001b[1;32m      9\u001b[0m         \u001b[38;5;28mprint\u001b[39m(\u001b[38;5;124m\"\u001b[39m\u001b[38;5;124mStopped data entry\u001b[39m\u001b[38;5;124m\"\u001b[39m)\n",
      "File \u001b[0;32m/opt/jupyterhub/anaconda/lib/python3.9/site-packages/ipykernel/kernelbase.py:1177\u001b[0m, in \u001b[0;36mKernel.raw_input\u001b[0;34m(self, prompt)\u001b[0m\n\u001b[1;32m   1173\u001b[0m \u001b[38;5;28;01mif\u001b[39;00m \u001b[38;5;129;01mnot\u001b[39;00m \u001b[38;5;28mself\u001b[39m\u001b[38;5;241m.\u001b[39m_allow_stdin:\n\u001b[1;32m   1174\u001b[0m     \u001b[38;5;28;01mraise\u001b[39;00m StdinNotImplementedError(\n\u001b[1;32m   1175\u001b[0m         \u001b[38;5;124m\"\u001b[39m\u001b[38;5;124mraw_input was called, but this frontend does not support input requests.\u001b[39m\u001b[38;5;124m\"\u001b[39m\n\u001b[1;32m   1176\u001b[0m     )\n\u001b[0;32m-> 1177\u001b[0m \u001b[38;5;28;01mreturn\u001b[39;00m \u001b[38;5;28;43mself\u001b[39;49m\u001b[38;5;241;43m.\u001b[39;49m\u001b[43m_input_request\u001b[49m\u001b[43m(\u001b[49m\n\u001b[1;32m   1178\u001b[0m \u001b[43m    \u001b[49m\u001b[38;5;28;43mstr\u001b[39;49m\u001b[43m(\u001b[49m\u001b[43mprompt\u001b[49m\u001b[43m)\u001b[49m\u001b[43m,\u001b[49m\n\u001b[1;32m   1179\u001b[0m \u001b[43m    \u001b[49m\u001b[38;5;28;43mself\u001b[39;49m\u001b[38;5;241;43m.\u001b[39;49m\u001b[43m_parent_ident\u001b[49m\u001b[43m[\u001b[49m\u001b[38;5;124;43m\"\u001b[39;49m\u001b[38;5;124;43mshell\u001b[39;49m\u001b[38;5;124;43m\"\u001b[39;49m\u001b[43m]\u001b[49m\u001b[43m,\u001b[49m\n\u001b[1;32m   1180\u001b[0m \u001b[43m    \u001b[49m\u001b[38;5;28;43mself\u001b[39;49m\u001b[38;5;241;43m.\u001b[39;49m\u001b[43mget_parent\u001b[49m\u001b[43m(\u001b[49m\u001b[38;5;124;43m\"\u001b[39;49m\u001b[38;5;124;43mshell\u001b[39;49m\u001b[38;5;124;43m\"\u001b[39;49m\u001b[43m)\u001b[49m\u001b[43m,\u001b[49m\n\u001b[1;32m   1181\u001b[0m \u001b[43m    \u001b[49m\u001b[43mpassword\u001b[49m\u001b[38;5;241;43m=\u001b[39;49m\u001b[38;5;28;43;01mFalse\u001b[39;49;00m\u001b[43m,\u001b[49m\n\u001b[1;32m   1182\u001b[0m \u001b[43m\u001b[49m\u001b[43m)\u001b[49m\n",
      "File \u001b[0;32m/opt/jupyterhub/anaconda/lib/python3.9/site-packages/ipykernel/kernelbase.py:1219\u001b[0m, in \u001b[0;36mKernel._input_request\u001b[0;34m(self, prompt, ident, parent, password)\u001b[0m\n\u001b[1;32m   1216\u001b[0m             \u001b[38;5;28;01mbreak\u001b[39;00m\n\u001b[1;32m   1217\u001b[0m \u001b[38;5;28;01mexcept\u001b[39;00m \u001b[38;5;167;01mKeyboardInterrupt\u001b[39;00m:\n\u001b[1;32m   1218\u001b[0m     \u001b[38;5;66;03m# re-raise KeyboardInterrupt, to truncate traceback\u001b[39;00m\n\u001b[0;32m-> 1219\u001b[0m     \u001b[38;5;28;01mraise\u001b[39;00m \u001b[38;5;167;01mKeyboardInterrupt\u001b[39;00m(\u001b[38;5;124m\"\u001b[39m\u001b[38;5;124mInterrupted by user\u001b[39m\u001b[38;5;124m\"\u001b[39m) \u001b[38;5;28;01mfrom\u001b[39;00m \u001b[38;5;28mNone\u001b[39m\n\u001b[1;32m   1220\u001b[0m \u001b[38;5;28;01mexcept\u001b[39;00m \u001b[38;5;167;01mException\u001b[39;00m:\n\u001b[1;32m   1221\u001b[0m     \u001b[38;5;28mself\u001b[39m\u001b[38;5;241m.\u001b[39mlog\u001b[38;5;241m.\u001b[39mwarning(\u001b[38;5;124m\"\u001b[39m\u001b[38;5;124mInvalid Message:\u001b[39m\u001b[38;5;124m\"\u001b[39m, exc_info\u001b[38;5;241m=\u001b[39m\u001b[38;5;28;01mTrue\u001b[39;00m)\n",
      "\u001b[0;31mKeyboardInterrupt\u001b[0m: Interrupted by user"
     ]
    }
   ],
   "source": [
    "#Adding recipes for new user\n",
    "newRow = pd.DataFrame(columns=df.columns,index=[df.index[-1]+1])\n",
    "\n",
    "inputRecept = \"\"\n",
    "\n",
    "while inputRecept != \"0\":\n",
    "    inputRecept = input(\"Enter Recipe: \")\n",
    "    if inputRecept == \"0\":\n",
    "        print(\"Stopped data entry\")\n",
    "        #df = pd.concat([df,newUserDataframe])\n",
    "    elif any(inputRecept in s for s in df.columns):\n",
    "        for i in df.columns:\n",
    "            if inputRecept in i:\n",
    "                inputRecept = i\n",
    "        \n",
    "        inputWaarde = input(\"Voer hier de review in van het recept: \")\n",
    "        print(\"Adding recipe %s.\"%(inputRecept))\n",
    "        newRow.loc[newRow.index[0],inputRecept] = inputWaarde\n",
    "    else:\n",
    "        print(\"No such recipe %s exists. Try again.\"%(inputRecept))"
   ]
  },
  {
   "cell_type": "code",
   "execution_count": null,
   "id": "d12c4d7d",
   "metadata": {},
   "outputs": [],
   "source": [
    "\n",
    "#Singular Value Decomposition of X_gen\n",
    "svd = np.linalg.svd(X_gen,full_matrices=False)\n",
    "\n",
    "Reconstruction of X_gen#X_gen_r = np.dot(svd[0][:,:m] * svd[1][:m], svd[2][:m,:])"
   ]
  },
  {
   "cell_type": "markdown",
   "id": "dc17188e",
   "metadata": {},
   "source": [
    "### Add data \n",
    "(U, D, V) = SVD(X)\n",
    "\n",
    "D V' = (V D)'\n",
    "\n",
    "C = UD\n",
    "\n",
    "X = UDV' = CV'\n",
    "\n",
    "x_i' = persoon i rij vector met missings en geobserveerde data ≈ c_i' V' \n",
    "\n",
    "x_i ≈ V c_i\n",
    "\n",
    "SSQ(x_i-V c_i) gebruik alleen niet missing elementen van x en corresponderende rijen van V\n",
    "\n",
    "c_i' V' ≈ geeft schattingen voor alle recepten\n",
    "\n",
    "Multiple regressie hiervoor\n",
    "\n",
    "\n",
    "\n",
    "\n",
    "U D V = SVD(X)\n",
    "\n",
    "X = U D V'\n",
    "\n",
    "\n",
    "X = C V'\n",
    "\n",
    "\n"
   ]
  }
 ],
 "metadata": {
  "kernelspec": {
   "display_name": "Python 3 (ipykernel)",
   "language": "python",
   "name": "python3"
  },
  "language_info": {
   "codemirror_mode": {
    "name": "ipython",
    "version": 3
   },
   "file_extension": ".py",
   "mimetype": "text/x-python",
   "name": "python",
   "nbconvert_exporter": "python",
   "pygments_lexer": "ipython3",
   "version": "3.9.13"
  }
 },
 "nbformat": 4,
 "nbformat_minor": 5
}
