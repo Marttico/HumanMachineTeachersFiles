{
 "cells": [
  {
   "cell_type": "code",
   "execution_count": 11,
   "id": "408a587b",
   "metadata": {},
   "outputs": [],
   "source": [
    "#Importing packages\n",
    "import numpy as np\n",
    "import pandas as pd\n",
    "import matplotlib.pyplot as plt\n",
    "from sklearn.linear_model import LinearRegression\n",
    "from sklearn.model_selection import train_test_split"
   ]
  },
  {
   "cell_type": "code",
   "execution_count": 12,
   "id": "a2225120",
   "metadata": {},
   "outputs": [],
   "source": [
    "#Import Dataset WITHOUT index column\n",
    "df = pd.read_csv(\"PCADataset.csv\").iloc[:,1:]\n",
    "\n",
    "#Execute SVD on the dataset\n",
    "svd = np.linalg.svd(df, full_matrices=False)\n",
    "\n",
    "#Create numpy arrays variables of SVD output\n",
    "m = np.linalg.matrix_rank(df) #Set rank\n",
    "C = svd[0][:,:m] * svd[1][:m] #Define C\n",
    "V = svd[2][:m,:]              #Define V\n",
    "\n",
    "#Create DataFrame versions of numpy arrays.\n",
    "Vdf = pd.DataFrame(data=V,columns=df.columns)\n",
    "Cdf = pd.DataFrame(data=C)\n",
    "newRow = pd.DataFrame(columns=df.columns)#Add recipes for new user."
   ]
  },
  {
   "cell_type": "code",
   "execution_count": 13,
   "id": "aa02f005",
   "metadata": {
    "scrolled": true
   },
   "outputs": [],
   "source": [
    "#Generate new row to simulate new data.\n",
    "i_recipes = pd.DataFrame(data=np.dot(np.random.randn(1, m)*65.48345141709129, V), columns=df.columns) #+ pd.DataFrame(data=np.dot(np.random.randn(1,m),V)*0.05,columns=df.columns)\n",
    "\n",
    "#Choose a rank amount of recipes to observe.\n",
    "for i in np.random.choice(i_recipes.columns,size=6):\n",
    "    newRow.loc[:,i] = i_recipes.loc[:,i]"
   ]
  },
  {
   "cell_type": "code",
   "execution_count": 14,
   "id": "2fd2f2a2",
   "metadata": {},
   "outputs": [],
   "source": [
    "#Data Preperation\n",
    "V_no_nan = Vdf.loc[:,newRow.dropna(axis=1).columns]"
   ]
  },
  {
   "cell_type": "markdown",
   "id": "211c4be5",
   "metadata": {},
   "source": [
    "## Prediction for new user."
   ]
  },
  {
   "cell_type": "code",
   "execution_count": 15,
   "id": "7243bfe4",
   "metadata": {},
   "outputs": [
    {
     "data": {
      "text/plain": [
       "array([1.9151831e-13])"
      ]
     },
     "execution_count": 15,
     "metadata": {},
     "output_type": "execute_result"
    }
   ],
   "source": [
    "regr2 = LinearRegression(**{'fit_intercept': False}).fit(V_no_nan.transpose(),newRow.dropna(axis=1).to_numpy().flatten())\n",
    "new_user_unobserved_recipe_review = pd.DataFrame(data=np.dot(regr2.coef_,V),index=df.columns)\n",
    "new_user_unobserved_recipe_review = new_user_unobserved_recipe_review.transpose()\n",
    "\n",
    "(new_user_unobserved_recipe_review.to_numpy() - i_recipes.to_numpy()).sum(axis=1)\n"
   ]
  },
  {
   "cell_type": "code",
   "execution_count": 17,
   "id": "98bb59fa",
   "metadata": {},
   "outputs": [
    {
     "data": {
      "text/html": [
       "<div>\n",
       "<style scoped>\n",
       "    .dataframe tbody tr th:only-of-type {\n",
       "        vertical-align: middle;\n",
       "    }\n",
       "\n",
       "    .dataframe tbody tr th {\n",
       "        vertical-align: top;\n",
       "    }\n",
       "\n",
       "    .dataframe thead th {\n",
       "        text-align: right;\n",
       "    }\n",
       "</style>\n",
       "<table border=\"1\" class=\"dataframe\">\n",
       "  <thead>\n",
       "    <tr style=\"text-align: right;\">\n",
       "      <th></th>\n",
       "      <th>Andijviestamppot met gebakken salami</th>\n",
       "      <th>Libanese wraps met appel-koolsalade</th>\n",
       "      <th>Plaattaart met gegrilde groenten en witte kaas</th>\n",
       "      <th>Zalmspies met sojaglaze van de BBQ</th>\n",
       "      <th>&amp;amp;Suus’ buik-weg-salade</th>\n",
       "      <th>'Burrito'-schotel met knapperige tortillapuntjes</th>\n",
       "      <th>'Foeyonghai' met bami</th>\n",
       "      <th>'Kapsalon' met&amp;nbsp;vegetarische&amp;nbsp;kipshoarma en salade</th>\n",
       "      <th>'Leeuwenkoppen' van gehakt en kool</th>\n",
       "      <th>'Marokkaanse' lamsbout</th>\n",
       "      <th>...</th>\n",
       "      <th>Zwarte-bonenstoof met feta</th>\n",
       "      <th>Zwartebonen-rijstsalade met avocado &amp;amp; witte kaas</th>\n",
       "      <th>Zwartebonenchili met kip</th>\n",
       "      <th>Zwartebonenstoof met tofu en gordita's</th>\n",
       "      <th>Zweedse balletjes</th>\n",
       "      <th>Zweedse gehaktballetjes</th>\n",
       "      <th>Zweedse gehaktballetjes met room</th>\n",
       "      <th>Zweedse vegaballetjes met aardappel &amp;amp; broccoli</th>\n",
       "      <th>Zwitserse kaasfondue</th>\n",
       "      <th>‘Nasi’ met Hollandse soepgroente</th>\n",
       "    </tr>\n",
       "  </thead>\n",
       "  <tbody>\n",
       "    <tr>\n",
       "      <th>0</th>\n",
       "      <td>-3.337475</td>\n",
       "      <td>-3.0331</td>\n",
       "      <td>2.15024</td>\n",
       "      <td>-4.775208</td>\n",
       "      <td>-3.68335</td>\n",
       "      <td>3.641086</td>\n",
       "      <td>-3.555619</td>\n",
       "      <td>1.771441</td>\n",
       "      <td>3.247862</td>\n",
       "      <td>-1.189128</td>\n",
       "      <td>...</td>\n",
       "      <td>-4.901759</td>\n",
       "      <td>0.952388</td>\n",
       "      <td>-2.964252</td>\n",
       "      <td>0.026615</td>\n",
       "      <td>2.769659</td>\n",
       "      <td>-0.418975</td>\n",
       "      <td>-0.656328</td>\n",
       "      <td>-0.48754</td>\n",
       "      <td>-0.796932</td>\n",
       "      <td>3.045032</td>\n",
       "    </tr>\n",
       "  </tbody>\n",
       "</table>\n",
       "<p>1 rows × 4616 columns</p>\n",
       "</div>"
      ],
      "text/plain": [
       "    Andijviestamppot met gebakken salami  \\\n",
       "0                              -3.337475   \n",
       "\n",
       "    Libanese wraps met appel-koolsalade  \\\n",
       "0                               -3.0331   \n",
       "\n",
       "    Plaattaart met gegrilde groenten en witte kaas  \\\n",
       "0                                          2.15024   \n",
       "\n",
       "    Zalmspies met sojaglaze van de BBQ  &amp;Suus’ buik-weg-salade  \\\n",
       "0                            -4.775208                    -3.68335   \n",
       "\n",
       "   'Burrito'-schotel met knapperige tortillapuntjes  'Foeyonghai' met bami  \\\n",
       "0                                          3.641086              -3.555619   \n",
       "\n",
       "   'Kapsalon' met&nbsp;vegetarische&nbsp;kipshoarma en salade  \\\n",
       "0                                           1.771441            \n",
       "\n",
       "   'Leeuwenkoppen' van gehakt en kool  'Marokkaanse' lamsbout  ...  \\\n",
       "0                            3.247862               -1.189128  ...   \n",
       "\n",
       "   Zwarte-bonenstoof met feta   \\\n",
       "0                    -4.901759   \n",
       "\n",
       "   Zwartebonen-rijstsalade met avocado &amp; witte kaas  \\\n",
       "0                                           0.952388      \n",
       "\n",
       "   Zwartebonenchili met kip  Zwartebonenstoof met tofu en gordita's  \\\n",
       "0                 -2.964252                                0.026615   \n",
       "\n",
       "   Zweedse balletjes  Zweedse gehaktballetjes  \\\n",
       "0           2.769659                -0.418975   \n",
       "\n",
       "   Zweedse gehaktballetjes met room  \\\n",
       "0                         -0.656328   \n",
       "\n",
       "   Zweedse vegaballetjes met aardappel &amp; broccoli  Zwitserse kaasfondue  \\\n",
       "0                                           -0.48754              -0.796932   \n",
       "\n",
       "   ‘Nasi’ met Hollandse soepgroente  \n",
       "0                          3.045032  \n",
       "\n",
       "[1 rows x 4616 columns]"
      ]
     },
     "execution_count": 17,
     "metadata": {},
     "output_type": "execute_result"
    }
   ],
   "source": [
    "new_user_unobserved_recipe_review"
   ]
  },
  {
   "cell_type": "markdown",
   "id": "e544185e",
   "metadata": {},
   "source": [
    "# <font color='hotpink'>Mogelijk nuttige code</font>"
   ]
  },
  {
   "cell_type": "code",
   "execution_count": 10,
   "id": "8559174a",
   "metadata": {
    "scrolled": true
   },
   "outputs": [
    {
     "name": "stdout",
     "output_type": "stream",
     "text": [
      "Enter Recipe: 0\n",
      "Stopped data entry\n"
     ]
    }
   ],
   "source": [
    "#Adding recipes for new user\n",
    "newRow = pd.DataFrame(columns=df.columns,index=[df.index[-1]+1])\n",
    "\n",
    "inputRecept = \"\"\n",
    "\n",
    "while inputRecept != \"0\":\n",
    "    inputRecept = input(\"Enter Recipe: \")\n",
    "    if inputRecept == \"0\":\n",
    "        print(\"Stopped data entry\")\n",
    "        #df = pd.concat([df,newUserDataframe])\n",
    "    elif any(inputRecept in s for s in df.columns):\n",
    "        for i in df.columns:\n",
    "            if inputRecept in i:\n",
    "                inputRecept = i\n",
    "        \n",
    "        inputWaarde = input(\"Voer hier de review in van het recept: \")\n",
    "        print(\"Adding recipe %s.\"%(inputRecept))\n",
    "        newRow.loc[newRow.index[0],inputRecept] = inputWaarde\n",
    "    else:\n",
    "        print(\"No such recipe %s exists. Try again.\"%(inputRecept))"
   ]
  },
  {
   "cell_type": "code",
   "execution_count": 11,
   "id": "d12c4d7d",
   "metadata": {},
   "outputs": [
    {
     "ename": "SyntaxError",
     "evalue": "invalid syntax (2480370484.py, line 4)",
     "output_type": "error",
     "traceback": [
      "\u001b[0;36m  Input \u001b[0;32mIn [11]\u001b[0;36m\u001b[0m\n\u001b[0;31m    Reconstruction of X_gen#X_gen_r = np.dot(svd[0][:,:m] * svd[1][:m], svd[2][:m,:])\u001b[0m\n\u001b[0m                   ^\u001b[0m\n\u001b[0;31mSyntaxError\u001b[0m\u001b[0;31m:\u001b[0m invalid syntax\n"
     ]
    }
   ],
   "source": [
    "\n",
    "#Singular Value Decomposition of X_gen\n",
    "svd = np.linalg.svd(X_gen,full_matrices=False)\n",
    "\n",
    "#Reconstruction of X_gen\n",
    "X_gen_r = np.dot(svd[0][:,:m] * svd[1][:m], svd[2][:m,:])"
   ]
  },
  {
   "cell_type": "markdown",
   "id": "dc17188e",
   "metadata": {},
   "source": [
    "### Add data \n",
    "(U, D, V) = SVD(X)\n",
    "\n",
    "D V' = (V D)'\n",
    "\n",
    "C = UD\n",
    "\n",
    "X = UDV' = CV'\n",
    "\n",
    "x_i' = persoon i rij vector met missings en geobserveerde data ≈ c_i' V' \n",
    "\n",
    "x_i ≈ V c_i\n",
    "\n",
    "SSQ(x_i-V c_i) gebruik alleen niet missing elementen van x en corresponderende rijen van V\n",
    "\n",
    "c_i' V' ≈ geeft schattingen voor alle recepten\n",
    "\n",
    "Multiple regressie hiervoor\n",
    "\n",
    "\n",
    "\n",
    "\n",
    "U D V = SVD(X)\n",
    "\n",
    "X = U D V'\n",
    "\n",
    "\n",
    "X = C V'\n",
    "\n",
    "\n"
   ]
  }
 ],
 "metadata": {
  "kernelspec": {
   "display_name": "Python 3 (ipykernel)",
   "language": "python",
   "name": "python3"
  },
  "language_info": {
   "codemirror_mode": {
    "name": "ipython",
    "version": 3
   },
   "file_extension": ".py",
   "mimetype": "text/x-python",
   "name": "python",
   "nbconvert_exporter": "python",
   "pygments_lexer": "ipython3",
   "version": "3.9.13"
  }
 },
 "nbformat": 4,
 "nbformat_minor": 5
}
