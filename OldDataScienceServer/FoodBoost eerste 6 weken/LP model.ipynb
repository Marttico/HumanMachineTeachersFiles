{
 "cells": [
  {
   "cell_type": "markdown",
   "id": "2be12350",
   "metadata": {},
   "source": [
    "# Importeer de benodigde libraries\n",
    "\n",
    "Importeer pywraplp uit de library ortools.linear_solver \n",
    "\n",
    "Importeer matplotlib.pyplot als plt"
   ]
  },
  {
   "cell_type": "code",
   "execution_count": 1,
   "id": "7ebdf352",
   "metadata": {},
   "outputs": [],
   "source": [
    "from ortools.linear_solver import pywraplp\n",
    "import matplotlib.pyplot as plt"
   ]
  },
  {
   "cell_type": "markdown",
   "id": "4953de6d",
   "metadata": {},
   "source": [
    "# Definieer de benodigde variabelen\n",
    "\n",
    "Wij willen voor het gemak 2 keer dezelfde  dictionairy hebben onder een verschillende naam.\n",
    "Deze dictionairies noemen wij MAALTIJDEN en MAALTIJDEN2.\n",
    "\n",
    "Ook maken wij een lijst (UNITS) aan met alleen de 'keys' (namen van de gerechten) van de MAALTIJDEN dictionairy en\n",
    "een lijst (DATA) met de value's (het aantal calorieën van elke maaltijd).\n",
    "\n",
    "Vervolgens maken wij 2 lijsten aan met alle dagen van de week (DAGEN) en een lijst met de afgekorte versie\n",
    "van de dagen (DAGPLT) die wij later gaan gebruiken in onze plot.\n",
    "\n",
    "Als laatste maken wij een dictionairy (AANBEVELING) aan waar de aanbevelingen in komen te staan voor de week \n",
    "en een lijst met recourses waar we een paar essentiële waarden in zetten voor de restricties (1040 is het maximaal aantal calorieën per dag en bijde 1en worden gebruikt om het maximaal aantal diners en lunches limiteren tot 1 per dag)."
   ]
  },
  {
   "cell_type": "code",
   "execution_count": 2,
   "id": "a26480d7",
   "metadata": {},
   "outputs": [],
   "source": [
    "#Definieer de benodigde variabelen\n",
    "\n",
    "LUNCHES = {'Pokébowl': 750, 'Kaascrackers': 300, 'Fruitsalade': 250, \n",
    "              'Broodje Piri piri': 500, 'Soep met brood': 350, 'Boterham kaas': 290, 'Chicken n Waffles': 596, 'Wrap met kip': 450,\n",
    "              'Salade met geitenkaas': 570, 'Patatje met': 750, 'Tosti ham en kaas': 200, 'Zakje maltesers': 150, 'Koekjes van oma': 300,}\n",
    "\n",
    "DINERS = {'Biefstuk met boerenkool': 400, 'Schnitsel met Friet': 535, 'Broodje Shoarma': 500, \n",
    "              'Chinese rijsttafel': 600, 'Pannenkoeken': 520, 'Roti met Kouseband': 430, 'Kipburger met koolsalade': 576,\n",
    "              'KFC bucket': 750, 'Gyrosschotel': 635, 'Nachos met gehakt': 580, 'Droog brood': 150, 'Kipnuggets': 200, 'Kapsalon': 870}\n",
    "\n",
    "LUNCHES2 = LUNCHES.copy()\n",
    "\n",
    "DINERS2 = DINERS.copy()\n",
    "\n",
    "MAALTIJDEN = LUNCHES | DINERS\n",
    "\n",
    "MAALTIJDEN2 = MAALTIJDEN.copy()\n",
    "\n",
    "UNITS = list(LUNCHES.keys()) + list(DINERS.keys())\n",
    "\n",
    "DATA = list(LUNCHES.values()) +  list(DINERS.values())\n",
    "\n",
    "DAGEN = ['Maandag', 'Dinsdag', 'Woensdag', 'Donderdag', 'Vrijdag', 'Zaterdag', 'Zondag']\n",
    "\n",
    "DAGPLT = ['Ma', 'Di', 'Wo', 'Do', 'Vr', 'Za', 'Zo']\n",
    "\n",
    "Kcal = []\n",
    "\n",
    "AANBEVELING = {}\n",
    "\n",
    "RESOURCES = [1040, 1, 1]\n"
   ]
  },
  {
   "cell_type": "markdown",
   "id": "c5a62ec5",
   "metadata": {},
   "source": [
    "# Maak het LP model aan\n",
    "\n",
    "Eerst maken wij een leeg LP model aan en noemen deze solver. Hierin geven wij de naam van ons LP model mee. \n",
    "Het tweede onderdeel moet gewoon gekopieerd en geplakt worden.\n",
    "\n",
    "In stap 1 geven wij aan met welk type variabelen wij in de solver gaan werken. Deze hebben wij op integer \n",
    "(Intvar) gezet omdat wij alleen met hele recepten (kunnen) werken. \n",
    "\n",
    "In stap 2 worden de restricties toegevoegd aan het model door middel van for loops. De eerste for loop zorgt\n",
    "ervoor dat alle gekozen recepten niet de maximale caloriegrens van 1040 word overschreden. De tweede for loop\n",
    "zegt dat er maximaal maar 1 lunchrecept gekozen mag worden en de derde for loop geeft aan dat er maar 1 diner \n",
    "gekozen mag worden.\n",
    "\n",
    "In stap 3 van de solver geven we aan wat onze doelfunctie is en wat ons doel is met de doelfunctie. Ons doel \n",
    "is in dit geval om het aandat caloriën zo dicht mogelijk bij de grenswaarde te krijgen van 1035 calorieën, dus \n",
    "kiezen wij om de doelfunctie te maximaliseren (Solver.Maximize()).\n",
    "\n",
    "Vervolgens laten wij het programma zoeken naar de maximale doelfunctie en slaan wij alle gekozen recepten op\n",
    "in een lijst genaamd keuzelijst. Als de solver geen oplossing kan vinden geeft deze een melding hiervoor en word er niks opgeslagen."
   ]
  },
  {
   "cell_type": "code",
   "execution_count": 3,
   "id": "36b43a44",
   "metadata": {},
   "outputs": [],
   "source": [
    "def solve_army(UNITS, DATA, RESOURCES, dag):\n",
    "  # Create the linear solver using the CBC backend\n",
    "  solver = pywraplp.Solver('Minimize resource consumption', pywraplp.Solver.CBC_MIXED_INTEGER_PROGRAMMING)\n",
    "\n",
    "  # 1. Create the variables we want to optimize\n",
    "  units = [solver.IntVar(0, 1, unit) for unit in UNITS]\n",
    "\n",
    "  # 2. Add constraints for each resource\n",
    "  for r in enumerate(RESOURCES):\n",
    "    solver.Add(sum(DATA[u] * units[u] for u, _ in enumerate(units)) <= RESOURCES[0])\n",
    "    # solver.Add(sum(DATA[u] * units[u] for u, _ in enumerate(units)) >= RESOURCES[3])\n",
    "    \n",
    "  for i in range(len(LUNCHES)):\n",
    "    solver.Add(sum(units[u] for u in range(len(LUNCHES))) <= RESOURCES[1])\n",
    "    \n",
    "  for i in range(len(DINERS)):\n",
    "    solver.Add(sum(units[u] for u in range(len(LUNCHES), len(MAALTIJDEN))) <= RESOURCES[2])\n",
    "     \n",
    "  # 3. Minimize the objective function\n",
    "  solver.Maximize(sum(DATA[u] * units[u] for u, _ in enumerate(units)))\n",
    " \n",
    "  # Solve problem\n",
    "  status = solver.Solve()\n",
    "\n",
    "  # If an optimal solution has been found, print results\n",
    "  if status == pywraplp.Solver.OPTIMAL:\n",
    "    for u, _ in enumerate(units):\n",
    "      if units[u].solution_value() == 1:\n",
    "          KEUZELIJST.append(units[u].name())\n",
    "          AANBEVELING[dag] = KEUZELIJST\n",
    "          MAALTIJDEN.pop(units[u].name())\n",
    "          # print(KEUZELIJST)\n",
    "  else:\n",
    "      print('The solver could not find an optimal solution.')"
   ]
  },
  {
   "cell_type": "markdown",
   "id": "b8626d5c",
   "metadata": {},
   "source": [
    "# Zorg ervoor dat voor alle dagen worden ingedeeld\n",
    "\n",
    "Zorg ervoor dat de solver 7 keer word aangeroepen om voor elke dag een aanbeveling te kunnen geven."
   ]
  },
  {
   "cell_type": "code",
   "execution_count": 4,
   "id": "3cca70f6",
   "metadata": {},
   "outputs": [],
   "source": [
    "for i in range(7):\n",
    "    KEUZELIJST = []\n",
    "    solve_army(UNITS, DATA, RESOURCES, DAGEN[i])\n",
    "    UNITS = list(MAALTIJDEN.keys())\n",
    "    DATA = list(MAALTIJDEN.values())\n",
    "\n",
    "    "
   ]
  },
  {
   "cell_type": "markdown",
   "id": "17a60c65",
   "metadata": {},
   "source": [
    "# Uitprinten van de aanbevelingen\n",
    "\n",
    "Print voor elke dag de aanbeveling uit voor de lunch, het diner en het totaal aantal \n",
    "calorieën van de lunch en het diner."
   ]
  },
  {
   "cell_type": "code",
   "execution_count": 5,
   "id": "3021bfdc",
   "metadata": {},
   "outputs": [
    {
     "name": "stdout",
     "output_type": "stream",
     "text": [
      "\n",
      "AANBEVELINGEN VOOR DE WEEK:\n",
      "\n",
      "Maandag,   LUNCH: Boterham kaas\n",
      "            DINER: KFC bucket\n",
      "            Kcal:   1040\n",
      "Dinsdag,   LUNCH: Biefstuk met boerenkool\n",
      "            DINER: Gyrosschotel\n",
      "            Kcal:   1035\n",
      "Woensdag,   LUNCH: Schnitsel met Friet\n",
      "            DINER: Broodje Shoarma\n",
      "            Kcal:   1035\n",
      "Donderdag,   LUNCH: Chinese rijsttafel\n",
      "            DINER: Roti met Kouseband\n",
      "            Kcal:   1030\n",
      "Vrijdag,   LUNCH: Wrap met kip\n",
      "            DINER: Nachos met gehakt\n",
      "            Kcal:   1030\n",
      "Zaterdag,   LUNCH: Zakje maltesers\n",
      "            DINER: Kapsalon\n",
      "            Kcal:   1020\n",
      "Zondag,   LUNCH: Pokébowl\n",
      "            DINER: Kipnuggets\n",
      "            Kcal:   950\n"
     ]
    }
   ],
   "source": [
    "print()\n",
    "print(\"AANBEVELINGEN VOOR DE WEEK:\")\n",
    "print()\n",
    "for i in range(len(DAGEN)):\n",
    "    Kcal.append(MAALTIJDEN2[AANBEVELING[DAGEN[i]][0]] + MAALTIJDEN2[AANBEVELING[DAGEN[i]][1]])\n",
    "    print(f\"{DAGEN[i]},   LUNCH: {AANBEVELING[DAGEN[i]][0]}\")\n",
    "    print(f\"            DINER: {AANBEVELING[DAGEN[i]][1]}\")\n",
    "    print(f\"            Kcal:   {MAALTIJDEN2[AANBEVELING[DAGEN[i]][0]] + MAALTIJDEN2[AANBEVELING[DAGEN[i]][1]]}\")"
   ]
  },
  {
   "cell_type": "markdown",
   "id": "4ac6f86a",
   "metadata": {},
   "source": [
    "# Maak een plot van het totaal aantal ingedeelde calorieën\n",
    "\n",
    "Eerst worden font1 en font2 toegekent. Hierin staat de betreffende font die we willen gebruiken ('family'), de kleur van de tekst ('color'), de dikte van de text ('weight') en de groote van het lettertype ('size'). font1 wordt hier gebruikt voor de titel en font2 wordt gebruikt voor de namen van de assen.\n",
    "\n",
    "Als tweede wort er een barplot gemaakt en hiervan worden de kleur bepaald, en de naam van de assen en de titel.\n",
    "\n",
    "Als laatste word de plot laten zien van het programma."
   ]
  },
  {
   "cell_type": "code",
   "execution_count": 6,
   "id": "8773d96b",
   "metadata": {},
   "outputs": [
    {
     "data": {
      "image/png": "[encoded data removed]",
      "text/plain": [
       "<Figure size 640x480 with 1 Axes>"
      ]
     },
     "metadata": {},
     "output_type": "display_data"
    }
   ],
   "source": [
    "font1 = {'family': 'serif',\n",
    "        'color':  'darkblue',\n",
    "        'weight': 'bold',\n",
    "        'size': 14,\n",
    "        }\n",
    "\n",
    "font2 = {'family': 'serif',\n",
    "        'color':  'black',\n",
    "        'weight': 'bold',\n",
    "        'size': 12,\n",
    "        }\n",
    "\n",
    "_ = plt.bar(DAGPLT, Kcal, color = 'deeppink', linewidth = 1.5)\n",
    "_ = plt.xlabel('Dagen', fontdict = font2)\n",
    "_ = plt.ylabel('Kcal', fontdict = font2)\n",
    "_ = plt.title('Aantal Kcal voor lunch en diner gedurende de week', fontdict = font1)\n",
    "\n",
    "Figuur = plt.gcf()\n",
    "plt.show()\n",
    "Figuur.savefig('Kcal_verloop_per_week_V2.jpeg', dpi = 100)"
   ]
  },
  {
   "cell_type": "code",
   "execution_count": null,
   "id": "151ddb51",
   "metadata": {},
   "outputs": [],
   "source": []
  },
  {
   "cell_type": "code",
   "execution_count": null,
   "id": "ce7da1e8",
   "metadata": {},
   "outputs": [],
   "source": []
  },
  {
   "cell_type": "code",
   "execution_count": null,
   "id": "c3c46de2",
   "metadata": {},
   "outputs": [],
   "source": []
  }
 ],
 "metadata": {
  "kernelspec": {
   "display_name": "Python 3 (ipykernel)",
   "language": "python",
   "name": "python3"
  },
  "language_info": {
   "codemirror_mode": {
    "name": "ipython",
    "version": 3
   },
   "file_extension": ".py",
   "mimetype": "text/x-python",
   "name": "python",
   "nbconvert_exporter": "python",
   "pygments_lexer": "ipython3",
   "version": "3.9.13"
  }
 },
 "nbformat": 4,
 "nbformat_minor": 5
}
