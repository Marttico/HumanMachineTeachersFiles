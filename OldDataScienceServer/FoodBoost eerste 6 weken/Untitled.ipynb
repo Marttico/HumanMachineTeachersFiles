{
 "cells": [
  {
   "cell_type": "code",
   "execution_count": 87,
   "id": "ebb18c21",
   "metadata": {},
   "outputs": [],
   "source": [
    "import pandas as pd\n",
    "import numpy as np\n",
    "import matplotlib.pyplot as plt\n",
    "\n",
    "reviews = [1,5,2,3,4,4,2,4,5,3,2,1,1,1,2,1,5,4,3,2]"
   ]
  },
  {
   "cell_type": "code",
   "execution_count": 88,
   "id": "cbe78018",
   "metadata": {},
   "outputs": [
    {
     "name": "stdout",
     "output_type": "stream",
     "text": [
      "-3.218875824868201\n",
      "3.2188758248682015\n",
      "-1.3862943611198908\n",
      "0.0\n",
      "1.3862943611198904\n",
      "1.3862943611198904\n",
      "-1.3862943611198908\n",
      "1.3862943611198904\n",
      "3.2188758248682015\n",
      "0.0\n",
      "-1.3862943611198908\n",
      "-3.218875824868201\n",
      "-3.218875824868201\n",
      "-3.218875824868201\n",
      "-1.3862943611198908\n",
      "-3.218875824868201\n",
      "3.2188758248682015\n",
      "1.3862943611198904\n",
      "0.0\n",
      "-1.3862943611198908\n"
     ]
    }
   ],
   "source": [
    "for i in reviews:\n",
    "    print(ratingToSchaal(i))"
   ]
  },
  {
   "cell_type": "code",
   "execution_count": 28,
   "id": "e9d5d126",
   "metadata": {},
   "outputs": [],
   "source": [
    "def sig(x):\n",
    " return 1/(1 + np.exp(-x))"
   ]
  },
  {
   "cell_type": "code",
   "execution_count": 85,
   "id": "efd2f395",
   "metadata": {},
   "outputs": [],
   "source": [
    "def ratingToSchaal(x):\n",
    "    return rsig((x)/6)*2"
   ]
  },
  {
   "cell_type": "code",
   "execution_count": 54,
   "id": "6d35f282",
   "metadata": {},
   "outputs": [],
   "source": [
    "def rsig(x):\n",
    " return np.log((x/(1-x)))"
   ]
  },
  {
   "cell_type": "code",
   "execution_count": null,
   "id": "8669a255",
   "metadata": {},
   "outputs": [],
   "source": [
    "#STD = 1 (nog niet heel erg zeker)\n",
    "#Mean = 3"
   ]
  }
 ],
 "metadata": {
  "kernelspec": {
   "display_name": "Python 3 (ipykernel)",
   "language": "python",
   "name": "python3"
  },
  "language_info": {
   "codemirror_mode": {
    "name": "ipython",
    "version": 3
   },
   "file_extension": ".py",
   "mimetype": "text/x-python",
   "name": "python",
   "nbconvert_exporter": "python",
   "pygments_lexer": "ipython3",
   "version": "3.9.13"
  }
 },
 "nbformat": 4,
 "nbformat_minor": 5
}
