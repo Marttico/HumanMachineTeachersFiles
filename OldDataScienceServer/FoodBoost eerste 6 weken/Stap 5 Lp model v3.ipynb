{
 "cells": [
  {
   "cell_type": "markdown",
   "id": "6e761e1d",
   "metadata": {},
   "source": [
    "# <span style='color:Hotpink'> Overstap van recepten naar dictonaries </span>"
   ]
  },
  {
   "cell_type": "code",
   "execution_count": 2,
   "id": "93513bc8",
   "metadata": {},
   "outputs": [],
   "source": [
    "import pandas as pd\n",
    "recp = pd.read_csv('/data/foodboost/recipes.csv')\n",
    "tags = pd.read_csv('/data/foodboost/tags.csv')"
   ]
  },
  {
   "cell_type": "markdown",
   "id": "986e994b",
   "metadata": {},
   "source": [
    "# Dataset maken met alles lunch en diner recepten\n",
    "\n",
    "met receptnaam, tag en aantal calorieën\n",
    "elk recept heeft nog maar 1 tag (lunch, diner, hoofdgerecht)"
   ]
  },
  {
   "cell_type": "code",
   "execution_count": 3,
   "id": "a3c3ecf6",
   "metadata": {},
   "outputs": [],
   "source": [
    "tagsmaal= ['lunch','diner','hoofdgerecht']\n",
    "maaltijd_alles = tags[tags['tag'].str.contains('|'.join(tagsmaal))]\n",
    "maaltijd_alles=maaltijd_alles.drop_duplicates(subset=['recipe'], keep= 'first')\n",
    "recp = recp[[\"title\",\"calories\"]]\n",
    "maaltijd_alles=maaltijd_alles.merge(recp, how=\"inner\" ,right_on= \"title\",left_on=\"recipe\" ) \n",
    "maaltijd_alles = maaltijd_alles[[\"recipe\",\"tag\",\"calories\" ]]"
   ]
  },
  {
   "cell_type": "markdown",
   "id": "af708e5e",
   "metadata": {},
   "source": [
    "# Random data set maken\n",
    "Later veranderen in de echte\n",
    "\n",
    "input is een dictonary met receptnamen en ratings"
   ]
  },
  {
   "cell_type": "code",
   "execution_count": 4,
   "id": "2b507bdf",
   "metadata": {},
   "outputs": [],
   "source": [
    "#from random import randrange\n",
    "import random\n",
    "\n",
    "#random dataset maken om de code te controleren\n",
    "rondom_dict={}\n",
    "random_rij=[]\n",
    "\n",
    "while len(rondom_dict)<100:\n",
    "    random_row= random.randrange(len(maaltijd_alles))\n",
    "    if random_row not in random_rij:\n",
    "        rondom_dict[maaltijd_alles.iloc[random_row,0]] = random.randint(1, 5)\n",
    "        random_rij.append(random_row)"
   ]
  },
  {
   "cell_type": "markdown",
   "id": "f10b8e02",
   "metadata": {},
   "source": [
    "Dataframe met de random recepten"
   ]
  },
  {
   "cell_type": "code",
   "execution_count": 5,
   "id": "b30ed727",
   "metadata": {},
   "outputs": [],
   "source": [
    "random_maaltijden_df = maaltijd_alles[maaltijd_alles.recipe.isin(list(rondom_dict.keys()))]\n",
    "df= pd.DataFrame(rondom_dict.items(),columns=['recipe','ratings'])\n",
    "random_maaltijden_df = random_maaltijden_df.merge(df, how=\"inner\" ,right_on= \"recipe\",left_on=\"recipe\" ) "
   ]
  },
  {
   "cell_type": "code",
   "execution_count": 6,
   "id": "92202d0e",
   "metadata": {},
   "outputs": [
    {
     "data": {
      "text/plain": [
       "{'Visragout met rijst en groente': 1,\n",
       " 'Hamlap met honingsaus en chinese kool': 3,\n",
       " 'Limoenribs met cajunfrites': 4,\n",
       " 'Tjap tjoy kip': 4,\n",
       " 'Lasagnette met aubergine-tomatensaus &amp; ricotta': 3,\n",
       " 'Farrosalade met gedroogde tomaat en basilicumpesto': 4,\n",
       " 'Champignonsoep gebonden': 2,\n",
       " 'Groentepannetje met gerookte kip': 1,\n",
       " 'Venkel-appelsalade': 1,\n",
       " 'Supersnel rijstpannetje met tuinbonen': 1,\n",
       " 'In bockbier gestoofde kippenpoten': 2,\n",
       " 'Plaattaart met pesto': 5,\n",
       " 'Geroosterde pastinaak met wortel': 4,\n",
       " 'Lisa goes Vegans frisse tofusalade': 2,\n",
       " 'Vega-quesadilla ': 2,\n",
       " 'Lunchsalade met tonijn &amp; parelcouscous': 1,\n",
       " 'Muesli-notenbrood met komijnekaas en komkommer': 3,\n",
       " 'Monique van Loons geroosterde eendenborst op Vietnamese salade': 1,\n",
       " 'Chinese eiermie met snijbonen en kipgehakt': 1,\n",
       " \"Rachel Khoo's met groenten gevulde bladerdeegbakjes\": 4,\n",
       " 'Spaanse bonenschotel met vis': 4,\n",
       " 'Mangosalade met garnalentempura ': 3,\n",
       " 'Snelle hutspot met gebakken kaas': 5,\n",
       " 'Linzenburger': 3,\n",
       " 'Aardappeltjes met gegrilde asperges': 2,\n",
       " 'Ultieme eenpersoons hamburger': 2,\n",
       " 'Vegacurry tandoori met  groene groenten en quinoa': 3,\n",
       " 'Hawaïburger met verse ananas': 5,\n",
       " 'Eenpersoonspasta met preisaus &amp; knoflook garnalen': 4,\n",
       " 'Knol\\xadsel\\xadde\\xadrij\\xadhuts\\xadpot met ve\\xadge\\xadta\\xadri\\xadsche rook\\xadworst': 2,\n",
       " 'Open volkorensandwich oude geitenkaas': 3,\n",
       " 'Visvink met spinazierisotto': 2,\n",
       " 'Drumsticks met geroosterde aardappeltjes en sla': 5,\n",
       " 'Rode ui-bietenstamp met spek': 2,\n",
       " 'Pasta met bloemkool, gesmoorde ui en spekjes': 3,\n",
       " 'Italiaanse gestoofde kalfsschenkel': 2,\n",
       " 'Stokbrood': 3,\n",
       " 'Ovenpasta met pompoen': 2,\n",
       " 'Tosti geitenkaas-tomaat met bietjessalade': 2,\n",
       " \"Tortilla's met garnalen\": 1,\n",
       " 'Gezonde aardappelpuree met spicy tonijnsteak ': 1,\n",
       " 'Gevulde varkensrollade uit de oven': 5,\n",
       " 'Risotto met erwten, winterpeen, knolselderij en rookworst': 1,\n",
       " 'Zalmburger met dragonkrieltjes en snijbonen': 5,\n",
       " 'Italiaanse tonijnballetjes': 4,\n",
       " 'Zelfgemaakte zalmburger met bietensalade': 3,\n",
       " 'Forel uit de oven met andijviestamppot': 3,\n",
       " 'Hollandse groentesoep met visballetjes': 3,\n",
       " 'Geroosterde aardappeltjes met gegrilde kipdij en koolsla': 4,\n",
       " 'Zalmcurry met korianderrijst': 5,\n",
       " 'Wortelsoep met muntyoghurt en volkorenpita': 5,\n",
       " 'Mexicaanse pizza': 3,\n",
       " 'Vegabami speciaal': 1,\n",
       " 'Kipdijstoof met couscous': 4,\n",
       " 'Macaroni en ham': 1,\n",
       " 'Rigatoni met spinazie, venkel en kaas': 3,\n",
       " 'Indiase garnalencurry met bloemkool &amp; naanbrood': 1,\n",
       " 'Eenpansgerecht met riso, spinazie en pancetta ': 2,\n",
       " 'Kabeljauw met kruidenolie': 2,\n",
       " 'Farro met kip, spinazie en paddenstoelen': 1,\n",
       " 'Gnocchi carbonara': 5,\n",
       " 'Ovenschotel gehakt met prei en kaas': 3,\n",
       " 'Stevige speltsandwich met bieslook-peterselieomelet': 4,\n",
       " 'Ravioli met basilicumsaus': 5,\n",
       " 'Pittige pompoensoep': 2,\n",
       " 'Spaghetti met worst en tomaat': 5,\n",
       " 'Boerenkool-venkelstamp met gerookte kip en amandel': 3,\n",
       " 'Indische gehaktballetjes met ketjap en groentenasi': 1,\n",
       " 'Thaise garnalen met haricots verts': 1,\n",
       " 'Ovenomelet met prei en spinazie': 4,\n",
       " 'Ratatouille-ovenstamppot': 1,\n",
       " 'Romige eenpanspasta met groenten en buffelmozzarella ': 4,\n",
       " 'Frisse pastasalade met makreel': 2,\n",
       " 'Risotto met kropsla en garnalen': 5,\n",
       " 'Spicy sushisalade in a jar': 2,\n",
       " 'Jambalaya met chorizo en kip': 1,\n",
       " 'Kruidige kipquiche met tuinerwten': 4,\n",
       " 'Schelpjespasta met aubergine': 3,\n",
       " 'Zoet brood gevuld met fruit': 4,\n",
       " 'Griekse gehaktbal met Italiaanse groenten': 4,\n",
       " 'Pasta pesto met snijbonen en broccoli': 3,\n",
       " 'Pasta met tomaat en pancetta ': 2,\n",
       " 'Vegan stoof': 5,\n",
       " 'Wokpasta met spek en paddenstoelen': 4,\n",
       " 'Pizza gorgonzola met groene groenten': 5,\n",
       " 'Preirösti &amp; frisse sla met kip en noten': 4,\n",
       " 'Kipstoof met pompoen, zwarte bonen &amp; Carribean spice': 5,\n",
       " 'Thaise biefstuksalade met komkommer': 3,\n",
       " 'Meergranentriangel met kip-mangosalade': 4,\n",
       " 'Marokkaanse herfststoof met aardappel en tuinboontjes': 1,\n",
       " 'Spaanse pasta met gebakken chorizo &amp; peterselie': 3,\n",
       " 'Pittige pastasalade': 4,\n",
       " 'Cannellinibonen met worst': 3,\n",
       " 'Homemade vissticks met aardappelruiten': 5,\n",
       " 'Aardperenstamp met pruimen': 4,\n",
       " \"Bloemkoolpizza's met tomaat en paddenstoelen\": 3,\n",
       " 'Kleurrijke glutenvrije pennesalade': 5,\n",
       " 'Penne in tomatensaus met tonijn &amp; boerenkool': 2,\n",
       " \"Gevulde zoete puntpaprika's met spitskoolsalade\": 1,\n",
       " 'Vega arepas met bonen en salsa': 5}"
      ]
     },
     "execution_count": 6,
     "metadata": {},
     "output_type": "execute_result"
    }
   ],
   "source": [
    "rondom_dict"
   ]
  },
  {
   "cell_type": "markdown",
   "id": "17c7f92a",
   "metadata": {},
   "source": [
    "# Dictonaries maken lunch en diner\n"
   ]
  },
  {
   "cell_type": "code",
   "execution_count": 6,
   "id": "98cc33c0",
   "metadata": {},
   "outputs": [],
   "source": [
    "random_maaltijden_df_lunch= random_maaltijden_df[random_maaltijden_df[\"tag\"]==\"lunch\"]\n",
    "LUNCHES = {row[0]: [row[2], row[3]] for row in random_maaltijden_df_lunch.values}"
   ]
  },
  {
   "cell_type": "code",
   "execution_count": 7,
   "id": "701b008b",
   "metadata": {},
   "outputs": [],
   "source": [
    "random_maaltijden_df_diner= random_maaltijden_df[random_maaltijden_df[\"tag\"]!=\"lunch\"]\n",
    "DINERS = {row[0]: [row[2],row[3]] for row in random_maaltijden_df_diner.values}"
   ]
  },
  {
   "cell_type": "markdown",
   "id": "112deb12",
   "metadata": {},
   "source": [
    "# Importeer de benodigde libraries\n",
    "\n",
    "Importeer pywraplp uit de library ortools.linear_solver \n",
    "\n",
    "Importeer matplotlib.pyplot als plt"
   ]
  },
  {
   "cell_type": "code",
   "execution_count": 8,
   "id": "2a3a981c",
   "metadata": {},
   "outputs": [],
   "source": [
    "from ortools.linear_solver import pywraplp\n",
    "import matplotlib.pyplot as plt"
   ]
  },
  {
   "cell_type": "markdown",
   "id": "62e435e8",
   "metadata": {},
   "source": [
    "# Definieer de benodigde variabelen\n",
    "\n",
    "Wij willen voor het gemak 2 keer dezelfde  dictionairy hebben onder een verschillende naam.\n",
    "Deze dictionairies noemen wij MAALTIJDEN en MAALTIJDEN2.\n",
    "\n",
    "Ook maken wij een lijst (UNITS) aan met alleen de 'keys' (namen van de gerechten) van de MAALTIJDEN dictionairy en\n",
    "een lijst (DATA) met de value's (het aantal calorieën van elke maaltijd).\n",
    "\n",
    "Vervolgens maken wij 2 lijsten aan met alle dagen van de week (DAGEN) en een lijst met de afgekorte versie\n",
    "van de dagen (DAGPLT) die wij later gaan gebruiken in onze plot.\n",
    "\n",
    "Als laatste maken wij een dictionairy (AANBEVELING) aan waar de aanbevelingen in komen te staan voor de week \n",
    "en een lijst met recourses waar we een paar essentiële waarden in zetten voor de restricties (1040 is het maximaal aantal calorieën per dag en bijde 1en worden gebruikt om het maximaal aantal diners en lunches limiteren tot 1 per dag)."
   ]
  },
  {
   "cell_type": "code",
   "execution_count": 9,
   "id": "8f77c61f",
   "metadata": {},
   "outputs": [],
   "source": [
    "#Definieer de benodigde variabelen\n",
    "LUNCHES2 = LUNCHES.copy()\n",
    "\n",
    "DINERS2 = DINERS.copy()\n",
    "\n",
    "MAALTIJDEN = LUNCHES | DINERS\n",
    "\n",
    "MAALTIJDEN2 = MAALTIJDEN.copy()\n",
    "\n",
    "UNITS = list(LUNCHES.keys()) + list(DINERS.keys()) #+ list(LUNCHES_RATING.keys()) + list(DINERS_RATING.keys())\n",
    "\n",
    "DATA = list(LUNCHES.values()) +  list(DINERS.values())#, + list(LUNCHES_RATING.values()) +list(DINERS_RATING.values())\n",
    "\n",
    "DAGEN = ['Maandag', 'Dinsdag', 'Woensdag', 'Donderdag', 'Vrijdag', 'Zaterdag', 'Zondag']\n",
    "\n",
    "DAGPLT = ['Ma', 'Di', 'Wo', 'Do', 'Vr', 'Za', 'Zo']\n",
    "\n",
    "Kcal = []\n",
    "Kcal_lunch = []\n",
    "Kcal_diner = [] \n",
    "rating = []\n",
    "rating_lunch = []\n",
    "rating_diner = []\n",
    "\n",
    "AANBEVELING = {}\n",
    "\n",
    "RESOURCES = [1040, 1, 1, 1, 1]"
   ]
  },
  {
   "cell_type": "markdown",
   "id": "64b957b3",
   "metadata": {},
   "source": [
    "# Maak het LP model aan\n",
    "\n",
    "Eerst maken wij een leeg LP model aan en noemen deze solver. Hierin geven wij de naam van ons LP model mee. \n",
    "Het tweede onderdeel moet gewoon gekopieerd en geplakt worden.\n",
    "\n",
    "In stap 1 geven wij aan met welk type variabelen wij in de solver gaan werken. Deze hebben wij op integer \n",
    "(Intvar) gezet omdat wij alleen met hele recepten (kunnen) werken. \n",
    "\n",
    "In stap 2 worden de restricties toegevoegd aan het model door middel van for loops. De eerste for loop zorgt\n",
    "ervoor dat alle gekozen recepten niet de maximale caloriegrens van 1040 word overschreden. De tweede for loop\n",
    "zegt dat er maximaal maar 1 lunchrecept gekozen mag worden en de derde for loop geeft aan dat er maar 1 diner \n",
    "gekozen mag worden.\n",
    "\n",
    "In stap 3 van de solver geven we aan wat onze doelfunctie is en wat ons doel is met de doelfunctie. Ons doel \n",
    "is in dit geval om het aandat caloriën zo dicht mogelijk bij de grenswaarde te krijgen van 1040 calorieën, dus \n",
    "kiezen wij om de doelfunctie te maximaliseren (Solver.Maximize()).\n",
    "\n",
    "Vervolgens laten wij het programma zoeken naar de maximale doelfunctie en slaan wij alle gekozen recepten op\n",
    "in een lijst genaamd keuzelijst. Als de solver geen oplossing kan vinden geeft deze een melding hiervoor en word er niks opgeslagen."
   ]
  },
  {
   "cell_type": "code",
   "execution_count": 10,
   "id": "2e088baf",
   "metadata": {},
   "outputs": [],
   "source": [
    "def solve_army(UNITS, DATA, RESOURCES, dag):\n",
    "  # Create the linear solver using the CBC backend\n",
    "  solver = pywraplp.Solver('Minimize resource consumption', pywraplp.Solver.CBC_MIXED_INTEGER_PROGRAMMING)\n",
    "\n",
    "  # 1. Create the variables we want to optimize\n",
    "  units = [solver.IntVar(0, 1, unit) for unit in UNITS]\n",
    "\n",
    "  # 2. Add constraints for each resource\n",
    "  for r in enumerate(RESOURCES):\n",
    "    solver.Add(sum(DATA[u][0] * units[u] for u, _ in enumerate(units)) <= RESOURCES[0])       #max 1040 kcal\n",
    "    # solver.Add(sum(DATA[u][0] * units[u] for u, _ in enumerate(units)) >= RESOURCES[3])\n",
    "    \n",
    "  for i in range(len(LUNCHES)):\n",
    "    solver.Add(sum(units[u] for u in range(len(LUNCHES))) <= RESOURCES[1])                    #max 1 lunch\n",
    "    \n",
    "  for i in range(len(DINERS)):\n",
    "    solver.Add(sum(units[u] for u in range(len(LUNCHES), len(MAALTIJDEN))) <= RESOURCES[2])   #max 1 diner\n",
    "  \n",
    "#----------------------------------------------------------------------------------------------------\n",
    "#hoe veel gaan we de rating laten mee tellen?\n",
    "\n",
    "  # 3. Minimize the objective function\n",
    "  solver.Maximize(sum((DATA[u][0]+DATA[u][1] * 10 )* units[u] for u, _ in enumerate(units)))\n",
    "\n",
    "#----------------------------------------------------------------------------------------------------\n",
    "    \n",
    "  # Solve problem\n",
    "  status = solver.Solve()\n",
    "\n",
    "  # If an optimal solution has been found, print results\n",
    "  if status == pywraplp.Solver.OPTIMAL:\n",
    "    for u, _ in enumerate(units):\n",
    "      if units[u].solution_value() == 1:\n",
    "          KEUZELIJST.append(units[u].name())\n",
    "          AANBEVELING[dag] = KEUZELIJST\n",
    "          MAALTIJDEN.pop(units[u].name())\n",
    "          # print(KEUZELIJST)\n",
    "  else:\n",
    "      print('The solver could not find an optimal solution.')"
   ]
  },
  {
   "cell_type": "markdown",
   "id": "c5e039c3",
   "metadata": {},
   "source": [
    "# Zorg ervoor dat voor alle dagen worden ingedeeld\n",
    "\n",
    "Zorg ervoor dat de solver 7 keer word aangeroepen om voor elke dag een aanbeveling te kunnen geven."
   ]
  },
  {
   "cell_type": "code",
   "execution_count": 11,
   "id": "0e868388",
   "metadata": {},
   "outputs": [],
   "source": [
    "for i in range(7):\n",
    "    KEUZELIJST = []\n",
    "    solve_army(UNITS, DATA, RESOURCES, DAGEN[i])\n",
    "    UNITS = list(MAALTIJDEN.keys())\n",
    "    DATA = list(MAALTIJDEN.values())\n"
   ]
  },
  {
   "cell_type": "markdown",
   "id": "117213cd",
   "metadata": {},
   "source": [
    "# Uitprinten van de aanbevelingen\n",
    "\n",
    "Print voor elke dag de aanbeveling uit voor de lunch, het diner en het totaal aantal \n",
    "calorieën van de lunch en het diner."
   ]
  },
  {
   "cell_type": "code",
   "execution_count": 12,
   "id": "3b5afd12",
   "metadata": {},
   "outputs": [
    {
     "name": "stdout",
     "output_type": "stream",
     "text": [
      "\n",
      "AANBEVELINGEN VOOR DE WEEK:\n",
      "\n",
      "Maandag,    LUNCH: Volkorenbolletje met zuivelspread, komkommer en gerookte zalm\n",
      "            DINER: Indiase kipspies met spicy pilavrijst\n",
      "            Kcal:   1035\n",
      "            rating:   10\n",
      "Dinsdag,    LUNCH: Venkelsoep met gerookte zalm\n",
      "            DINER: Hoisin chicken wings met noedels\n",
      "            Kcal:   1040\n",
      "            rating:   9\n",
      "Woensdag,    LUNCH: &amp;Suus’ buik-weg-salade\n",
      "            DINER: Kaasschnitzel met knoflookkrieltjes en salade van witlof &amp; mandarijn\n",
      "            Kcal:   1040\n",
      "            rating:   8\n",
      "Donderdag,    LUNCH: Pastasalade met pesto en garnalen\n",
      "            DINER: Volkorencouscous met geroosterde venkel en mangoyoghurt\n",
      "            Kcal:   1040\n",
      "            rating:   9\n",
      "Vrijdag,    LUNCH: Broodje kaas\n",
      "            DINER: Picadillo-tostada's met guacamole\n",
      "            Kcal:   1035\n",
      "            rating:   8\n",
      "Zaterdag,    LUNCH: Zuurkoolstamppot met appel, kaneel en bruine suiker\n",
      "            DINER: Geroosterde aubergines met sinaasappeldressing\n",
      "            Kcal:   1035\n",
      "            rating:   7\n",
      "Zondag,    LUNCH: Tortillaschotel met zoete aardappel, tomaat en avocado\n",
      "            DINER: Chinese eiermie met snijbonen en kipgehakt\n",
      "            Kcal:   1040\n",
      "            rating:   6\n"
     ]
    }
   ],
   "source": [
    "print()\n",
    "print(\"AANBEVELINGEN VOOR DE WEEK:\")\n",
    "print()\n",
    "for i in range(len(DAGEN)):\n",
    "    Kcal.append(MAALTIJDEN2[AANBEVELING[DAGEN[i]][0]] + MAALTIJDEN2[AANBEVELING[DAGEN[i]][1]])\n",
    "    rating.append(MAALTIJDEN2[AANBEVELING[DAGEN[i]][0]][1] + MAALTIJDEN2[AANBEVELING[DAGEN[i]][1]][1])\n",
    "    \n",
    "    Kcal_lunch.append(MAALTIJDEN2[AANBEVELING[DAGEN[i]][0]][0])\n",
    "    Kcal_diner.append(MAALTIJDEN2[AANBEVELING[DAGEN[i]][1]][0])\n",
    "    rating_lunch.append(MAALTIJDEN2[AANBEVELING[DAGEN[i]][0]][1])\n",
    "    rating_diner.append(MAALTIJDEN2[AANBEVELING[DAGEN[i]][1]][1])\n",
    "    \n",
    "    \n",
    "    \n",
    "    print(f\"{DAGEN[i]},    LUNCH: {AANBEVELING[DAGEN[i]][0]}\")\n",
    "    print(f\"            DINER: {AANBEVELING[DAGEN[i]][1]}\")\n",
    "    print(f\"            Kcal:   {MAALTIJDEN2[AANBEVELING[DAGEN[i]][0]][0] + MAALTIJDEN2[AANBEVELING[DAGEN[i]][1]][0]}\")\n",
    "    print(f\"            rating:   {MAALTIJDEN2[AANBEVELING[DAGEN[i]][0]][1] + MAALTIJDEN2[AANBEVELING[DAGEN[i]][1]][1]}\")\n",
    "    "
   ]
  },
  {
   "cell_type": "markdown",
   "id": "407566f4",
   "metadata": {},
   "source": [
    "# Maak een plot van het totaal aantal ingedeelde calorieën\n",
    "\n",
    "Eerst worden font1 en font2 toegekent. Hierin staat de betreffende font die we willen gebruiken ('family'), de kleur van de tekst ('color'), de dikte van de text ('weight') en de groote van het lettertype ('size'). font1 wordt hier gebruikt voor de titel en font2 wordt gebruikt voor de namen van de assen.\n",
    "\n",
    "Als tweede wort er een barplot gemaakt en hiervan worden de kleur bepaald, en de naam van de assen en de titel.\n",
    "\n",
    "Als laatste word de plot laten zien van het programma."
   ]
  },
  {
   "cell_type": "code",
   "execution_count": 28,
   "id": "fcaf56a7",
   "metadata": {},
   "outputs": [
    {
     "data": {
      "image/png": "[encoded data removed]",
      "text/plain": [
       "<Figure size 640x480 with 1 Axes>"
      ]
     },
     "metadata": {},
     "output_type": "display_data"
    }
   ],
   "source": [
    "font1 = {'family': 'serif',\n",
    "        'color':  'black',\n",
    "        'weight': 'bold',\n",
    "        'size': 14,\n",
    "        }\n",
    "\n",
    "font2 = {'family': 'serif',\n",
    "        'color':  'black',\n",
    "        'weight': 'bold',\n",
    "        'size': 12,\n",
    "        }\n",
    "\n",
    "plt.bar(DAGPLT, Kcal_lunch, color='grey', linewidth = 1.5)\n",
    "plt.bar(DAGPLT, Kcal_diner, bottom=Kcal_lunch, color='orange')\n",
    "plt.xlabel('Dagen', fontdict = font2)\n",
    "plt.ylabel('calorieën (Kcal)', fontdict = font2)\n",
    "plt.title(\"Weekelijkse verdeling van het aantal calorieën over lunch en diner\", fontdict = font1)\n",
    "plt.legend([\"Lunch\", \"Diner\"])\n",
    "plt.show()\n",
    "#Figuur.savefig('Kcal_verloop_per_week_V2.jpeg', dpi = 100)"
   ]
  },
  {
   "cell_type": "code",
   "execution_count": 25,
   "id": "a48a2b0c",
   "metadata": {},
   "outputs": [
    {
     "data": {
      "image/png": "[encoded data removed]",
      "text/plain": [
       "<Figure size 640x480 with 1 Axes>"
      ]
     },
     "metadata": {},
     "output_type": "display_data"
    }
   ],
   "source": [
    "font1 = {'family': 'serif',\n",
    "        'color':  'black',\n",
    "        'weight': 'bold',\n",
    "        'size': 14,\n",
    "        }\n",
    "\n",
    "font2 = {'family': 'serif',\n",
    "        'color':  'black',\n",
    "        'weight': 'bold',\n",
    "        'size': 12,\n",
    "        }\n",
    "\n",
    "plt.bar(DAGPLT, rating_lunch, color = 'grey', linewidth = 1.5)\n",
    "plt.bar(DAGPLT, rating_diner, bottom = rating_lunch, color = 'orange')\n",
    "plt.xlabel('Dagen', fontdict = font2)\n",
    "plt.ylabel('Totale rating', fontdict = font2)\n",
    "plt.title(\"Weekelijkse verdeling van de rating over lunch- en dinerrecepten\", fontdict = font1)\n",
    "plt.legend([\"Lunch\", \"Diner\"])\n",
    "plt.show()\n",
    "#Figuur.savefig('rating_verloop_per_week_V2.jpeg', dpi = 100)"
   ]
  },
  {
   "cell_type": "code",
   "execution_count": null,
   "id": "75c7bb11",
   "metadata": {},
   "outputs": [],
   "source": []
  }
 ],
 "metadata": {
  "kernelspec": {
   "display_name": "Python 3 (ipykernel)",
   "language": "python",
   "name": "python3"
  },
  "language_info": {
   "codemirror_mode": {
    "name": "ipython",
    "version": 3
   },
   "file_extension": ".py",
   "mimetype": "text/x-python",
   "name": "python",
   "nbconvert_exporter": "python",
   "pygments_lexer": "ipython3",
   "version": "3.9.13"
  }
 },
 "nbformat": 4,
 "nbformat_minor": 5
}
