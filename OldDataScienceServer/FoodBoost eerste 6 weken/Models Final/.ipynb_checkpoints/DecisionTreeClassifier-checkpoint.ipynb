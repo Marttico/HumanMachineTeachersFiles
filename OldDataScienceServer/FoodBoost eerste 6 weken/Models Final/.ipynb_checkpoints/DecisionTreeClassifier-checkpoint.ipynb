{
 "cells": [
  {
   "cell_type": "markdown",
   "id": "1026a32f",
   "metadata": {},
   "source": [
    "# DecisionTreeClassifier"
   ]
  },
  {
   "cell_type": "markdown",
   "id": "3aadb814",
   "metadata": {},
   "source": [
    "# Import Libraries"
   ]
  },
  {
   "cell_type": "code",
   "execution_count": null,
   "id": "578b68cb",
   "metadata": {},
   "outputs": [],
   "source": [
    "from pipetorch import DFrame\n",
    "from sklearn.metrics import precision_score\n",
    "\n",
    "''''''''''''''''''''' Classifiers ''''''''''''''''''''''\n",
    "\n",
    "from sklearn.tree import DecisionTreeClassifier\n",
    "from sklearn.ensemble import RandomForestClassifier\n",
    "from sklearn.linear_model import LogisticRegression\n",
    "\n",
    "''''''''''''''''''''''''''''''''''''''''''''''''''''''''\n",
    "\n",
    "\n",
    "''''''''''''''''''''' Studies ''''''''''''''''''''''\n",
    "\n",
    "from pipetorch.evaluate.study import Study\n",
    "import optuna\n",
    "\n",
    "''''''''''''''''''''''''''''''''''''''''''''''''''''''''"
   ]
  },
  {
   "cell_type": "markdown",
   "id": "64fd1455",
   "metadata": {},
   "source": [
    "# Import data set"
   ]
  },
  {
   "cell_type": "code",
   "execution_count": null,
   "id": "70e0a0a4",
   "metadata": {},
   "outputs": [],
   "source": []
  },
  {
   "cell_type": "markdown",
   "id": "e0744dfe",
   "metadata": {},
   "source": [
    "# Define and fit a model"
   ]
  },
  {
   "cell_type": "code",
   "execution_count": null,
   "id": "86e3aacf",
   "metadata": {},
   "outputs": [],
   "source": [
    "study.plot_hyperparameters()"
   ]
  },
  {
   "cell_type": "markdown",
   "id": "2c408fbc",
   "metadata": {},
   "source": [
    "# Apply a normal study"
   ]
  },
  {
   "cell_type": "code",
   "execution_count": null,
   "id": "207d7ef3",
   "metadata": {},
   "outputs": [],
   "source": [
    "study = Study.create_study('max_depth')\n",
    "\n",
    "# write a trial function and run the optimizer\n",
    "# Enter your code here\n",
    "\n",
    "def trial(trial):\n",
    "    global df\n",
    "    df = df.split(0.3)\n",
    "    depth = trial.suggest_categorical(\"max_depth\", range(1, 21))\n",
    "    model = DecisionTreeClassifier(max_depth = depth)\n",
    "    model.fit(df.train_X, df.train_y)\n",
    "    acc_valid = accuracy_score(df.valid_y, model.predict(df.valid_X))\n",
    "    return acc_valid\n",
    "\n",
    "study.optimize(trial, n_trials = 200)"
   ]
  },
  {
   "cell_type": "markdown",
   "id": "315a397a",
   "metadata": {},
   "source": [
    "# Plot the normal study"
   ]
  },
  {
   "cell_type": "code",
   "execution_count": null,
   "id": "7e33707f",
   "metadata": {},
   "outputs": [],
   "source": []
  },
  {
   "cell_type": "markdown",
   "id": "14f31bee",
   "metadata": {},
   "source": [
    "# Apply a optuna study"
   ]
  },
  {
   "cell_type": "code",
   "execution_count": null,
   "id": "184839df",
   "metadata": {},
   "outputs": [],
   "source": [
    "study = optuna.create_study()\n",
    "\n",
    "def trial(trial):\n",
    "    depth = trial.suggest_categorical(\"max_depth\", range(1, 51))\n",
    "    n = trial.suggest_categorical(\"n_estimators\", range(1, 1001))\n",
    "    msl = trial.suggest_categorical(\"min_samples_leaf\", range(1, 11))\n",
    "    model = RandomForestClassifier(max_depth = depth, n_estimators = n, min_samples_leaf = msl)\n",
    "    model.fit(train_X, train_y)\n",
    "    f1_valid = f1_score(valid_y, model.predict(valid_X))\n",
    "    return f1_valid\n",
    "\n",
    "study.optimize(trial, n_trials = 20)"
   ]
  },
  {
   "cell_type": "markdown",
   "id": "15e97e71",
   "metadata": {},
   "source": [
    "# Plot the optuna study"
   ]
  },
  {
   "cell_type": "code",
   "execution_count": null,
   "id": "3f8f55ef",
   "metadata": {},
   "outputs": [],
   "source": [
    "optuna.visualization.plot_slice(study)"
   ]
  }
 ],
 "metadata": {
  "kernelspec": {
   "display_name": "Python 3 (ipykernel)",
   "language": "python",
   "name": "python3"
  },
  "language_info": {
   "codemirror_mode": {
    "name": "ipython",
    "version": 3
   },
   "file_extension": ".py",
   "mimetype": "text/x-python",
   "name": "python",
   "nbconvert_exporter": "python",
   "pygments_lexer": "ipython3",
   "version": "3.9.13"
  }
 },
 "nbformat": 4,
 "nbformat_minor": 5
}
