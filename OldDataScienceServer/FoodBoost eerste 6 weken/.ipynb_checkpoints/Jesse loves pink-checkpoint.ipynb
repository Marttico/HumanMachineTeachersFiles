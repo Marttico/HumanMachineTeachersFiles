{
 "cells": [
  {
   "cell_type": "code",
   "execution_count": 2,
   "id": "e531b525",
   "metadata": {},
   "outputs": [],
   "source": [
    "import pandas as pd\n",
    "import numpy as np\n",
    "from sklearn.model_selection import train_test_split\n",
    "from sklearn.metrics import confusion_matrix, classification_report\n",
    "from pipetorch import DFrame\n",
    "from sklearn.metrics import precision_score\n",
    "import matplotlib.pyplot as plt\n",
    "\n",
    "#''''''''''''''''''''' Classifiers ''''''''''''''''''''''\n",
    "from sklearn.tree import DecisionTreeClassifier\n",
    "from sklearn.ensemble import RandomForestClassifier\n",
    "from sklearn.linear_model import LogisticRegression\n",
    "#''''''''''''''''''''' Studies ''''''''''''''''''''''\n",
    "from pipetorch.evaluate.study import Study\n",
    "import optuna"
   ]
  },
  {
   "cell_type": "code",
   "execution_count": 3,
   "id": "b1fb207b",
   "metadata": {},
   "outputs": [],
   "source": [
    "df = pd.read_csv(\"Generated Datasets/ingr_pivot_lunch_diner_noten.csv\").set_index(\"recipe\")\n",
    "df = df.loc[:,df.sum() > 40][df.sum(axis=1) != 0]"
   ]
  },
  {
   "cell_type": "code",
   "execution_count": 4,
   "id": "d5d653a6",
   "metadata": {},
   "outputs": [],
   "source": [
    "#iets={'Mexicaanse rijstschotel met kip':1,'Caponata met couscous':0,'Boerenkool-knolselderijstamp met rookworstcroutons':1,'Witlof met ham en kaas uit de oven':0,'Pittige vis-courgettekoekjes':1,'Aziatisch gemarineerde varkensspies met Chinese wokgroente':1,'Varkensfilet in peper-citroenkorst met pastinaak en peen':1,'Oosterse snijbonensalade met varkenshaas':1,'Bloemkoolquiche met oude kaas':0,'Sushisandwich met rivierkreeftjes &amp: avocado':1,'Pasta met aardappel, kip en sperziebonen':1,'Briequiche met appel':0,'Paddenstoelenpasteitje':1,'Kalkoen met salie':0,'Mediterrane eendenbouten met truffelpolenta &amp; parmezaan':1,'Fluitpasta':1,'Hollandse kaasfondue':0,'Noedels met mango &amp; kip':1,'Sjalotten-geitenkaasquiche met croutons':0,'Zoetzure filetlapjes met paksoi':1,\"Stéphane Reynaud's gestoofde sla\":1,'Tagliatelle met zalm en avocadopesto':1,'Noedels met ijsgarnalen en mango':1,'Stoere chili':1,'Vega gehakt van tofu met mie en paksoi':0,'Gebakken kabeljauw met aardappel-komkommersalade':1,'Fattoush met pita, kruiden en tuinerwten':0,'Kip en venkel in pittige tomatensaus':1,'Lasagne met salami &amp; mozzarella':1,'Kaasquiche met tomaat':0,'Deense balletjes met ui en dille':1,'Quinoasalade met kidneybonen en feta':0, \"3 tosti's met graskaas\":1,\"Stéphane Reynaud's gestoofde sla\":1, 'Boerenkoolstamppot met uitgebakken chorizo': 1,'Vegetarische ramen met kurkuma en cavolo nero':0,'Broodje bal met augurk, piccalilly en rodekoolsalade':0,'Pilav van quinoa':1,'Visvink met spinazierisotto':1,'Verrassende kip met rozemarijnaardappeltjes':1,'Sandwich met gepocheerde kip &amp; koolsalade':1,'Spaghetti aglio e olio met verse kruiden':1,'Sticky speklapjes met rozemarijnaardappeltjes':1,\"Bill Granger's saus van rauwe tomaten\":0,'Gebakken bloemkoolrijst met zalm en shanghaipaksoi':1,'Brunch-garnalencocktail':1,'Pittige gehaktballetjes met snelle bami':1,'Romige spaghetti met spinazie, zalm en garnale':1,'Pasta pesto met kip':1,'Eenpanspasta met gehaktballetjes':1}\n",
    "#jesse = pd.DataFrame(data=iets.items())\n",
    "#jesse.rename(columns = {0:'recipe', 1:'lekker'}, inplace = True)"
   ]
  },
  {
   "cell_type": "code",
   "execution_count": 5,
   "id": "003787d2",
   "metadata": {},
   "outputs": [
    {
     "data": {
      "text/html": [
       "<div>\n",
       "<style scoped>\n",
       "    .dataframe tbody tr th:only-of-type {\n",
       "        vertical-align: middle;\n",
       "    }\n",
       "\n",
       "    .dataframe tbody tr th {\n",
       "        vertical-align: top;\n",
       "    }\n",
       "\n",
       "    .dataframe thead th {\n",
       "        text-align: right;\n",
       "    }\n",
       "</style>\n",
       "<table border=\"1\" class=\"dataframe\">\n",
       "  <thead>\n",
       "    <tr style=\"text-align: right;\">\n",
       "      <th></th>\n",
       "      <th>recipe</th>\n",
       "      <th>lekker</th>\n",
       "    </tr>\n",
       "  </thead>\n",
       "  <tbody>\n",
       "    <tr>\n",
       "      <th>0</th>\n",
       "      <td>Ovenschotel met aardappel­puree, gehakt &amp;amp; ...</td>\n",
       "      <td>1</td>\n",
       "    </tr>\n",
       "    <tr>\n",
       "      <th>1</th>\n",
       "      <td>Snelle tuinerwtensoep met gerookte kip en fijn...</td>\n",
       "      <td>1</td>\n",
       "    </tr>\n",
       "    <tr>\n",
       "      <th>2</th>\n",
       "      <td>Stoofvlees met La Trappe Quadrupel</td>\n",
       "      <td>1</td>\n",
       "    </tr>\n",
       "    <tr>\n",
       "      <th>3</th>\n",
       "      <td>Belgische stoofpot met bruin bier, wortel &amp;amp...</td>\n",
       "      <td>1</td>\n",
       "    </tr>\n",
       "    <tr>\n",
       "      <th>4</th>\n",
       "      <td>Aardappeltjes met gegrilde asperges</td>\n",
       "      <td>0</td>\n",
       "    </tr>\n",
       "    <tr>\n",
       "      <th>...</th>\n",
       "      <td>...</td>\n",
       "      <td>...</td>\n",
       "    </tr>\n",
       "    <tr>\n",
       "      <th>260</th>\n",
       "      <td>Brunch-garnalencocktail</td>\n",
       "      <td>1</td>\n",
       "    </tr>\n",
       "    <tr>\n",
       "      <th>261</th>\n",
       "      <td>Pittige gehaktballetjes met snelle bami</td>\n",
       "      <td>1</td>\n",
       "    </tr>\n",
       "    <tr>\n",
       "      <th>262</th>\n",
       "      <td>Romige spaghetti met spinazie, zalm en garnale</td>\n",
       "      <td>1</td>\n",
       "    </tr>\n",
       "    <tr>\n",
       "      <th>263</th>\n",
       "      <td>Pasta pesto met kip</td>\n",
       "      <td>1</td>\n",
       "    </tr>\n",
       "    <tr>\n",
       "      <th>264</th>\n",
       "      <td>Eenpanspasta met gehaktballetjes</td>\n",
       "      <td>1</td>\n",
       "    </tr>\n",
       "  </tbody>\n",
       "</table>\n",
       "<p>265 rows × 2 columns</p>\n",
       "</div>"
      ],
      "text/plain": [
       "                                                recipe  lekker\n",
       "0    Ovenschotel met aardappel­puree, gehakt &amp; ...       1\n",
       "1    Snelle tuinerwtensoep met gerookte kip en fijn...       1\n",
       "2                   Stoofvlees met La Trappe Quadrupel       1\n",
       "3    Belgische stoofpot met bruin bier, wortel &amp...       1\n",
       "4                  Aardappeltjes met gegrilde asperges       0\n",
       "..                                                 ...     ...\n",
       "260                            Brunch-garnalencocktail       1\n",
       "261            Pittige gehaktballetjes met snelle bami       1\n",
       "262     Romige spaghetti met spinazie, zalm en garnale       1\n",
       "263                                Pasta pesto met kip       1\n",
       "264                   Eenpanspasta met gehaktballetjes       1\n",
       "\n",
       "[265 rows x 2 columns]"
      ]
     },
     "execution_count": 5,
     "metadata": {},
     "output_type": "execute_result"
    }
   ],
   "source": [
    "ha={'Ovenschotel met aardappel\\xadpuree, gehakt &amp; bloemkoolrijst': 1,\n",
    " 'Snelle tuinerwtensoep met gerookte kip en fijne tuinkruiden': 1,\n",
    " 'Stoofvlees met La Trappe Quadrupel': 1,\n",
    " 'Belgische stoofpot met bruin bier, wortel &amp; pastinaak ': 1,\n",
    " 'Aardappeltjes met gegrilde asperges': 0,\n",
    " 'Pompoenrisotto met salie en Parmezaan': 1,\n",
    " 'Halloumi-salade': 0,\n",
    " 'Thaise wokschotel met biefstuk': 1,\n",
    " 'Zalmquiche': 1,\n",
    " \"Mexicaanse taco's met vis en zoete aardappel\": 1,\n",
    " 'Krokante kip met sesamrijst': 1,\n",
    " 'Griekse traybake met kip &amp; muntyoghurt': 1,\n",
    " 'Chili con carne met rijst &amp; koffietwist': 1,\n",
    " 'Wraps niçoise met tonijn': 1,\n",
    " 'Pasta met gerookte makreel met venkel &amp; gremolata': 1,\n",
    " 'Aardbeienjam maken': 0,\n",
    " 'Groentesalade': 0,\n",
    " 'Salade met malse biefstukreepjes en kaasdressing': 0,\n",
    " 'Gegrilde bospeen met gember-ketjapjus': 1,\n",
    " 'Spicy ribkarbonade met mangochutney': 1,\n",
    " 'Bietencouscous met kip en witte kaas': 0,\n",
    " 'Groentesoep met kip en rijst': 1,\n",
    " 'Ravioli met gorgonzolasaus': 1,\n",
    " 'Ontbijtkoek-sandwich': 0,\n",
    " \"Taco's met ananas, kipdijfilet en jalapeñopeper\": 0,\n",
    " 'Volkorenpasta met kip, Chinese kool, gember en tahin': 1,\n",
    " 'Kipburger tonnato': 1,\n",
    " 'Penne met artisjok, ricotta en spek': 1,\n",
    " 'Kabeljauwburger met mangochutney ': 1,\n",
    " 'Entrecote bakken': 1,\n",
    " 'Spaghetti met paprika en vegaballetjes': 0,\n",
    " 'Goedgevulde Spaanse tomatensoep': 1,\n",
    " 'Fusilli met cervelaat en champignons': 1,\n",
    " 'Gevulde paprika’s met krokant kipgehakt': 0,\n",
    " 'Buddhabowl met bulgur, broccolirijst en champignons': 1,\n",
    " 'Schorseneren met ham en ei': 0,\n",
    " 'Pizza zeevruchten en olijven': 0,\n",
    " 'Spaghetti met ricotta-pestosaus &amp; krokante ham': 1,\n",
    " 'Fusilli met tonijn': 1,\n",
    " 'Kalkoen met ovenaardappeltjes, sperziebonen en yoghurtmayo': 1,\n",
    " 'Boterham uiltjes met snoepgroente': 0,\n",
    " \"Vistortilla's met kibbeling en Mexicaanse groenten\": 1,\n",
    " 'Spaghetti cacio e pepe': 1,\n",
    " 'Vegan Fish Free sticks met ovenfriet &amp; coleslaw ': 0,\n",
    " 'Visstoof met bonen': 1,\n",
    " 'Stamppotje met andijvie en een gekookt ei': 0,\n",
    " 'Oosterse lekkerbekjes': 1,\n",
    " 'Rijst met kabeljauw en chipotlesaus': 1,\n",
    " 'Champignonragout met groene asperges': 0,\n",
    " 'Wokpasta met spek en paddenstoelen': 1,\n",
    " 'Witlof-gehaktschotel': 0,\n",
    " 'Pittige kip met paksoi en noedels': 1,\n",
    " \"Pantosti 'caprese'\": 1,\n",
    " 'Scary stoofvleespastei': 1,\n",
    " 'Limburgs zuurvlees met ontbijtkoek': 0,\n",
    " 'Romige mosselen met dille': 0,\n",
    " 'Kip gestoofd in witte wijn': 1,\n",
    " 'Gebraden kalkoen': 1,\n",
    " 'Bavette met gegrilde asperges en zoete-aardappelchips': 0,\n",
    " 'Tortillaschotel met zoete aardappel, tomaat en avocado': 1,\n",
    " 'Snelle bowl met bloemkoolrijst en zalm': 1,\n",
    " 'Noedels met prei en aardappel': 1,\n",
    " 'Noordzeetongrolletjes met zalm en dillesaus': 1,\n",
    " 'Thaise scholspiesjes met kruidige rijst en wortelsalade': 1,\n",
    " 'Spruitjesgratin met zoete aardappel': 0,\n",
    " 'Volkorenpenne met spruitjes en ansjovis': 0,\n",
    " 'Aardappelpuree met kaas, groenten en kaaskoekjes': 0,\n",
    " 'Côte de boeuf van de bbq met komkommer salsa': 1,\n",
    " 'Ravioli met romige tijmsaus en kaassnippers': 1,\n",
    " 'Roti met kip': 1,\n",
    " 'Gehaktballetjes in pittige tomatensaus uit de oven': 1,\n",
    " 'Zuurkoolstamppot met truffelsalami': 0,\n",
    " 'Lenteburger': 0,\n",
    " 'Gezonde chili con carne': 1,\n",
    " 'Ovenomelet met prei en spinazie': 1,\n",
    " 'Vega arepas met bonen en salsa': 0,\n",
    " 'Biefstuk met gegrilde groenten': 1,\n",
    " 'Kalkoen met honing, kaneel en appel': 0,\n",
    " 'Ovengnocchi met tonijn, champignons en tomaat': 1,\n",
    " 'Muesli-notenbrood met komijnekaas en komkommer': 0,\n",
    " 'Het perfecte roerei': 1,\n",
    " 'Tonijnsteaks Hawaï met ananassalsa': 0,\n",
    " 'Venkelsoep met kipgehaktballetjes': 1,\n",
    " 'Pizza bianca met truffelmascarpone': 1,\n",
    " 'Wraps met komkommer en zalm': 1,\n",
    " 'Karbonade in zoetzure ketjapsaus': 1,\n",
    " 'Jackfruitgoulash': 0,\n",
    " 'Traybake van drumsticks en krieltjes': 1,\n",
    " 'Aardappelsalade met gerookte zalm': 1,\n",
    " 'Catalaanse worstspiesen met citroenmayonaise': 1,\n",
    " 'Gebakken eendenborst met groene-peperjus van Dennis Huwaë': 1,\n",
    " 'Italiaanse roerbakgroente met cannellini bonen en garnalen in tomatensaus': 1,\n",
    " 'Gevuld naanbrood met kruidige kalkoenfilet': 1,\n",
    " 'Kip met sinaasappel-hoisinsaus en rijst': 1,\n",
    " 'Crackers met lijnzaad en pompoenpitten': 0,\n",
    " 'Kerstontbijt-beschuiten': 0,\n",
    " 'Vegetarische Shepherd’s pie': 0,\n",
    " 'Mexicaanse tonijnwraps': 1,\n",
    " 'Aardappelsalade met lamsham en lentegroenten': 1,\n",
    " 'Vegetarische Mexicaanse chiliburger met groentefriet &amp; salade': 0,\n",
    " 'Hamburger met gegrilde ananas': 0,\n",
    " 'Noedels met ijsgarnalen en mango': 1,\n",
    " 'Plaatpizza bianca &amp; rossa ': 1,\n",
    " 'Quinoa met zoete tomatensaus': 1,\n",
    " 'Gebakken sliptong met zelfgemaakt visspecerijenzout': 1,\n",
    " 'Zeewierviskoekjes met quinoa-groenteroerbak': 1,\n",
    " 'Zalmrolletjes met een salade van krieltjes en venkel': 1,\n",
    " 'Spaghetti cacio e pepe met broccolisalade': 1,\n",
    " 'Gewokte hoisinvarkenshaas': 1,\n",
    " 'Hartverwarmende winterstoof': 1,\n",
    " 'Bladerdeegpakketje met ragout, paddenstoelen en doperwten': 1,\n",
    " 'Volkorenspaghetti met bietjes, peer en ricotta uit de oven': 0,\n",
    " 'Pappardelle met Italiaanse ragú': 1,\n",
    " 'Spaghetti met ei, vega spekreepjes &amp; geroosterde bloemkool': 0,\n",
    " \"'Kapsalon' met&nbsp;vegetarische&nbsp;kipshoarma en salade\": 0,\n",
    " 'Kokospannenkoekjes met vers fruit': 0,\n",
    " 'Traybake met zalm, aardappel en rode ui': 1,\n",
    " 'Stokbroodje met zalm en waterkers': 1,\n",
    " 'Zwartebonen-rijstsalade met avocado &amp; witte kaas': 0,\n",
    " 'Rijstnoedels met biefstuk, peultjes &amp; sugarsnaps': 1,\n",
    " 'Caribische vis met groene pilav': 0,\n",
    " 'Avocadoquinoasalade met zalm': 0,\n",
    " 'Mosterdsoep met prei en ham': 1,\n",
    " 'Pasta pesto met snijbonen en broccoli': 1,\n",
    " 'Biefstuk met balsamico-honingsaus': 1,\n",
    " 'Romige bietenrisotto met mortadella': 1,\n",
    " 'Kip met rode ui, appel en mosterd': 0,\n",
    " 'Pizza al tartufo': 1,\n",
    " 'Sushi burrito met rivierkreeftjes': 1,\n",
    " 'Macaroni al forno': 1,\n",
    " 'Ovenschotel met zoete-aardappelpuree': 1,\n",
    " \"Stéphane Reynaud's Provençaalse taart\": 1,\n",
    " 'Roerbak met scharrelkip en noedels': 1,\n",
    " 'Broodje kalkoenfilet met geitenkaas &amp; zoete mosterd': 0,\n",
    " 'Sandwich aardbei': 0,\n",
    " 'Traybake van kip, paprika, zwarte bonen en chipotle': 1,\n",
    " 'Lekkerbekjes met mosterdsaus': 1,\n",
    " 'Eenpersoons leftover pasta ovenschotel': 1,\n",
    " 'Risotto met tuinbonen, citroen en pecorino ': 1,\n",
    " 'Noedelsoep met kip en cashewnoten': 0,\n",
    " 'Pita vega gyros met rauwkost &amp; tzatziki': 0,\n",
    " 'Indiase kipcurry met pompoen &amp; bloemkoolrijst': 1,\n",
    " 'Spitskoolsoep met prosciuttoperline': 1,\n",
    " 'Duitse gehakt-ansjovisballetjes': 1,\n",
    " 'Linzensalade met biet en geitenkaas ': 0,\n",
    " 'Lasagne met kip, spinazie en courgette': 0,\n",
    " 'Malse kip, groene groenten en aardappelpartjes': 1,\n",
    " 'Varkensfiletreepjes met kerriebloemkool en knolselderijpuree': 1,\n",
    " 'Stromboli': 1,\n",
    " 'Burger à la pizzaiola': 1,\n",
    " 'Zomerse pastabowl': 1,\n",
    " 'Bami met balletjes': 1,\n",
    " 'Volkorenpastasalade met mozzarellabolletjes, sojabonen, tonijn en komkommer': 1,\n",
    " 'Boerenerwtensoep met bacon': 1,\n",
    " 'Kipquiche met courgette': 0,\n",
    " 'Turkse dürüm döner': 1,\n",
    " 'Makreel van de BBQ': 1,\n",
    " 'Snelle spaghetti met paddenstoelen en spekjes': 1,\n",
    " 'Pokébowl tonijn': 1,\n",
    " 'Gebakken kabeljauw met bloemkoolpuree ': 1,\n",
    " 'Aspergesalade met gegrilde romaine': 0,\n",
    " 'Pappardelle met gorgonzola': 0,\n",
    " 'Kamutspaghetti met pecorino en pesto': 1,\n",
    " 'Portugese kabeljauw met paprika': 1,\n",
    " 'Zalmpakketje met prei uit de oven': 1,\n",
    " 'Thaise kokossoep met kip en noedels': 1,\n",
    " 'Spaanse bonenschotel met vis': 1,\n",
    " 'Gebakken zalm met frisse venkelsalade': 0,\n",
    " 'Courgette met linzen en geitenkaas': 0,\n",
    " 'Farfalle met rivierkreeftjes en gremolata': 1,\n",
    " 'Broccolisalade met kibbeling': 1,\n",
    " 'Dan dan-noedels met choisum': 1,\n",
    " 'Chow mein': 1,\n",
    " 'Koolhydraatarme sandwich': 0,\n",
    " 'Pastasalade met groene groenten': 0,\n",
    " 'Salade met mungbonen en groene asperges': 0,\n",
    " 'Farrosalade met gedroogde tomaat en basilicumpesto': 0,\n",
    " 'Biefstuk met tuinkruidenboter': 1,\n",
    " 'Gegrilde wraps met pulled makreel': 1,\n",
    " 'Gevulde varkenshaas': 1,\n",
    " 'Indiase curry met biefstukpuntjes': 1,\n",
    " 'Ravioli met aubergine en kruiden': 0,\n",
    " 'Snelle kip tikka masalasalade': 1,\n",
    " 'Fusilli met gehaktballetjes en courgette': 0,\n",
    " 'Franse visstoof met zalm en mosselen': 0,\n",
    " 'Lamskoteletjes met pittige salsa': 1,\n",
    " 'Quinotto met paddenstoelen en knolselderij': 1,\n",
    " 'Filetlapjes in sojasaus': 1,\n",
    " 'Zelfgemaakte surimisalade': 1,\n",
    " 'Volkorentonijnsandwich': 0,\n",
    " 'Bami goreng met spekjes': 1,\n",
    " 'Vispakketjes met citroengras': 1,\n",
    " 'Citroenzalm &amp; aardappelgratins met geroosterde tomaatjes ': 1,\n",
    " \"Dave Myers &amp; Si King's kruidige cajunkip met aardappelpartjes en bieslookdip\": 1,\n",
    " 'Omelet met zoetzure saus': 1,\n",
    " 'Wokschotel met puntpaprika en kibbeling': 1,\n",
    " 'Karbonade in karnemelksaus': 0,\n",
    " 'Kerstboompasteitjes': 1,\n",
    " 'Preistamppot met runderballetjes in kerriesaus': 1,\n",
    " 'Hartige spek-broccolipannenkoeken': 1,\n",
    " 'Zuurkoolstamp met rookworstcroutons ': 0,\n",
    " 'Volkorensandwich met rode ui, spinazie en cottage cheese': 0,\n",
    " \"Piadinetosti's met pesto\": 1,\n",
    " 'Frittata met groene groenten en feta': 0,\n",
    " 'Aziatische noedelsalade met tofu': 1,\n",
    " 'Sinaasappelcouscous met kabeljauw en venkel': 1,\n",
    " 'Kerstham met dille': 1,\n",
    " 'Lasagne met roomsaus': 1,\n",
    " 'Snelle Mexicaanse bonenschotel': 1,\n",
    " 'Zaanse kaasfondue': 0,\n",
    " 'Beefburger op groentebroodje': 1,\n",
    " 'Koningsburger met zoete aardappelfriet': 1,\n",
    " 'Mosselen met paprika en olijven': 0,\n",
    " \"Bietenhummus met yoghurt, komkommer en za'atar\": 0,\n",
    " 'Kipnuggets': 1,\n",
    " \"Erik van Loo's zuurvlees\": 0,\n",
    " 'Tajine van konijnenbout met kaneel en abrikoos': 0, 'Mexicaanse rijstschotel met kip':1,'Caponata met couscous':0,'Boerenkool-knolselderijstamp met rookworstcroutons':1,'Witlof met ham en kaas uit de oven':0,'Pittige vis-courgettekoekjes':1,'Aziatisch gemarineerde varkensspies met Chinese wokgroente':1,'Varkensfilet in peper-citroenkorst met pastinaak en peen':1,'Oosterse snijbonensalade met varkenshaas':1,'Bloemkoolquiche met oude kaas':0,'Sushisandwich met rivierkreeftjes &amp: avocado':1,'Pasta met aardappel, kip en sperziebonen':1,'Briequiche met appel':0,'Paddenstoelenpasteitje':1,'Kalkoen met salie':0,'Mediterrane eendenbouten met truffelpolenta &amp; parmezaan':1,'Fluitpasta':1,'Hollandse kaasfondue':0,'Noedels met mango &amp; kip':1,'Sjalotten-geitenkaasquiche met croutons':0,'Zoetzure filetlapjes met paksoi':1,\"Stéphane Reynaud's gestoofde sla\":1,'Tagliatelle met zalm en avocadopesto':1,'Noedels met ijsgarnalen en mango':1,'Stoere chili':1,'Vega gehakt van tofu met mie en paksoi':0,'Gebakken kabeljauw met aardappel-komkommersalade':1,'Fattoush met pita, kruiden en tuinerwten':0,'Kip en venkel in pittige tomatensaus':1,'Lasagne met salami &amp; mozzarella':1,'Kaasquiche met tomaat':0,'Deense balletjes met ui en dille':1,'Quinoasalade met kidneybonen en feta':0, \"3 tosti's met graskaas\":1,\"Stéphane Reynaud's gestoofde sla\":1, 'Boerenkoolstamppot met uitgebakken chorizo': 1,'Vegetarische ramen met kurkuma en cavolo nero':0,'Broodje bal met augurk, piccalilly en rodekoolsalade':0,'Pilav van quinoa':1,'Visvink met spinazierisotto':1,'Verrassende kip met rozemarijnaardappeltjes':1,'Sandwich met gepocheerde kip &amp; koolsalade':1,'Spaghetti aglio e olio met verse kruiden':1,'Sticky speklapjes met rozemarijnaardappeltjes':1,\"Bill Granger's saus van rauwe tomaten\":0,'Gebakken bloemkoolrijst met zalm en shanghaipaksoi':1,'Brunch-garnalencocktail':1,'Pittige gehaktballetjes met snelle bami':1,'Romige spaghetti met spinazie, zalm en garnale':1,'Pasta pesto met kip':1,'Eenpanspasta met gehaktballetjes':1}\n",
    "jesse = pd.DataFrame(data=ha.items())\n",
    "jesse.rename(columns = {0:'recipe', 1:'lekker'}, inplace = True)\n",
    "jesse"
   ]
  },
  {
   "cell_type": "code",
   "execution_count": 6,
   "id": "89432c0e",
   "metadata": {},
   "outputs": [
    {
     "data": {
      "text/html": [
       "<div>\n",
       "<style scoped>\n",
       "    .dataframe tbody tr th:only-of-type {\n",
       "        vertical-align: middle;\n",
       "    }\n",
       "\n",
       "    .dataframe tbody tr th {\n",
       "        vertical-align: top;\n",
       "    }\n",
       "\n",
       "    .dataframe thead th {\n",
       "        text-align: right;\n",
       "    }\n",
       "</style>\n",
       "<table border=\"1\" class=\"dataframe\">\n",
       "  <thead>\n",
       "    <tr style=\"text-align: right;\">\n",
       "      <th></th>\n",
       "      <th>(arachide)olie</th>\n",
       "      <th>(olijf)olie</th>\n",
       "      <th>Franse mosterd</th>\n",
       "      <th>Griekse yoghurt</th>\n",
       "      <th>Japanse sojasaus</th>\n",
       "      <th>Parmezaanse kaas</th>\n",
       "      <th>Parmigiano Reggiano</th>\n",
       "      <th>Pecorino Romano (kaas)</th>\n",
       "      <th>Tasty Tom trostomaat</th>\n",
       "      <th>aardappelen</th>\n",
       "      <th>...</th>\n",
       "      <th>winterpeen</th>\n",
       "      <th>witlof</th>\n",
       "      <th>witte kaas 45+</th>\n",
       "      <th>witte rijst</th>\n",
       "      <th>zilvervliesrijst</th>\n",
       "      <th>zoete aardappel</th>\n",
       "      <th>zoete chilisaus</th>\n",
       "      <th>zonnebloemolie</th>\n",
       "      <th>zout</th>\n",
       "      <th>lekker</th>\n",
       "    </tr>\n",
       "    <tr>\n",
       "      <th>recipe</th>\n",
       "      <th></th>\n",
       "      <th></th>\n",
       "      <th></th>\n",
       "      <th></th>\n",
       "      <th></th>\n",
       "      <th></th>\n",
       "      <th></th>\n",
       "      <th></th>\n",
       "      <th></th>\n",
       "      <th></th>\n",
       "      <th></th>\n",
       "      <th></th>\n",
       "      <th></th>\n",
       "      <th></th>\n",
       "      <th></th>\n",
       "      <th></th>\n",
       "      <th></th>\n",
       "      <th></th>\n",
       "      <th></th>\n",
       "      <th></th>\n",
       "      <th></th>\n",
       "    </tr>\n",
       "  </thead>\n",
       "  <tbody>\n",
       "    <tr>\n",
       "      <th>'Kapsalon' met&amp;nbsp;vegetarische&amp;nbsp;kipshoarma en salade</th>\n",
       "      <td>0.0</td>\n",
       "      <td>0.0</td>\n",
       "      <td>0.0</td>\n",
       "      <td>0.0</td>\n",
       "      <td>0.0</td>\n",
       "      <td>0.0</td>\n",
       "      <td>0.0</td>\n",
       "      <td>0.0</td>\n",
       "      <td>0.0</td>\n",
       "      <td>0.0</td>\n",
       "      <td>...</td>\n",
       "      <td>0.0</td>\n",
       "      <td>0.0</td>\n",
       "      <td>0.0</td>\n",
       "      <td>0.0</td>\n",
       "      <td>0.0</td>\n",
       "      <td>0.0</td>\n",
       "      <td>0.0</td>\n",
       "      <td>0.0</td>\n",
       "      <td>0.0</td>\n",
       "      <td>0</td>\n",
       "    </tr>\n",
       "    <tr>\n",
       "      <th>3 tosti's met graskaas</th>\n",
       "      <td>0.0</td>\n",
       "      <td>0.0</td>\n",
       "      <td>0.0</td>\n",
       "      <td>0.0</td>\n",
       "      <td>0.0</td>\n",
       "      <td>0.0</td>\n",
       "      <td>0.0</td>\n",
       "      <td>0.0</td>\n",
       "      <td>0.0</td>\n",
       "      <td>0.0</td>\n",
       "      <td>...</td>\n",
       "      <td>0.0</td>\n",
       "      <td>0.0</td>\n",
       "      <td>0.0</td>\n",
       "      <td>0.0</td>\n",
       "      <td>0.0</td>\n",
       "      <td>0.0</td>\n",
       "      <td>0.0</td>\n",
       "      <td>0.0</td>\n",
       "      <td>0.0</td>\n",
       "      <td>1</td>\n",
       "    </tr>\n",
       "    <tr>\n",
       "      <th>Aardappelpuree met kaas, groenten en kaaskoekjes</th>\n",
       "      <td>0.0</td>\n",
       "      <td>0.0</td>\n",
       "      <td>0.0</td>\n",
       "      <td>0.0</td>\n",
       "      <td>0.0</td>\n",
       "      <td>0.0</td>\n",
       "      <td>0.0</td>\n",
       "      <td>0.0</td>\n",
       "      <td>0.0</td>\n",
       "      <td>0.0</td>\n",
       "      <td>...</td>\n",
       "      <td>0.0</td>\n",
       "      <td>0.0</td>\n",
       "      <td>0.0</td>\n",
       "      <td>0.0</td>\n",
       "      <td>0.0</td>\n",
       "      <td>0.0</td>\n",
       "      <td>0.0</td>\n",
       "      <td>0.0</td>\n",
       "      <td>0.0</td>\n",
       "      <td>0</td>\n",
       "    </tr>\n",
       "    <tr>\n",
       "      <th>Aardappelsalade met gerookte zalm</th>\n",
       "      <td>0.0</td>\n",
       "      <td>0.0</td>\n",
       "      <td>0.0</td>\n",
       "      <td>0.0</td>\n",
       "      <td>0.0</td>\n",
       "      <td>0.0</td>\n",
       "      <td>0.0</td>\n",
       "      <td>0.0</td>\n",
       "      <td>0.0</td>\n",
       "      <td>0.0</td>\n",
       "      <td>...</td>\n",
       "      <td>0.0</td>\n",
       "      <td>0.0</td>\n",
       "      <td>0.0</td>\n",
       "      <td>0.0</td>\n",
       "      <td>0.0</td>\n",
       "      <td>0.0</td>\n",
       "      <td>0.0</td>\n",
       "      <td>0.0</td>\n",
       "      <td>0.0</td>\n",
       "      <td>1</td>\n",
       "    </tr>\n",
       "    <tr>\n",
       "      <th>Aardappelsalade met lamsham en lentegroenten</th>\n",
       "      <td>0.0</td>\n",
       "      <td>0.0</td>\n",
       "      <td>0.0</td>\n",
       "      <td>0.0</td>\n",
       "      <td>0.0</td>\n",
       "      <td>0.0</td>\n",
       "      <td>0.0</td>\n",
       "      <td>0.0</td>\n",
       "      <td>0.0</td>\n",
       "      <td>0.0</td>\n",
       "      <td>...</td>\n",
       "      <td>0.0</td>\n",
       "      <td>0.0</td>\n",
       "      <td>0.0</td>\n",
       "      <td>0.0</td>\n",
       "      <td>0.0</td>\n",
       "      <td>0.0</td>\n",
       "      <td>0.0</td>\n",
       "      <td>0.0</td>\n",
       "      <td>0.0</td>\n",
       "      <td>1</td>\n",
       "    </tr>\n",
       "    <tr>\n",
       "      <th>...</th>\n",
       "      <td>...</td>\n",
       "      <td>...</td>\n",
       "      <td>...</td>\n",
       "      <td>...</td>\n",
       "      <td>...</td>\n",
       "      <td>...</td>\n",
       "      <td>...</td>\n",
       "      <td>...</td>\n",
       "      <td>...</td>\n",
       "      <td>...</td>\n",
       "      <td>...</td>\n",
       "      <td>...</td>\n",
       "      <td>...</td>\n",
       "      <td>...</td>\n",
       "      <td>...</td>\n",
       "      <td>...</td>\n",
       "      <td>...</td>\n",
       "      <td>...</td>\n",
       "      <td>...</td>\n",
       "      <td>...</td>\n",
       "      <td>...</td>\n",
       "    </tr>\n",
       "    <tr>\n",
       "      <th>Zoetzure filetlapjes met paksoi</th>\n",
       "      <td>0.0</td>\n",
       "      <td>0.0</td>\n",
       "      <td>0.0</td>\n",
       "      <td>0.0</td>\n",
       "      <td>0.0</td>\n",
       "      <td>0.0</td>\n",
       "      <td>0.0</td>\n",
       "      <td>0.0</td>\n",
       "      <td>0.0</td>\n",
       "      <td>0.0</td>\n",
       "      <td>...</td>\n",
       "      <td>0.0</td>\n",
       "      <td>0.0</td>\n",
       "      <td>0.0</td>\n",
       "      <td>0.0</td>\n",
       "      <td>0.0</td>\n",
       "      <td>0.0</td>\n",
       "      <td>0.0</td>\n",
       "      <td>1.0</td>\n",
       "      <td>0.0</td>\n",
       "      <td>1</td>\n",
       "    </tr>\n",
       "    <tr>\n",
       "      <th>Zomerse pastabowl</th>\n",
       "      <td>0.0</td>\n",
       "      <td>0.0</td>\n",
       "      <td>0.0</td>\n",
       "      <td>0.0</td>\n",
       "      <td>0.0</td>\n",
       "      <td>0.0</td>\n",
       "      <td>0.0</td>\n",
       "      <td>0.0</td>\n",
       "      <td>0.0</td>\n",
       "      <td>0.0</td>\n",
       "      <td>...</td>\n",
       "      <td>0.0</td>\n",
       "      <td>0.0</td>\n",
       "      <td>0.0</td>\n",
       "      <td>0.0</td>\n",
       "      <td>0.0</td>\n",
       "      <td>0.0</td>\n",
       "      <td>0.0</td>\n",
       "      <td>0.0</td>\n",
       "      <td>0.0</td>\n",
       "      <td>1</td>\n",
       "    </tr>\n",
       "    <tr>\n",
       "      <th>Zuurkoolstamp met rookworstcroutons</th>\n",
       "      <td>0.0</td>\n",
       "      <td>0.0</td>\n",
       "      <td>0.0</td>\n",
       "      <td>0.0</td>\n",
       "      <td>0.0</td>\n",
       "      <td>0.0</td>\n",
       "      <td>0.0</td>\n",
       "      <td>0.0</td>\n",
       "      <td>0.0</td>\n",
       "      <td>0.0</td>\n",
       "      <td>...</td>\n",
       "      <td>0.0</td>\n",
       "      <td>0.0</td>\n",
       "      <td>0.0</td>\n",
       "      <td>0.0</td>\n",
       "      <td>0.0</td>\n",
       "      <td>0.0</td>\n",
       "      <td>0.0</td>\n",
       "      <td>0.0</td>\n",
       "      <td>0.0</td>\n",
       "      <td>0</td>\n",
       "    </tr>\n",
       "    <tr>\n",
       "      <th>Zuurkoolstamppot met truffelsalami</th>\n",
       "      <td>0.0</td>\n",
       "      <td>0.0</td>\n",
       "      <td>0.0</td>\n",
       "      <td>0.0</td>\n",
       "      <td>0.0</td>\n",
       "      <td>0.0</td>\n",
       "      <td>0.0</td>\n",
       "      <td>0.0</td>\n",
       "      <td>0.0</td>\n",
       "      <td>0.0</td>\n",
       "      <td>...</td>\n",
       "      <td>0.0</td>\n",
       "      <td>0.0</td>\n",
       "      <td>0.0</td>\n",
       "      <td>0.0</td>\n",
       "      <td>0.0</td>\n",
       "      <td>0.0</td>\n",
       "      <td>0.0</td>\n",
       "      <td>0.0</td>\n",
       "      <td>0.0</td>\n",
       "      <td>0</td>\n",
       "    </tr>\n",
       "    <tr>\n",
       "      <th>Zwartebonen-rijstsalade met avocado &amp;amp; witte kaas</th>\n",
       "      <td>0.0</td>\n",
       "      <td>0.0</td>\n",
       "      <td>0.0</td>\n",
       "      <td>0.0</td>\n",
       "      <td>0.0</td>\n",
       "      <td>0.0</td>\n",
       "      <td>0.0</td>\n",
       "      <td>0.0</td>\n",
       "      <td>0.0</td>\n",
       "      <td>0.0</td>\n",
       "      <td>...</td>\n",
       "      <td>0.0</td>\n",
       "      <td>0.0</td>\n",
       "      <td>1.0</td>\n",
       "      <td>1.0</td>\n",
       "      <td>0.0</td>\n",
       "      <td>0.0</td>\n",
       "      <td>0.0</td>\n",
       "      <td>0.0</td>\n",
       "      <td>0.0</td>\n",
       "      <td>0</td>\n",
       "    </tr>\n",
       "  </tbody>\n",
       "</table>\n",
       "<p>262 rows × 167 columns</p>\n",
       "</div>"
      ],
      "text/plain": [
       "                                                    (arachide)olie  \\\n",
       "recipe                                                               \n",
       "'Kapsalon' met&nbsp;vegetarische&nbsp;kipshoarm...             0.0   \n",
       "3 tosti's met graskaas                                         0.0   \n",
       "Aardappelpuree met kaas, groenten en kaaskoekjes               0.0   \n",
       "Aardappelsalade met gerookte zalm                              0.0   \n",
       "Aardappelsalade met lamsham en lentegroenten                   0.0   \n",
       "...                                                            ...   \n",
       "Zoetzure filetlapjes met paksoi                                0.0   \n",
       "Zomerse pastabowl                                              0.0   \n",
       "Zuurkoolstamp met rookworstcroutons                            0.0   \n",
       "Zuurkoolstamppot met truffelsalami                             0.0   \n",
       "Zwartebonen-rijstsalade met avocado &amp; witte...             0.0   \n",
       "\n",
       "                                                    (olijf)olie  \\\n",
       "recipe                                                            \n",
       "'Kapsalon' met&nbsp;vegetarische&nbsp;kipshoarm...          0.0   \n",
       "3 tosti's met graskaas                                      0.0   \n",
       "Aardappelpuree met kaas, groenten en kaaskoekjes            0.0   \n",
       "Aardappelsalade met gerookte zalm                           0.0   \n",
       "Aardappelsalade met lamsham en lentegroenten                0.0   \n",
       "...                                                         ...   \n",
       "Zoetzure filetlapjes met paksoi                             0.0   \n",
       "Zomerse pastabowl                                           0.0   \n",
       "Zuurkoolstamp met rookworstcroutons                         0.0   \n",
       "Zuurkoolstamppot met truffelsalami                          0.0   \n",
       "Zwartebonen-rijstsalade met avocado &amp; witte...          0.0   \n",
       "\n",
       "                                                    Franse mosterd  \\\n",
       "recipe                                                               \n",
       "'Kapsalon' met&nbsp;vegetarische&nbsp;kipshoarm...             0.0   \n",
       "3 tosti's met graskaas                                         0.0   \n",
       "Aardappelpuree met kaas, groenten en kaaskoekjes               0.0   \n",
       "Aardappelsalade met gerookte zalm                              0.0   \n",
       "Aardappelsalade met lamsham en lentegroenten                   0.0   \n",
       "...                                                            ...   \n",
       "Zoetzure filetlapjes met paksoi                                0.0   \n",
       "Zomerse pastabowl                                              0.0   \n",
       "Zuurkoolstamp met rookworstcroutons                            0.0   \n",
       "Zuurkoolstamppot met truffelsalami                             0.0   \n",
       "Zwartebonen-rijstsalade met avocado &amp; witte...             0.0   \n",
       "\n",
       "                                                    Griekse yoghurt  \\\n",
       "recipe                                                                \n",
       "'Kapsalon' met&nbsp;vegetarische&nbsp;kipshoarm...              0.0   \n",
       "3 tosti's met graskaas                                          0.0   \n",
       "Aardappelpuree met kaas, groenten en kaaskoekjes                0.0   \n",
       "Aardappelsalade met gerookte zalm                               0.0   \n",
       "Aardappelsalade met lamsham en lentegroenten                    0.0   \n",
       "...                                                             ...   \n",
       "Zoetzure filetlapjes met paksoi                                 0.0   \n",
       "Zomerse pastabowl                                               0.0   \n",
       "Zuurkoolstamp met rookworstcroutons                             0.0   \n",
       "Zuurkoolstamppot met truffelsalami                              0.0   \n",
       "Zwartebonen-rijstsalade met avocado &amp; witte...              0.0   \n",
       "\n",
       "                                                    Japanse sojasaus  \\\n",
       "recipe                                                                 \n",
       "'Kapsalon' met&nbsp;vegetarische&nbsp;kipshoarm...               0.0   \n",
       "3 tosti's met graskaas                                           0.0   \n",
       "Aardappelpuree met kaas, groenten en kaaskoekjes                 0.0   \n",
       "Aardappelsalade met gerookte zalm                                0.0   \n",
       "Aardappelsalade met lamsham en lentegroenten                     0.0   \n",
       "...                                                              ...   \n",
       "Zoetzure filetlapjes met paksoi                                  0.0   \n",
       "Zomerse pastabowl                                                0.0   \n",
       "Zuurkoolstamp met rookworstcroutons                              0.0   \n",
       "Zuurkoolstamppot met truffelsalami                               0.0   \n",
       "Zwartebonen-rijstsalade met avocado &amp; witte...               0.0   \n",
       "\n",
       "                                                    Parmezaanse kaas  \\\n",
       "recipe                                                                 \n",
       "'Kapsalon' met&nbsp;vegetarische&nbsp;kipshoarm...               0.0   \n",
       "3 tosti's met graskaas                                           0.0   \n",
       "Aardappelpuree met kaas, groenten en kaaskoekjes                 0.0   \n",
       "Aardappelsalade met gerookte zalm                                0.0   \n",
       "Aardappelsalade met lamsham en lentegroenten                     0.0   \n",
       "...                                                              ...   \n",
       "Zoetzure filetlapjes met paksoi                                  0.0   \n",
       "Zomerse pastabowl                                                0.0   \n",
       "Zuurkoolstamp met rookworstcroutons                              0.0   \n",
       "Zuurkoolstamppot met truffelsalami                               0.0   \n",
       "Zwartebonen-rijstsalade met avocado &amp; witte...               0.0   \n",
       "\n",
       "                                                    Parmigiano Reggiano  \\\n",
       "recipe                                                                    \n",
       "'Kapsalon' met&nbsp;vegetarische&nbsp;kipshoarm...                  0.0   \n",
       "3 tosti's met graskaas                                              0.0   \n",
       "Aardappelpuree met kaas, groenten en kaaskoekjes                    0.0   \n",
       "Aardappelsalade met gerookte zalm                                   0.0   \n",
       "Aardappelsalade met lamsham en lentegroenten                        0.0   \n",
       "...                                                                 ...   \n",
       "Zoetzure filetlapjes met paksoi                                     0.0   \n",
       "Zomerse pastabowl                                                   0.0   \n",
       "Zuurkoolstamp met rookworstcroutons                                 0.0   \n",
       "Zuurkoolstamppot met truffelsalami                                  0.0   \n",
       "Zwartebonen-rijstsalade met avocado &amp; witte...                  0.0   \n",
       "\n",
       "                                                    Pecorino Romano (kaas)  \\\n",
       "recipe                                                                       \n",
       "'Kapsalon' met&nbsp;vegetarische&nbsp;kipshoarm...                     0.0   \n",
       "3 tosti's met graskaas                                                 0.0   \n",
       "Aardappelpuree met kaas, groenten en kaaskoekjes                       0.0   \n",
       "Aardappelsalade met gerookte zalm                                      0.0   \n",
       "Aardappelsalade met lamsham en lentegroenten                           0.0   \n",
       "...                                                                    ...   \n",
       "Zoetzure filetlapjes met paksoi                                        0.0   \n",
       "Zomerse pastabowl                                                      0.0   \n",
       "Zuurkoolstamp met rookworstcroutons                                    0.0   \n",
       "Zuurkoolstamppot met truffelsalami                                     0.0   \n",
       "Zwartebonen-rijstsalade met avocado &amp; witte...                     0.0   \n",
       "\n",
       "                                                    Tasty Tom trostomaat  \\\n",
       "recipe                                                                     \n",
       "'Kapsalon' met&nbsp;vegetarische&nbsp;kipshoarm...                   0.0   \n",
       "3 tosti's met graskaas                                               0.0   \n",
       "Aardappelpuree met kaas, groenten en kaaskoekjes                     0.0   \n",
       "Aardappelsalade met gerookte zalm                                    0.0   \n",
       "Aardappelsalade met lamsham en lentegroenten                         0.0   \n",
       "...                                                                  ...   \n",
       "Zoetzure filetlapjes met paksoi                                      0.0   \n",
       "Zomerse pastabowl                                                    0.0   \n",
       "Zuurkoolstamp met rookworstcroutons                                  0.0   \n",
       "Zuurkoolstamppot met truffelsalami                                   0.0   \n",
       "Zwartebonen-rijstsalade met avocado &amp; witte...                   0.0   \n",
       "\n",
       "                                                    aardappelen  ...  \\\n",
       "recipe                                                           ...   \n",
       "'Kapsalon' met&nbsp;vegetarische&nbsp;kipshoarm...          0.0  ...   \n",
       "3 tosti's met graskaas                                      0.0  ...   \n",
       "Aardappelpuree met kaas, groenten en kaaskoekjes            0.0  ...   \n",
       "Aardappelsalade met gerookte zalm                           0.0  ...   \n",
       "Aardappelsalade met lamsham en lentegroenten                0.0  ...   \n",
       "...                                                         ...  ...   \n",
       "Zoetzure filetlapjes met paksoi                             0.0  ...   \n",
       "Zomerse pastabowl                                           0.0  ...   \n",
       "Zuurkoolstamp met rookworstcroutons                         0.0  ...   \n",
       "Zuurkoolstamppot met truffelsalami                          0.0  ...   \n",
       "Zwartebonen-rijstsalade met avocado &amp; witte...          0.0  ...   \n",
       "\n",
       "                                                    winterpeen  witlof  \\\n",
       "recipe                                                                   \n",
       "'Kapsalon' met&nbsp;vegetarische&nbsp;kipshoarm...         0.0     0.0   \n",
       "3 tosti's met graskaas                                     0.0     0.0   \n",
       "Aardappelpuree met kaas, groenten en kaaskoekjes           0.0     0.0   \n",
       "Aardappelsalade met gerookte zalm                          0.0     0.0   \n",
       "Aardappelsalade met lamsham en lentegroenten               0.0     0.0   \n",
       "...                                                        ...     ...   \n",
       "Zoetzure filetlapjes met paksoi                            0.0     0.0   \n",
       "Zomerse pastabowl                                          0.0     0.0   \n",
       "Zuurkoolstamp met rookworstcroutons                        0.0     0.0   \n",
       "Zuurkoolstamppot met truffelsalami                         0.0     0.0   \n",
       "Zwartebonen-rijstsalade met avocado &amp; witte...         0.0     0.0   \n",
       "\n",
       "                                                    witte kaas 45+  \\\n",
       "recipe                                                               \n",
       "'Kapsalon' met&nbsp;vegetarische&nbsp;kipshoarm...             0.0   \n",
       "3 tosti's met graskaas                                         0.0   \n",
       "Aardappelpuree met kaas, groenten en kaaskoekjes               0.0   \n",
       "Aardappelsalade met gerookte zalm                              0.0   \n",
       "Aardappelsalade met lamsham en lentegroenten                   0.0   \n",
       "...                                                            ...   \n",
       "Zoetzure filetlapjes met paksoi                                0.0   \n",
       "Zomerse pastabowl                                              0.0   \n",
       "Zuurkoolstamp met rookworstcroutons                            0.0   \n",
       "Zuurkoolstamppot met truffelsalami                             0.0   \n",
       "Zwartebonen-rijstsalade met avocado &amp; witte...             1.0   \n",
       "\n",
       "                                                    witte rijst  \\\n",
       "recipe                                                            \n",
       "'Kapsalon' met&nbsp;vegetarische&nbsp;kipshoarm...          0.0   \n",
       "3 tosti's met graskaas                                      0.0   \n",
       "Aardappelpuree met kaas, groenten en kaaskoekjes            0.0   \n",
       "Aardappelsalade met gerookte zalm                           0.0   \n",
       "Aardappelsalade met lamsham en lentegroenten                0.0   \n",
       "...                                                         ...   \n",
       "Zoetzure filetlapjes met paksoi                             0.0   \n",
       "Zomerse pastabowl                                           0.0   \n",
       "Zuurkoolstamp met rookworstcroutons                         0.0   \n",
       "Zuurkoolstamppot met truffelsalami                          0.0   \n",
       "Zwartebonen-rijstsalade met avocado &amp; witte...          1.0   \n",
       "\n",
       "                                                    zilvervliesrijst  \\\n",
       "recipe                                                                 \n",
       "'Kapsalon' met&nbsp;vegetarische&nbsp;kipshoarm...               0.0   \n",
       "3 tosti's met graskaas                                           0.0   \n",
       "Aardappelpuree met kaas, groenten en kaaskoekjes                 0.0   \n",
       "Aardappelsalade met gerookte zalm                                0.0   \n",
       "Aardappelsalade met lamsham en lentegroenten                     0.0   \n",
       "...                                                              ...   \n",
       "Zoetzure filetlapjes met paksoi                                  0.0   \n",
       "Zomerse pastabowl                                                0.0   \n",
       "Zuurkoolstamp met rookworstcroutons                              0.0   \n",
       "Zuurkoolstamppot met truffelsalami                               0.0   \n",
       "Zwartebonen-rijstsalade met avocado &amp; witte...               0.0   \n",
       "\n",
       "                                                    zoete aardappel  \\\n",
       "recipe                                                                \n",
       "'Kapsalon' met&nbsp;vegetarische&nbsp;kipshoarm...              0.0   \n",
       "3 tosti's met graskaas                                          0.0   \n",
       "Aardappelpuree met kaas, groenten en kaaskoekjes                0.0   \n",
       "Aardappelsalade met gerookte zalm                               0.0   \n",
       "Aardappelsalade met lamsham en lentegroenten                    0.0   \n",
       "...                                                             ...   \n",
       "Zoetzure filetlapjes met paksoi                                 0.0   \n",
       "Zomerse pastabowl                                               0.0   \n",
       "Zuurkoolstamp met rookworstcroutons                             0.0   \n",
       "Zuurkoolstamppot met truffelsalami                              0.0   \n",
       "Zwartebonen-rijstsalade met avocado &amp; witte...              0.0   \n",
       "\n",
       "                                                    zoete chilisaus  \\\n",
       "recipe                                                                \n",
       "'Kapsalon' met&nbsp;vegetarische&nbsp;kipshoarm...              0.0   \n",
       "3 tosti's met graskaas                                          0.0   \n",
       "Aardappelpuree met kaas, groenten en kaaskoekjes                0.0   \n",
       "Aardappelsalade met gerookte zalm                               0.0   \n",
       "Aardappelsalade met lamsham en lentegroenten                    0.0   \n",
       "...                                                             ...   \n",
       "Zoetzure filetlapjes met paksoi                                 0.0   \n",
       "Zomerse pastabowl                                               0.0   \n",
       "Zuurkoolstamp met rookworstcroutons                             0.0   \n",
       "Zuurkoolstamppot met truffelsalami                              0.0   \n",
       "Zwartebonen-rijstsalade met avocado &amp; witte...              0.0   \n",
       "\n",
       "                                                    zonnebloemolie  zout  \\\n",
       "recipe                                                                     \n",
       "'Kapsalon' met&nbsp;vegetarische&nbsp;kipshoarm...             0.0   0.0   \n",
       "3 tosti's met graskaas                                         0.0   0.0   \n",
       "Aardappelpuree met kaas, groenten en kaaskoekjes               0.0   0.0   \n",
       "Aardappelsalade met gerookte zalm                              0.0   0.0   \n",
       "Aardappelsalade met lamsham en lentegroenten                   0.0   0.0   \n",
       "...                                                            ...   ...   \n",
       "Zoetzure filetlapjes met paksoi                                1.0   0.0   \n",
       "Zomerse pastabowl                                              0.0   0.0   \n",
       "Zuurkoolstamp met rookworstcroutons                            0.0   0.0   \n",
       "Zuurkoolstamppot met truffelsalami                             0.0   0.0   \n",
       "Zwartebonen-rijstsalade met avocado &amp; witte...             0.0   0.0   \n",
       "\n",
       "                                                    lekker  \n",
       "recipe                                                      \n",
       "'Kapsalon' met&nbsp;vegetarische&nbsp;kipshoarm...       0  \n",
       "3 tosti's met graskaas                                   1  \n",
       "Aardappelpuree met kaas, groenten en kaaskoekjes         0  \n",
       "Aardappelsalade met gerookte zalm                        1  \n",
       "Aardappelsalade met lamsham en lentegroenten             1  \n",
       "...                                                    ...  \n",
       "Zoetzure filetlapjes met paksoi                          1  \n",
       "Zomerse pastabowl                                        1  \n",
       "Zuurkoolstamp met rookworstcroutons                      0  \n",
       "Zuurkoolstamppot met truffelsalami                       0  \n",
       "Zwartebonen-rijstsalade met avocado &amp; witte...       0  \n",
       "\n",
       "[262 rows x 167 columns]"
      ]
     },
     "execution_count": 6,
     "metadata": {},
     "output_type": "execute_result"
    }
   ],
   "source": [
    "jesse_ingr = pd.merge(df,jesse, how= 'inner',left_on= 'recipe', right_on = 'recipe')\n",
    "jesse_ingr = jesse_ingr.set_index('recipe')\n",
    "jesse_ingr"
   ]
  },
  {
   "cell_type": "code",
   "execution_count": 7,
   "id": "f89261a1",
   "metadata": {},
   "outputs": [],
   "source": [
    "X = jesse_ingr.iloc[:,:-1]\n",
    "y = jesse_ingr.iloc[:,-1]"
   ]
  },
  {
   "cell_type": "code",
   "execution_count": 8,
   "id": "f7bf0919",
   "metadata": {},
   "outputs": [],
   "source": [
    "X_train, X_test, y_train, y_test = train_test_split(X, y, test_size=0.2)#, random_state=42)"
   ]
  },
  {
   "cell_type": "code",
   "execution_count": null,
   "id": "c940cee9",
   "metadata": {},
   "outputs": [],
   "source": []
  },
  {
   "cell_type": "code",
   "execution_count": 14,
   "id": "827eef84",
   "metadata": {},
   "outputs": [
    {
     "name": "stdout",
     "output_type": "stream",
     "text": [
      "[[ 1 11]\n",
      " [ 0 41]]\n",
      "              precision    recall  f1-score   support\n",
      "\n",
      "           0       1.00      0.08      0.15        12\n",
      "           1       0.79      1.00      0.88        41\n",
      "\n",
      "    accuracy                           0.79        53\n",
      "   macro avg       0.89      0.54      0.52        53\n",
      "weighted avg       0.84      0.79      0.72        53\n",
      "\n"
     ]
    }
   ],
   "source": [
    "#Import Decision Tree Classifier\n",
    "from sklearn import tree\n",
    "\n",
    "#Create and fit Decision Tree Classifier\n",
    "clf = tree.DecisionTreeClassifier(max_depth = 3).fit(X_train, y_train)\n",
    "\n",
    "#Create predictions of Decision Tree Classifier\n",
    "clf_y_pred =  clf.predict(X_test)\n",
    "\n",
    "#Print confusion matrix and classification report\n",
    "print(confusion_matrix(y_test, clf_y_pred))\n",
    "print(classification_report(y_test, clf_y_pred))"
   ]
  },
  {
   "cell_type": "code",
   "execution_count": 10,
   "id": "53b670c3",
   "metadata": {},
   "outputs": [
    {
     "name": "stdout",
     "output_type": "stream",
     "text": [
      "[[ 8  4]\n",
      " [20 21]]\n",
      "              precision    recall  f1-score   support\n",
      "\n",
      "           0       0.29      0.67      0.40        12\n",
      "           1       0.84      0.51      0.64        41\n",
      "\n",
      "    accuracy                           0.55        53\n",
      "   macro avg       0.56      0.59      0.52        53\n",
      "weighted avg       0.71      0.55      0.58        53\n",
      "\n"
     ]
    }
   ],
   "source": [
    "#Import K Neighbors Classifier\n",
    "from sklearn.neighbors import KNeighborsClassifier\n",
    "\n",
    "#Create and fit K Neighbors Classifier\n",
    "knn = KNeighborsClassifier(n_neighbors=3).fit(X_train, y_train)\n",
    "\n",
    "#Create predictions of K Neighbors Classifier\n",
    "knn_y_pred =  knn.predict(X_test)\n",
    "\n",
    "#Print confusion matrix and classification report\n",
    "print(confusion_matrix(y_test, knn_y_pred))\n",
    "print(classification_report(y_test, knn_y_pred))"
   ]
  },
  {
   "cell_type": "code",
   "execution_count": 11,
   "id": "cfdb2893",
   "metadata": {},
   "outputs": [
    {
     "name": "stdout",
     "output_type": "stream",
     "text": [
      "[[ 5  7]\n",
      " [16 25]]\n",
      "              precision    recall  f1-score   support\n",
      "\n",
      "           0       0.24      0.42      0.30        12\n",
      "           1       0.78      0.61      0.68        41\n",
      "\n",
      "    accuracy                           0.57        53\n",
      "   macro avg       0.51      0.51      0.49        53\n",
      "weighted avg       0.66      0.57      0.60        53\n",
      "\n"
     ]
    }
   ],
   "source": [
    "#Import Logistic Regression\n",
    "from sklearn.linear_model import LogisticRegression\n",
    "\n",
    "#Create and fit Logistic Regression\n",
    "lgr = LogisticRegression(multi_class='multinomial', solver = 'lbfgs').fit(X_train, y_train)\n",
    "\n",
    "#Create predictions of Logistic Regression\n",
    "lgr_y_pred =  lgr.predict(X_test)\n",
    "\n",
    "#Print confusion matrix and classification report\n",
    "print(confusion_matrix(y_test, lgr_y_pred))\n",
    "print(classification_report(y_test, lgr_y_pred))"
   ]
  },
  {
   "cell_type": "code",
   "execution_count": 19,
   "id": "19b356e7",
   "metadata": {},
   "outputs": [
    {
     "data": {
      "image/png": "[encoded data removed]",
      "text/plain": [
       "<Figure size 640x480 with 1 Axes>"
      ]
     },
     "metadata": {},
     "output_type": "display_data"
    }
   ],
   "source": [
    "acc_list = []\n",
    "md_list = []\n",
    "def max_depth_accuracy_scores(depth):\n",
    "    train_X, valid_X, train_y, valid_y = train_test_split(X, y, train_size = 0.8)\n",
    "    for i in range(0, 100): \n",
    "        global acc_list\n",
    "        global md_list\n",
    "        model = DecisionTreeClassifier(max_depth = depth)\n",
    "        model.fit(train_X, train_y)\n",
    "        y_pred = model.predict(valid_X)\n",
    "        acc = precision_score(valid_y, y_pred)\n",
    "        mean_acc = []\n",
    "        mean_acc.append(acc)\n",
    "    return np.mean(mean_acc), depth\n",
    "\n",
    "for i in range(1, 50):\n",
    "    value = max_depth_accuracy_scores(i)\n",
    "    acc_list.append(value[0])\n",
    "    md_list.append(value[1])\n",
    "\n",
    "_ = plt.scatter(md_list, acc_list)\n",
    "_ = plt.xlabel('Max_depth')\n",
    "_ = plt.ylabel('Precision')\n",
    "plt.show()"
   ]
  },
  {
   "cell_type": "code",
   "execution_count": 20,
   "id": "8c90f14a",
   "metadata": {},
   "outputs": [
    {
     "data": {
      "image/png": "[encoded data removed]",
      "text/plain": [
       "<Figure size 640x480 with 1 Axes>"
      ]
     },
     "metadata": {},
     "output_type": "display_data"
    }
   ],
   "source": [
    "_ = plt.plot(md_list, acc_list)\n",
    "_ = plt.xlabel('Max_depth')\n",
    "_ = plt.ylabel('Precision')\n",
    "plt.show()"
   ]
  },
  {
   "cell_type": "code",
   "execution_count": 24,
   "id": "c16ad68b",
   "metadata": {},
   "outputs": [
    {
     "name": "stderr",
     "output_type": "stream",
     "text": [
      "\u001b[32m[I 2022-10-05 15:34:07,710]\u001b[0m A new study created in memory with name: no-name-f1521c9b-3fc2-485e-84e0-952c2c8a0857\u001b[0m\n",
      "\u001b[32m[I 2022-10-05 15:34:07,813]\u001b[0m Trial 0 finished with value: 0.7735849056603774 and parameters: {'max_depth': 44, 'min_samples_leaf': 3}. Best is trial 0 with value: 0.7735849056603774.\u001b[0m\n",
      "\u001b[32m[I 2022-10-05 15:34:07,904]\u001b[0m Trial 1 finished with value: 0.7735849056603774 and parameters: {'max_depth': 8, 'min_samples_leaf': 9}. Best is trial 0 with value: 0.7735849056603774.\u001b[0m\n",
      "\u001b[32m[I 2022-10-05 15:34:08,002]\u001b[0m Trial 2 finished with value: 0.7884615384615384 and parameters: {'max_depth': 12, 'min_samples_leaf': 2}. Best is trial 0 with value: 0.7735849056603774.\u001b[0m\n",
      "\u001b[32m[I 2022-10-05 15:34:08,101]\u001b[0m Trial 3 finished with value: 0.7735849056603774 and parameters: {'max_depth': 46, 'min_samples_leaf': 4}. Best is trial 0 with value: 0.7735849056603774.\u001b[0m\n",
      "\u001b[32m[I 2022-10-05 15:34:08,192]\u001b[0m Trial 4 finished with value: 0.7735849056603774 and parameters: {'max_depth': 3, 'min_samples_leaf': 10}. Best is trial 0 with value: 0.7735849056603774.\u001b[0m\n",
      "\u001b[32m[I 2022-10-05 15:34:08,291]\u001b[0m Trial 5 finished with value: 0.8 and parameters: {'max_depth': 11, 'min_samples_leaf': 1}. Best is trial 0 with value: 0.7735849056603774.\u001b[0m\n",
      "\u001b[32m[I 2022-10-05 15:34:08,383]\u001b[0m Trial 6 finished with value: 0.7735849056603774 and parameters: {'max_depth': 25, 'min_samples_leaf': 8}. Best is trial 0 with value: 0.7735849056603774.\u001b[0m\n",
      "\u001b[32m[I 2022-10-05 15:34:08,476]\u001b[0m Trial 7 finished with value: 0.7735849056603774 and parameters: {'max_depth': 28, 'min_samples_leaf': 7}. Best is trial 0 with value: 0.7735849056603774.\u001b[0m\n",
      "\u001b[32m[I 2022-10-05 15:34:08,567]\u001b[0m Trial 8 finished with value: 0.7735849056603774 and parameters: {'max_depth': 1, 'min_samples_leaf': 9}. Best is trial 0 with value: 0.7735849056603774.\u001b[0m\n",
      "\u001b[32m[I 2022-10-05 15:34:08,665]\u001b[0m Trial 9 finished with value: 0.7735849056603774 and parameters: {'max_depth': 17, 'min_samples_leaf': 3}. Best is trial 0 with value: 0.7735849056603774.\u001b[0m\n",
      "\u001b[32m[I 2022-10-05 15:34:08,759]\u001b[0m Trial 10 finished with value: 0.7735849056603774 and parameters: {'max_depth': 44, 'min_samples_leaf': 5}. Best is trial 0 with value: 0.7735849056603774.\u001b[0m\n",
      "\u001b[32m[I 2022-10-05 15:34:08,850]\u001b[0m Trial 11 finished with value: 0.7735849056603774 and parameters: {'max_depth': 23, 'min_samples_leaf': 9}. Best is trial 0 with value: 0.7735849056603774.\u001b[0m\n",
      "\u001b[32m[I 2022-10-05 15:34:08,948]\u001b[0m Trial 12 finished with value: 0.7884615384615384 and parameters: {'max_depth': 39, 'min_samples_leaf': 3}. Best is trial 0 with value: 0.7735849056603774.\u001b[0m\n",
      "\u001b[32m[I 2022-10-05 15:34:09,041]\u001b[0m Trial 13 finished with value: 0.7735849056603774 and parameters: {'max_depth': 8, 'min_samples_leaf': 6}. Best is trial 0 with value: 0.7735849056603774.\u001b[0m\n",
      "\u001b[32m[I 2022-10-05 15:34:09,140]\u001b[0m Trial 14 finished with value: 0.7647058823529411 and parameters: {'max_depth': 42, 'min_samples_leaf': 3}. Best is trial 14 with value: 0.7647058823529411.\u001b[0m\n",
      "\u001b[32m[I 2022-10-05 15:34:09,239]\u001b[0m Trial 15 finished with value: 0.7692307692307693 and parameters: {'max_depth': 42, 'min_samples_leaf': 3}. Best is trial 14 with value: 0.7647058823529411.\u001b[0m\n",
      "\u001b[32m[I 2022-10-05 15:34:09,337]\u001b[0m Trial 16 finished with value: 0.7884615384615384 and parameters: {'max_depth': 42, 'min_samples_leaf': 3}. Best is trial 14 with value: 0.7647058823529411.\u001b[0m\n",
      "\u001b[32m[I 2022-10-05 15:34:09,436]\u001b[0m Trial 17 finished with value: 0.7692307692307693 and parameters: {'max_depth': 42, 'min_samples_leaf': 3}. Best is trial 14 with value: 0.7647058823529411.\u001b[0m\n",
      "\u001b[32m[I 2022-10-05 15:34:09,540]\u001b[0m Trial 18 finished with value: 0.7916666666666666 and parameters: {'max_depth': 49, 'min_samples_leaf': 2}. Best is trial 14 with value: 0.7647058823529411.\u001b[0m\n",
      "\u001b[32m[I 2022-10-05 15:34:09,632]\u001b[0m Trial 19 finished with value: 0.7735849056603774 and parameters: {'max_depth': 42, 'min_samples_leaf': 7}. Best is trial 14 with value: 0.7647058823529411.\u001b[0m\n"
     ]
    }
   ],
   "source": [
    "study = optuna.create_study()\n",
    "\n",
    "def trial(trial):\n",
    "    depth = trial.suggest_categorical(\"max_depth\", range(1, 51))\n",
    "    msl = trial.suggest_categorical(\"min_samples_leaf\", range(1, 11))\n",
    "    model = RandomForestClassifier(max_depth = depth, min_samples_leaf = msl)\n",
    "    model.fit(X_train, y_train)\n",
    "    pr_valid = precision_score(y_test, model.predict(X_test))\n",
    "    return pr_valid\n",
    "\n",
    "study.optimize(trial, n_trials = 20)"
   ]
  },
  {
   "cell_type": "code",
   "execution_count": 25,
   "id": "15d094bb",
   "metadata": {},
   "outputs": [
    {
     "data": {
      "application/vnd.plotly.v1+json": {
       "config": {
        "plotlyServerURL": "https://plot.ly"
       },
       "data": [
        {
         "marker": {
          "color": [
           0,
           1,
           2,
           3,
           4,
           5,
           6,
           7,
           8,
           9,
           10,
           11,
           12,
           13,
           14,
           15,
           16,
           17,
           18,
           19
          ],
          "colorbar": {
           "title": {
            "text": "#Trials"
           },
           "x": 1,
           "xpad": 40
          },
          "colorscale": [
           [
            0,
            "rgb(247,251,255)"
           ],
           [
            0.125,
            "rgb(222,235,247)"
           ],
           [
            0.25,
            "rgb(198,219,239)"
           ],
           [
            0.375,
            "rgb(158,202,225)"
           ],
           [
            0.5,
            "rgb(107,174,214)"
           ],
           [
            0.625,
            "rgb(66,146,198)"
           ],
           [
            0.75,
            "rgb(33,113,181)"
           ],
           [
            0.875,
            "rgb(8,81,156)"
           ],
           [
            1,
            "rgb(8,48,107)"
           ]
          ],
          "line": {
           "color": "Grey",
           "width": 0.5
          },
          "showscale": true
         },
         "mode": "markers",
         "showlegend": false,
         "type": "scatter",
         "x": [
          44,
          8,
          12,
          46,
          3,
          11,
          25,
          28,
          1,
          17,
          44,
          23,
          39,
          8,
          42,
          42,
          42,
          42,
          49,
          42
         ],
         "xaxis": "x",
         "y": [
          0.7735849056603774,
          0.7735849056603774,
          0.7884615384615384,
          0.7735849056603774,
          0.7735849056603774,
          0.8,
          0.7735849056603774,
          0.7735849056603774,
          0.7735849056603774,
          0.7735849056603774,
          0.7735849056603774,
          0.7735849056603774,
          0.7884615384615384,
          0.7735849056603774,
          0.7647058823529411,
          0.7692307692307693,
          0.7884615384615384,
          0.7692307692307693,
          0.7916666666666666,
          0.7735849056603774
         ],
         "yaxis": "y"
        },
        {
         "marker": {
          "color": [
           0,
           1,
           2,
           3,
           4,
           5,
           6,
           7,
           8,
           9,
           10,
           11,
           12,
           13,
           14,
           15,
           16,
           17,
           18,
           19
          ],
          "colorbar": {
           "title": {
            "text": "#Trials"
           },
           "x": 1,
           "xpad": 40
          },
          "colorscale": [
           [
            0,
            "rgb(247,251,255)"
           ],
           [
            0.125,
            "rgb(222,235,247)"
           ],
           [
            0.25,
            "rgb(198,219,239)"
           ],
           [
            0.375,
            "rgb(158,202,225)"
           ],
           [
            0.5,
            "rgb(107,174,214)"
           ],
           [
            0.625,
            "rgb(66,146,198)"
           ],
           [
            0.75,
            "rgb(33,113,181)"
           ],
           [
            0.875,
            "rgb(8,81,156)"
           ],
           [
            1,
            "rgb(8,48,107)"
           ]
          ],
          "line": {
           "color": "Grey",
           "width": 0.5
          },
          "showscale": false
         },
         "mode": "markers",
         "showlegend": false,
         "type": "scatter",
         "x": [
          3,
          9,
          2,
          4,
          10,
          1,
          8,
          7,
          9,
          3,
          5,
          9,
          3,
          6,
          3,
          3,
          3,
          3,
          2,
          7
         ],
         "xaxis": "x2",
         "y": [
          0.7735849056603774,
          0.7735849056603774,
          0.7884615384615384,
          0.7735849056603774,
          0.7735849056603774,
          0.8,
          0.7735849056603774,
          0.7735849056603774,
          0.7735849056603774,
          0.7735849056603774,
          0.7735849056603774,
          0.7735849056603774,
          0.7884615384615384,
          0.7735849056603774,
          0.7647058823529411,
          0.7692307692307693,
          0.7884615384615384,
          0.7692307692307693,
          0.7916666666666666,
          0.7735849056603774
         ],
         "yaxis": "y2"
        }
       ],
       "layout": {
        "template": {
         "data": {
          "bar": [
           {
            "error_x": {
             "color": "#2a3f5f"
            },
            "error_y": {
             "color": "#2a3f5f"
            },
            "marker": {
             "line": {
              "color": "#E5ECF6",
              "width": 0.5
             },
             "pattern": {
              "fillmode": "overlay",
              "size": 10,
              "solidity": 0.2
             }
            },
            "type": "bar"
           }
          ],
          "barpolar": [
           {
            "marker": {
             "line": {
              "color": "#E5ECF6",
              "width": 0.5
             },
             "pattern": {
              "fillmode": "overlay",
              "size": 10,
              "solidity": 0.2
             }
            },
            "type": "barpolar"
           }
          ],
          "carpet": [
           {
            "aaxis": {
             "endlinecolor": "#2a3f5f",
             "gridcolor": "white",
             "linecolor": "white",
             "minorgridcolor": "white",
             "startlinecolor": "#2a3f5f"
            },
            "baxis": {
             "endlinecolor": "#2a3f5f",
             "gridcolor": "white",
             "linecolor": "white",
             "minorgridcolor": "white",
             "startlinecolor": "#2a3f5f"
            },
            "type": "carpet"
           }
          ],
          "choropleth": [
           {
            "colorbar": {
             "outlinewidth": 0,
             "ticks": ""
            },
            "type": "choropleth"
           }
          ],
          "contour": [
           {
            "colorbar": {
             "outlinewidth": 0,
             "ticks": ""
            },
            "colorscale": [
             [
              0,
              "#0d0887"
             ],
             [
              0.1111111111111111,
              "#46039f"
             ],
             [
              0.2222222222222222,
              "#7201a8"
             ],
             [
              0.3333333333333333,
              "#9c179e"
             ],
             [
              0.4444444444444444,
              "#bd3786"
             ],
             [
              0.5555555555555556,
              "#d8576b"
             ],
             [
              0.6666666666666666,
              "#ed7953"
             ],
             [
              0.7777777777777778,
              "#fb9f3a"
             ],
             [
              0.8888888888888888,
              "#fdca26"
             ],
             [
              1,
              "#f0f921"
             ]
            ],
            "type": "contour"
           }
          ],
          "contourcarpet": [
           {
            "colorbar": {
             "outlinewidth": 0,
             "ticks": ""
            },
            "type": "contourcarpet"
           }
          ],
          "heatmap": [
           {
            "colorbar": {
             "outlinewidth": 0,
             "ticks": ""
            },
            "colorscale": [
             [
              0,
              "#0d0887"
             ],
             [
              0.1111111111111111,
              "#46039f"
             ],
             [
              0.2222222222222222,
              "#7201a8"
             ],
             [
              0.3333333333333333,
              "#9c179e"
             ],
             [
              0.4444444444444444,
              "#bd3786"
             ],
             [
              0.5555555555555556,
              "#d8576b"
             ],
             [
              0.6666666666666666,
              "#ed7953"
             ],
             [
              0.7777777777777778,
              "#fb9f3a"
             ],
             [
              0.8888888888888888,
              "#fdca26"
             ],
             [
              1,
              "#f0f921"
             ]
            ],
            "type": "heatmap"
           }
          ],
          "heatmapgl": [
           {
            "colorbar": {
             "outlinewidth": 0,
             "ticks": ""
            },
            "colorscale": [
             [
              0,
              "#0d0887"
             ],
             [
              0.1111111111111111,
              "#46039f"
             ],
             [
              0.2222222222222222,
              "#7201a8"
             ],
             [
              0.3333333333333333,
              "#9c179e"
             ],
             [
              0.4444444444444444,
              "#bd3786"
             ],
             [
              0.5555555555555556,
              "#d8576b"
             ],
             [
              0.6666666666666666,
              "#ed7953"
             ],
             [
              0.7777777777777778,
              "#fb9f3a"
             ],
             [
              0.8888888888888888,
              "#fdca26"
             ],
             [
              1,
              "#f0f921"
             ]
            ],
            "type": "heatmapgl"
           }
          ],
          "histogram": [
           {
            "marker": {
             "pattern": {
              "fillmode": "overlay",
              "size": 10,
              "solidity": 0.2
             }
            },
            "type": "histogram"
           }
          ],
          "histogram2d": [
           {
            "colorbar": {
             "outlinewidth": 0,
             "ticks": ""
            },
            "colorscale": [
             [
              0,
              "#0d0887"
             ],
             [
              0.1111111111111111,
              "#46039f"
             ],
             [
              0.2222222222222222,
              "#7201a8"
             ],
             [
              0.3333333333333333,
              "#9c179e"
             ],
             [
              0.4444444444444444,
              "#bd3786"
             ],
             [
              0.5555555555555556,
              "#d8576b"
             ],
             [
              0.6666666666666666,
              "#ed7953"
             ],
             [
              0.7777777777777778,
              "#fb9f3a"
             ],
             [
              0.8888888888888888,
              "#fdca26"
             ],
             [
              1,
              "#f0f921"
             ]
            ],
            "type": "histogram2d"
           }
          ],
          "histogram2dcontour": [
           {
            "colorbar": {
             "outlinewidth": 0,
             "ticks": ""
            },
            "colorscale": [
             [
              0,
              "#0d0887"
             ],
             [
              0.1111111111111111,
              "#46039f"
             ],
             [
              0.2222222222222222,
              "#7201a8"
             ],
             [
              0.3333333333333333,
              "#9c179e"
             ],
             [
              0.4444444444444444,
              "#bd3786"
             ],
             [
              0.5555555555555556,
              "#d8576b"
             ],
             [
              0.6666666666666666,
              "#ed7953"
             ],
             [
              0.7777777777777778,
              "#fb9f3a"
             ],
             [
              0.8888888888888888,
              "#fdca26"
             ],
             [
              1,
              "#f0f921"
             ]
            ],
            "type": "histogram2dcontour"
           }
          ],
          "mesh3d": [
           {
            "colorbar": {
             "outlinewidth": 0,
             "ticks": ""
            },
            "type": "mesh3d"
           }
          ],
          "parcoords": [
           {
            "line": {
             "colorbar": {
              "outlinewidth": 0,
              "ticks": ""
             }
            },
            "type": "parcoords"
           }
          ],
          "pie": [
           {
            "automargin": true,
            "type": "pie"
           }
          ],
          "scatter": [
           {
            "fillpattern": {
             "fillmode": "overlay",
             "size": 10,
             "solidity": 0.2
            },
            "type": "scatter"
           }
          ],
          "scatter3d": [
           {
            "line": {
             "colorbar": {
              "outlinewidth": 0,
              "ticks": ""
             }
            },
            "marker": {
             "colorbar": {
              "outlinewidth": 0,
              "ticks": ""
             }
            },
            "type": "scatter3d"
           }
          ],
          "scattercarpet": [
           {
            "marker": {
             "colorbar": {
              "outlinewidth": 0,
              "ticks": ""
             }
            },
            "type": "scattercarpet"
           }
          ],
          "scattergeo": [
           {
            "marker": {
             "colorbar": {
              "outlinewidth": 0,
              "ticks": ""
             }
            },
            "type": "scattergeo"
           }
          ],
          "scattergl": [
           {
            "marker": {
             "colorbar": {
              "outlinewidth": 0,
              "ticks": ""
             }
            },
            "type": "scattergl"
           }
          ],
          "scattermapbox": [
           {
            "marker": {
             "colorbar": {
              "outlinewidth": 0,
              "ticks": ""
             }
            },
            "type": "scattermapbox"
           }
          ],
          "scatterpolar": [
           {
            "marker": {
             "colorbar": {
              "outlinewidth": 0,
              "ticks": ""
             }
            },
            "type": "scatterpolar"
           }
          ],
          "scatterpolargl": [
           {
            "marker": {
             "colorbar": {
              "outlinewidth": 0,
              "ticks": ""
             }
            },
            "type": "scatterpolargl"
           }
          ],
          "scatterternary": [
           {
            "marker": {
             "colorbar": {
              "outlinewidth": 0,
              "ticks": ""
             }
            },
            "type": "scatterternary"
           }
          ],
          "surface": [
           {
            "colorbar": {
             "outlinewidth": 0,
             "ticks": ""
            },
            "colorscale": [
             [
              0,
              "#0d0887"
             ],
             [
              0.1111111111111111,
              "#46039f"
             ],
             [
              0.2222222222222222,
              "#7201a8"
             ],
             [
              0.3333333333333333,
              "#9c179e"
             ],
             [
              0.4444444444444444,
              "#bd3786"
             ],
             [
              0.5555555555555556,
              "#d8576b"
             ],
             [
              0.6666666666666666,
              "#ed7953"
             ],
             [
              0.7777777777777778,
              "#fb9f3a"
             ],
             [
              0.8888888888888888,
              "#fdca26"
             ],
             [
              1,
              "#f0f921"
             ]
            ],
            "type": "surface"
           }
          ],
          "table": [
           {
            "cells": {
             "fill": {
              "color": "#EBF0F8"
             },
             "line": {
              "color": "white"
             }
            },
            "header": {
             "fill": {
              "color": "#C8D4E3"
             },
             "line": {
              "color": "white"
             }
            },
            "type": "table"
           }
          ]
         },
         "layout": {
          "annotationdefaults": {
           "arrowcolor": "#2a3f5f",
           "arrowhead": 0,
           "arrowwidth": 1
          },
          "autotypenumbers": "strict",
          "coloraxis": {
           "colorbar": {
            "outlinewidth": 0,
            "ticks": ""
           }
          },
          "colorscale": {
           "diverging": [
            [
             0,
             "#8e0152"
            ],
            [
             0.1,
             "#c51b7d"
            ],
            [
             0.2,
             "#de77ae"
            ],
            [
             0.3,
             "#f1b6da"
            ],
            [
             0.4,
             "#fde0ef"
            ],
            [
             0.5,
             "#f7f7f7"
            ],
            [
             0.6,
             "#e6f5d0"
            ],
            [
             0.7,
             "#b8e186"
            ],
            [
             0.8,
             "#7fbc41"
            ],
            [
             0.9,
             "#4d9221"
            ],
            [
             1,
             "#276419"
            ]
           ],
           "sequential": [
            [
             0,
             "#0d0887"
            ],
            [
             0.1111111111111111,
             "#46039f"
            ],
            [
             0.2222222222222222,
             "#7201a8"
            ],
            [
             0.3333333333333333,
             "#9c179e"
            ],
            [
             0.4444444444444444,
             "#bd3786"
            ],
            [
             0.5555555555555556,
             "#d8576b"
            ],
            [
             0.6666666666666666,
             "#ed7953"
            ],
            [
             0.7777777777777778,
             "#fb9f3a"
            ],
            [
             0.8888888888888888,
             "#fdca26"
            ],
            [
             1,
             "#f0f921"
            ]
           ],
           "sequentialminus": [
            [
             0,
             "#0d0887"
            ],
            [
             0.1111111111111111,
             "#46039f"
            ],
            [
             0.2222222222222222,
             "#7201a8"
            ],
            [
             0.3333333333333333,
             "#9c179e"
            ],
            [
             0.4444444444444444,
             "#bd3786"
            ],
            [
             0.5555555555555556,
             "#d8576b"
            ],
            [
             0.6666666666666666,
             "#ed7953"
            ],
            [
             0.7777777777777778,
             "#fb9f3a"
            ],
            [
             0.8888888888888888,
             "#fdca26"
            ],
            [
             1,
             "#f0f921"
            ]
           ]
          },
          "colorway": [
           "#636efa",
           "#EF553B",
           "#00cc96",
           "#ab63fa",
           "#FFA15A",
           "#19d3f3",
           "#FF6692",
           "#B6E880",
           "#FF97FF",
           "#FECB52"
          ],
          "font": {
           "color": "#2a3f5f"
          },
          "geo": {
           "bgcolor": "white",
           "lakecolor": "white",
           "landcolor": "#E5ECF6",
           "showlakes": true,
           "showland": true,
           "subunitcolor": "white"
          },
          "hoverlabel": {
           "align": "left"
          },
          "hovermode": "closest",
          "mapbox": {
           "style": "light"
          },
          "paper_bgcolor": "white",
          "plot_bgcolor": "#E5ECF6",
          "polar": {
           "angularaxis": {
            "gridcolor": "white",
            "linecolor": "white",
            "ticks": ""
           },
           "bgcolor": "#E5ECF6",
           "radialaxis": {
            "gridcolor": "white",
            "linecolor": "white",
            "ticks": ""
           }
          },
          "scene": {
           "xaxis": {
            "backgroundcolor": "#E5ECF6",
            "gridcolor": "white",
            "gridwidth": 2,
            "linecolor": "white",
            "showbackground": true,
            "ticks": "",
            "zerolinecolor": "white"
           },
           "yaxis": {
            "backgroundcolor": "#E5ECF6",
            "gridcolor": "white",
            "gridwidth": 2,
            "linecolor": "white",
            "showbackground": true,
            "ticks": "",
            "zerolinecolor": "white"
           },
           "zaxis": {
            "backgroundcolor": "#E5ECF6",
            "gridcolor": "white",
            "gridwidth": 2,
            "linecolor": "white",
            "showbackground": true,
            "ticks": "",
            "zerolinecolor": "white"
           }
          },
          "shapedefaults": {
           "line": {
            "color": "#2a3f5f"
           }
          },
          "ternary": {
           "aaxis": {
            "gridcolor": "white",
            "linecolor": "white",
            "ticks": ""
           },
           "baxis": {
            "gridcolor": "white",
            "linecolor": "white",
            "ticks": ""
           },
           "bgcolor": "#E5ECF6",
           "caxis": {
            "gridcolor": "white",
            "linecolor": "white",
            "ticks": ""
           }
          },
          "title": {
           "x": 0.05
          },
          "xaxis": {
           "automargin": true,
           "gridcolor": "white",
           "linecolor": "white",
           "ticks": "",
           "title": {
            "standoff": 15
           },
           "zerolinecolor": "white",
           "zerolinewidth": 2
          },
          "yaxis": {
           "automargin": true,
           "gridcolor": "white",
           "linecolor": "white",
           "ticks": "",
           "title": {
            "standoff": 15
           },
           "zerolinecolor": "white",
           "zerolinewidth": 2
          }
         }
        },
        "title": {
         "text": "Slice Plot"
        },
        "xaxis": {
         "anchor": "y",
         "domain": [
          0,
          0.45
         ],
         "title": {
          "text": "max_depth"
         }
        },
        "xaxis2": {
         "anchor": "y2",
         "domain": [
          0.55,
          1
         ],
         "title": {
          "text": "min_samples_leaf"
         }
        },
        "yaxis": {
         "anchor": "x",
         "domain": [
          0,
          1
         ],
         "title": {
          "text": "Objective Value"
         }
        },
        "yaxis2": {
         "anchor": "x2",
         "domain": [
          0,
          1
         ],
         "matches": "y",
         "showticklabels": false
        }
       }
      },
      "text/html": [
       "<div>                            <div id=\"0496eb15-43eb-41a4-b4d0-e4d572bf0782\" class=\"plotly-graph-div\" style=\"height:525px; width:100%;\"></div>            <script type=\"text/javascript\">                require([\"plotly\"], function(Plotly) {                    window.PLOTLYENV=window.PLOTLYENV || {};                                    if (document.getElementById(\"0496eb15-43eb-41a4-b4d0-e4d572bf0782\")) {                    Plotly.newPlot(                        \"0496eb15-43eb-41a4-b4d0-e4d572bf0782\",                        [{\"marker\":{\"color\":[0,1,2,3,4,5,6,7,8,9,10,11,12,13,14,15,16,17,18,19],\"colorbar\":{\"title\":{\"text\":\"#Trials\"},\"x\":1.0,\"xpad\":40},\"colorscale\":[[0.0,\"rgb(247,251,255)\"],[0.125,\"rgb(222,235,247)\"],[0.25,\"rgb(198,219,239)\"],[0.375,\"rgb(158,202,225)\"],[0.5,\"rgb(107,174,214)\"],[0.625,\"rgb(66,146,198)\"],[0.75,\"rgb(33,113,181)\"],[0.875,\"rgb(8,81,156)\"],[1.0,\"rgb(8,48,107)\"]],\"line\":{\"color\":\"Grey\",\"width\":0.5},\"showscale\":true},\"mode\":\"markers\",\"showlegend\":false,\"x\":[44,8,12,46,3,11,25,28,1,17,44,23,39,8,42,42,42,42,49,42],\"y\":[0.7735849056603774,0.7735849056603774,0.7884615384615384,0.7735849056603774,0.7735849056603774,0.8,0.7735849056603774,0.7735849056603774,0.7735849056603774,0.7735849056603774,0.7735849056603774,0.7735849056603774,0.7884615384615384,0.7735849056603774,0.7647058823529411,0.7692307692307693,0.7884615384615384,0.7692307692307693,0.7916666666666666,0.7735849056603774],\"type\":\"scatter\",\"xaxis\":\"x\",\"yaxis\":\"y\"},{\"marker\":{\"color\":[0,1,2,3,4,5,6,7,8,9,10,11,12,13,14,15,16,17,18,19],\"colorbar\":{\"title\":{\"text\":\"#Trials\"},\"x\":1.0,\"xpad\":40},\"colorscale\":[[0.0,\"rgb(247,251,255)\"],[0.125,\"rgb(222,235,247)\"],[0.25,\"rgb(198,219,239)\"],[0.375,\"rgb(158,202,225)\"],[0.5,\"rgb(107,174,214)\"],[0.625,\"rgb(66,146,198)\"],[0.75,\"rgb(33,113,181)\"],[0.875,\"rgb(8,81,156)\"],[1.0,\"rgb(8,48,107)\"]],\"line\":{\"color\":\"Grey\",\"width\":0.5},\"showscale\":false},\"mode\":\"markers\",\"showlegend\":false,\"x\":[3,9,2,4,10,1,8,7,9,3,5,9,3,6,3,3,3,3,2,7],\"y\":[0.7735849056603774,0.7735849056603774,0.7884615384615384,0.7735849056603774,0.7735849056603774,0.8,0.7735849056603774,0.7735849056603774,0.7735849056603774,0.7735849056603774,0.7735849056603774,0.7735849056603774,0.7884615384615384,0.7735849056603774,0.7647058823529411,0.7692307692307693,0.7884615384615384,0.7692307692307693,0.7916666666666666,0.7735849056603774],\"type\":\"scatter\",\"xaxis\":\"x2\",\"yaxis\":\"y2\"}],                        {\"template\":{\"data\":{\"histogram2dcontour\":[{\"type\":\"histogram2dcontour\",\"colorbar\":{\"outlinewidth\":0,\"ticks\":\"\"},\"colorscale\":[[0.0,\"#0d0887\"],[0.1111111111111111,\"#46039f\"],[0.2222222222222222,\"#7201a8\"],[0.3333333333333333,\"#9c179e\"],[0.4444444444444444,\"#bd3786\"],[0.5555555555555556,\"#d8576b\"],[0.6666666666666666,\"#ed7953\"],[0.7777777777777778,\"#fb9f3a\"],[0.8888888888888888,\"#fdca26\"],[1.0,\"#f0f921\"]]}],\"choropleth\":[{\"type\":\"choropleth\",\"colorbar\":{\"outlinewidth\":0,\"ticks\":\"\"}}],\"histogram2d\":[{\"type\":\"histogram2d\",\"colorbar\":{\"outlinewidth\":0,\"ticks\":\"\"},\"colorscale\":[[0.0,\"#0d0887\"],[0.1111111111111111,\"#46039f\"],[0.2222222222222222,\"#7201a8\"],[0.3333333333333333,\"#9c179e\"],[0.4444444444444444,\"#bd3786\"],[0.5555555555555556,\"#d8576b\"],[0.6666666666666666,\"#ed7953\"],[0.7777777777777778,\"#fb9f3a\"],[0.8888888888888888,\"#fdca26\"],[1.0,\"#f0f921\"]]}],\"heatmap\":[{\"type\":\"heatmap\",\"colorbar\":{\"outlinewidth\":0,\"ticks\":\"\"},\"colorscale\":[[0.0,\"#0d0887\"],[0.1111111111111111,\"#46039f\"],[0.2222222222222222,\"#7201a8\"],[0.3333333333333333,\"#9c179e\"],[0.4444444444444444,\"#bd3786\"],[0.5555555555555556,\"#d8576b\"],[0.6666666666666666,\"#ed7953\"],[0.7777777777777778,\"#fb9f3a\"],[0.8888888888888888,\"#fdca26\"],[1.0,\"#f0f921\"]]}],\"heatmapgl\":[{\"type\":\"heatmapgl\",\"colorbar\":{\"outlinewidth\":0,\"ticks\":\"\"},\"colorscale\":[[0.0,\"#0d0887\"],[0.1111111111111111,\"#46039f\"],[0.2222222222222222,\"#7201a8\"],[0.3333333333333333,\"#9c179e\"],[0.4444444444444444,\"#bd3786\"],[0.5555555555555556,\"#d8576b\"],[0.6666666666666666,\"#ed7953\"],[0.7777777777777778,\"#fb9f3a\"],[0.8888888888888888,\"#fdca26\"],[1.0,\"#f0f921\"]]}],\"contourcarpet\":[{\"type\":\"contourcarpet\",\"colorbar\":{\"outlinewidth\":0,\"ticks\":\"\"}}],\"contour\":[{\"type\":\"contour\",\"colorbar\":{\"outlinewidth\":0,\"ticks\":\"\"},\"colorscale\":[[0.0,\"#0d0887\"],[0.1111111111111111,\"#46039f\"],[0.2222222222222222,\"#7201a8\"],[0.3333333333333333,\"#9c179e\"],[0.4444444444444444,\"#bd3786\"],[0.5555555555555556,\"#d8576b\"],[0.6666666666666666,\"#ed7953\"],[0.7777777777777778,\"#fb9f3a\"],[0.8888888888888888,\"#fdca26\"],[1.0,\"#f0f921\"]]}],\"surface\":[{\"type\":\"surface\",\"colorbar\":{\"outlinewidth\":0,\"ticks\":\"\"},\"colorscale\":[[0.0,\"#0d0887\"],[0.1111111111111111,\"#46039f\"],[0.2222222222222222,\"#7201a8\"],[0.3333333333333333,\"#9c179e\"],[0.4444444444444444,\"#bd3786\"],[0.5555555555555556,\"#d8576b\"],[0.6666666666666666,\"#ed7953\"],[0.7777777777777778,\"#fb9f3a\"],[0.8888888888888888,\"#fdca26\"],[1.0,\"#f0f921\"]]}],\"mesh3d\":[{\"type\":\"mesh3d\",\"colorbar\":{\"outlinewidth\":0,\"ticks\":\"\"}}],\"scatter\":[{\"fillpattern\":{\"fillmode\":\"overlay\",\"size\":10,\"solidity\":0.2},\"type\":\"scatter\"}],\"parcoords\":[{\"type\":\"parcoords\",\"line\":{\"colorbar\":{\"outlinewidth\":0,\"ticks\":\"\"}}}],\"scatterpolargl\":[{\"type\":\"scatterpolargl\",\"marker\":{\"colorbar\":{\"outlinewidth\":0,\"ticks\":\"\"}}}],\"bar\":[{\"error_x\":{\"color\":\"#2a3f5f\"},\"error_y\":{\"color\":\"#2a3f5f\"},\"marker\":{\"line\":{\"color\":\"#E5ECF6\",\"width\":0.5},\"pattern\":{\"fillmode\":\"overlay\",\"size\":10,\"solidity\":0.2}},\"type\":\"bar\"}],\"scattergeo\":[{\"type\":\"scattergeo\",\"marker\":{\"colorbar\":{\"outlinewidth\":0,\"ticks\":\"\"}}}],\"scatterpolar\":[{\"type\":\"scatterpolar\",\"marker\":{\"colorbar\":{\"outlinewidth\":0,\"ticks\":\"\"}}}],\"histogram\":[{\"marker\":{\"pattern\":{\"fillmode\":\"overlay\",\"size\":10,\"solidity\":0.2}},\"type\":\"histogram\"}],\"scattergl\":[{\"type\":\"scattergl\",\"marker\":{\"colorbar\":{\"outlinewidth\":0,\"ticks\":\"\"}}}],\"scatter3d\":[{\"type\":\"scatter3d\",\"line\":{\"colorbar\":{\"outlinewidth\":0,\"ticks\":\"\"}},\"marker\":{\"colorbar\":{\"outlinewidth\":0,\"ticks\":\"\"}}}],\"scattermapbox\":[{\"type\":\"scattermapbox\",\"marker\":{\"colorbar\":{\"outlinewidth\":0,\"ticks\":\"\"}}}],\"scatterternary\":[{\"type\":\"scatterternary\",\"marker\":{\"colorbar\":{\"outlinewidth\":0,\"ticks\":\"\"}}}],\"scattercarpet\":[{\"type\":\"scattercarpet\",\"marker\":{\"colorbar\":{\"outlinewidth\":0,\"ticks\":\"\"}}}],\"carpet\":[{\"aaxis\":{\"endlinecolor\":\"#2a3f5f\",\"gridcolor\":\"white\",\"linecolor\":\"white\",\"minorgridcolor\":\"white\",\"startlinecolor\":\"#2a3f5f\"},\"baxis\":{\"endlinecolor\":\"#2a3f5f\",\"gridcolor\":\"white\",\"linecolor\":\"white\",\"minorgridcolor\":\"white\",\"startlinecolor\":\"#2a3f5f\"},\"type\":\"carpet\"}],\"table\":[{\"cells\":{\"fill\":{\"color\":\"#EBF0F8\"},\"line\":{\"color\":\"white\"}},\"header\":{\"fill\":{\"color\":\"#C8D4E3\"},\"line\":{\"color\":\"white\"}},\"type\":\"table\"}],\"barpolar\":[{\"marker\":{\"line\":{\"color\":\"#E5ECF6\",\"width\":0.5},\"pattern\":{\"fillmode\":\"overlay\",\"size\":10,\"solidity\":0.2}},\"type\":\"barpolar\"}],\"pie\":[{\"automargin\":true,\"type\":\"pie\"}]},\"layout\":{\"autotypenumbers\":\"strict\",\"colorway\":[\"#636efa\",\"#EF553B\",\"#00cc96\",\"#ab63fa\",\"#FFA15A\",\"#19d3f3\",\"#FF6692\",\"#B6E880\",\"#FF97FF\",\"#FECB52\"],\"font\":{\"color\":\"#2a3f5f\"},\"hovermode\":\"closest\",\"hoverlabel\":{\"align\":\"left\"},\"paper_bgcolor\":\"white\",\"plot_bgcolor\":\"#E5ECF6\",\"polar\":{\"bgcolor\":\"#E5ECF6\",\"angularaxis\":{\"gridcolor\":\"white\",\"linecolor\":\"white\",\"ticks\":\"\"},\"radialaxis\":{\"gridcolor\":\"white\",\"linecolor\":\"white\",\"ticks\":\"\"}},\"ternary\":{\"bgcolor\":\"#E5ECF6\",\"aaxis\":{\"gridcolor\":\"white\",\"linecolor\":\"white\",\"ticks\":\"\"},\"baxis\":{\"gridcolor\":\"white\",\"linecolor\":\"white\",\"ticks\":\"\"},\"caxis\":{\"gridcolor\":\"white\",\"linecolor\":\"white\",\"ticks\":\"\"}},\"coloraxis\":{\"colorbar\":{\"outlinewidth\":0,\"ticks\":\"\"}},\"colorscale\":{\"sequential\":[[0.0,\"#0d0887\"],[0.1111111111111111,\"#46039f\"],[0.2222222222222222,\"#7201a8\"],[0.3333333333333333,\"#9c179e\"],[0.4444444444444444,\"#bd3786\"],[0.5555555555555556,\"#d8576b\"],[0.6666666666666666,\"#ed7953\"],[0.7777777777777778,\"#fb9f3a\"],[0.8888888888888888,\"#fdca26\"],[1.0,\"#f0f921\"]],\"sequentialminus\":[[0.0,\"#0d0887\"],[0.1111111111111111,\"#46039f\"],[0.2222222222222222,\"#7201a8\"],[0.3333333333333333,\"#9c179e\"],[0.4444444444444444,\"#bd3786\"],[0.5555555555555556,\"#d8576b\"],[0.6666666666666666,\"#ed7953\"],[0.7777777777777778,\"#fb9f3a\"],[0.8888888888888888,\"#fdca26\"],[1.0,\"#f0f921\"]],\"diverging\":[[0,\"#8e0152\"],[0.1,\"#c51b7d\"],[0.2,\"#de77ae\"],[0.3,\"#f1b6da\"],[0.4,\"#fde0ef\"],[0.5,\"#f7f7f7\"],[0.6,\"#e6f5d0\"],[0.7,\"#b8e186\"],[0.8,\"#7fbc41\"],[0.9,\"#4d9221\"],[1,\"#276419\"]]},\"xaxis\":{\"gridcolor\":\"white\",\"linecolor\":\"white\",\"ticks\":\"\",\"title\":{\"standoff\":15},\"zerolinecolor\":\"white\",\"automargin\":true,\"zerolinewidth\":2},\"yaxis\":{\"gridcolor\":\"white\",\"linecolor\":\"white\",\"ticks\":\"\",\"title\":{\"standoff\":15},\"zerolinecolor\":\"white\",\"automargin\":true,\"zerolinewidth\":2},\"scene\":{\"xaxis\":{\"backgroundcolor\":\"#E5ECF6\",\"gridcolor\":\"white\",\"linecolor\":\"white\",\"showbackground\":true,\"ticks\":\"\",\"zerolinecolor\":\"white\",\"gridwidth\":2},\"yaxis\":{\"backgroundcolor\":\"#E5ECF6\",\"gridcolor\":\"white\",\"linecolor\":\"white\",\"showbackground\":true,\"ticks\":\"\",\"zerolinecolor\":\"white\",\"gridwidth\":2},\"zaxis\":{\"backgroundcolor\":\"#E5ECF6\",\"gridcolor\":\"white\",\"linecolor\":\"white\",\"showbackground\":true,\"ticks\":\"\",\"zerolinecolor\":\"white\",\"gridwidth\":2}},\"shapedefaults\":{\"line\":{\"color\":\"#2a3f5f\"}},\"annotationdefaults\":{\"arrowcolor\":\"#2a3f5f\",\"arrowhead\":0,\"arrowwidth\":1},\"geo\":{\"bgcolor\":\"white\",\"landcolor\":\"#E5ECF6\",\"subunitcolor\":\"white\",\"showland\":true,\"showlakes\":true,\"lakecolor\":\"white\"},\"title\":{\"x\":0.05},\"mapbox\":{\"style\":\"light\"}}},\"xaxis\":{\"anchor\":\"y\",\"domain\":[0.0,0.45],\"title\":{\"text\":\"max_depth\"}},\"yaxis\":{\"anchor\":\"x\",\"domain\":[0.0,1.0],\"title\":{\"text\":\"Objective Value\"}},\"xaxis2\":{\"anchor\":\"y2\",\"domain\":[0.55,1.0],\"title\":{\"text\":\"min_samples_leaf\"}},\"yaxis2\":{\"anchor\":\"x2\",\"domain\":[0.0,1.0],\"matches\":\"y\",\"showticklabels\":false},\"title\":{\"text\":\"Slice Plot\"}},                        {\"responsive\": true}                    ).then(function(){\n",
       "                            \n",
       "var gd = document.getElementById('0496eb15-43eb-41a4-b4d0-e4d572bf0782');\n",
       "var x = new MutationObserver(function (mutations, observer) {{\n",
       "        var display = window.getComputedStyle(gd).display;\n",
       "        if (!display || display === 'none') {{\n",
       "            console.log([gd, 'removed!']);\n",
       "            Plotly.purge(gd);\n",
       "            observer.disconnect();\n",
       "        }}\n",
       "}});\n",
       "\n",
       "// Listen for the removal of the full notebook cells\n",
       "var notebookContainer = gd.closest('#notebook-container');\n",
       "if (notebookContainer) {{\n",
       "    x.observe(notebookContainer, {childList: true});\n",
       "}}\n",
       "\n",
       "// Listen for the clearing of the current output cell\n",
       "var outputEl = gd.closest('.output');\n",
       "if (outputEl) {{\n",
       "    x.observe(outputEl, {childList: true});\n",
       "}}\n",
       "\n",
       "                        })                };                });            </script>        </div>"
      ]
     },
     "metadata": {},
     "output_type": "display_data"
    }
   ],
   "source": [
    "optuna.visualization.plot_slice(study)\n"
   ]
  },
  {
   "cell_type": "code",
   "execution_count": null,
   "id": "a7ef579b",
   "metadata": {},
   "outputs": [],
   "source": []
  }
 ],
 "metadata": {
  "kernelspec": {
   "display_name": "Python 3 (ipykernel)",
   "language": "python",
   "name": "python3"
  },
  "language_info": {
   "codemirror_mode": {
    "name": "ipython",
    "version": 3
   },
   "file_extension": ".py",
   "mimetype": "text/x-python",
   "name": "python",
   "nbconvert_exporter": "python",
   "pygments_lexer": "ipython3",
   "version": "3.9.13"
  }
 },
 "nbformat": 4,
 "nbformat_minor": 5
}
