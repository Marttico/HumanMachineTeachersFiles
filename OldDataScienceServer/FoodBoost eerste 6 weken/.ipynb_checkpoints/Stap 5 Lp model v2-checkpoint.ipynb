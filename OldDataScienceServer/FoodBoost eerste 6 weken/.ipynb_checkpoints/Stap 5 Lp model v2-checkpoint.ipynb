{
 "cells": [
  {
   "cell_type": "markdown",
   "id": "6e761e1d",
   "metadata": {},
   "source": [
    "# <span style='color:Hotpink'> Overstap van recepten naar dictonaries </span>"
   ]
  },
  {
   "cell_type": "code",
   "execution_count": 4,
   "id": "93513bc8",
   "metadata": {},
   "outputs": [],
   "source": [
    "import pandas as pd\n",
    "recp = pd.read_csv('/data/foodboost/recipes.csv')\n",
    "tags = pd.read_csv('/data/foodboost/tags.csv')"
   ]
  },
  {
   "cell_type": "markdown",
   "id": "986e994b",
   "metadata": {},
   "source": [
    "# Dataset maken met alles lunch en diner recepten\n",
    "\n",
    "met receptnaam, tag en aantal calorieën\n",
    "elk recept heeft nog maar 1 tag (lunch, diner, hoofdgerecht)"
   ]
  },
  {
   "cell_type": "code",
   "execution_count": 5,
   "id": "a3c3ecf6",
   "metadata": {},
   "outputs": [
    {
     "data": {
      "text/html": [
       "<div>\n",
       "<style scoped>\n",
       "    .dataframe tbody tr th:only-of-type {\n",
       "        vertical-align: middle;\n",
       "    }\n",
       "\n",
       "    .dataframe tbody tr th {\n",
       "        vertical-align: top;\n",
       "    }\n",
       "\n",
       "    .dataframe thead th {\n",
       "        text-align: right;\n",
       "    }\n",
       "</style>\n",
       "<table border=\"1\" class=\"dataframe\">\n",
       "  <thead>\n",
       "    <tr style=\"text-align: right;\">\n",
       "      <th></th>\n",
       "      <th>recipe</th>\n",
       "      <th>tag</th>\n",
       "      <th>calories</th>\n",
       "    </tr>\n",
       "  </thead>\n",
       "  <tbody>\n",
       "    <tr>\n",
       "      <th>0</th>\n",
       "      <td>Massaman curry</td>\n",
       "      <td>hoofdgerecht</td>\n",
       "      <td>895</td>\n",
       "    </tr>\n",
       "    <tr>\n",
       "      <th>1</th>\n",
       "      <td>Tartiflette</td>\n",
       "      <td>hoofdgerecht</td>\n",
       "      <td>675</td>\n",
       "    </tr>\n",
       "    <tr>\n",
       "      <th>2</th>\n",
       "      <td>Ajam pangang</td>\n",
       "      <td>hoofdgerecht</td>\n",
       "      <td>515</td>\n",
       "    </tr>\n",
       "    <tr>\n",
       "      <th>3</th>\n",
       "      <td>Bloemkoolschotel</td>\n",
       "      <td>hoofdgerecht</td>\n",
       "      <td>765</td>\n",
       "    </tr>\n",
       "    <tr>\n",
       "      <th>4</th>\n",
       "      <td>Koe loe kai</td>\n",
       "      <td>hoofdgerecht</td>\n",
       "      <td>785</td>\n",
       "    </tr>\n",
       "    <tr>\n",
       "      <th>...</th>\n",
       "      <td>...</td>\n",
       "      <td>...</td>\n",
       "      <td>...</td>\n",
       "    </tr>\n",
       "    <tr>\n",
       "      <th>5222</th>\n",
       "      <td>Romige spaghetti met zalmreepjes</td>\n",
       "      <td>hoofdgerecht</td>\n",
       "      <td>610</td>\n",
       "    </tr>\n",
       "    <tr>\n",
       "      <th>5223</th>\n",
       "      <td>Tijmballetjes met puree</td>\n",
       "      <td>hoofdgerecht</td>\n",
       "      <td>590</td>\n",
       "    </tr>\n",
       "    <tr>\n",
       "      <th>5224</th>\n",
       "      <td>Romige mosselen met dille</td>\n",
       "      <td>hoofdgerecht</td>\n",
       "      <td>570</td>\n",
       "    </tr>\n",
       "    <tr>\n",
       "      <th>5225</th>\n",
       "      <td>Mosselen op z'n Thais</td>\n",
       "      <td>hoofdgerecht</td>\n",
       "      <td>610</td>\n",
       "    </tr>\n",
       "    <tr>\n",
       "      <th>5226</th>\n",
       "      <td>Biefstuk met rodewijnsaus en ham</td>\n",
       "      <td>hoofdgerecht</td>\n",
       "      <td>360</td>\n",
       "    </tr>\n",
       "  </tbody>\n",
       "</table>\n",
       "<p>5227 rows × 3 columns</p>\n",
       "</div>"
      ],
      "text/plain": [
       "                                recipe           tag  calories\n",
       "0                       Massaman curry  hoofdgerecht       895\n",
       "1                          Tartiflette  hoofdgerecht       675\n",
       "2                         Ajam pangang  hoofdgerecht       515\n",
       "3                     Bloemkoolschotel  hoofdgerecht       765\n",
       "4                         Koe loe kai   hoofdgerecht       785\n",
       "...                                ...           ...       ...\n",
       "5222  Romige spaghetti met zalmreepjes  hoofdgerecht       610\n",
       "5223           Tijmballetjes met puree  hoofdgerecht       590\n",
       "5224         Romige mosselen met dille  hoofdgerecht       570\n",
       "5225             Mosselen op z'n Thais  hoofdgerecht       610\n",
       "5226  Biefstuk met rodewijnsaus en ham  hoofdgerecht       360\n",
       "\n",
       "[5227 rows x 3 columns]"
      ]
     },
     "execution_count": 5,
     "metadata": {},
     "output_type": "execute_result"
    }
   ],
   "source": [
    "tagsmaal= ['lunch','diner','hoofdgerecht']\n",
    "maaltijd_alles = tags[tags['tag'].str.contains('|'.join(tagsmaal))]\n",
    "maaltijd_alles=maaltijd_alles.drop_duplicates(subset=['recipe'], keep= 'first')\n",
    "recp = recp[[\"title\",\"calories\"]]\n",
    "maaltijd_alles=maaltijd_alles.merge(recp, how=\"inner\" ,right_on= \"title\",left_on=\"recipe\" ) \n",
    "maaltijd_alles = maaltijd_alles[[\"recipe\",\"tag\",\"calories\" ]]\n",
    "maaltijd_alles"
   ]
  },
  {
   "cell_type": "markdown",
   "id": "af708e5e",
   "metadata": {},
   "source": [
    "# Random data set maken\n",
    "Later veranderen in de echte\n",
    "\n",
    "input is een lijst met receptnamen"
   ]
  },
  {
   "cell_type": "code",
   "execution_count": 6,
   "id": "2b507bdf",
   "metadata": {},
   "outputs": [],
   "source": [
    "from random import randrange\n",
    "\n",
    "#random dataset maken om de code te controleren\n",
    "random_maaltijden=[]\n",
    "random_rij=[]\n",
    "\n",
    "while len(random_maaltijden)<100:\n",
    "    random_row= randrange(len(maaltijd_alles))\n",
    "    if random_row not in random_rij:\n",
    "        random_maaltijden.append(maaltijd_alles.iloc[random_row,0])\n",
    "        random_rij.append(random_row)"
   ]
  },
  {
   "cell_type": "markdown",
   "id": "f10b8e02",
   "metadata": {},
   "source": [
    "Dataframe met de random recepten"
   ]
  },
  {
   "cell_type": "code",
   "execution_count": 7,
   "id": "b30ed727",
   "metadata": {},
   "outputs": [
    {
     "data": {
      "text/html": [
       "<div>\n",
       "<style scoped>\n",
       "    .dataframe tbody tr th:only-of-type {\n",
       "        vertical-align: middle;\n",
       "    }\n",
       "\n",
       "    .dataframe tbody tr th {\n",
       "        vertical-align: top;\n",
       "    }\n",
       "\n",
       "    .dataframe thead th {\n",
       "        text-align: right;\n",
       "    }\n",
       "</style>\n",
       "<table border=\"1\" class=\"dataframe\">\n",
       "  <thead>\n",
       "    <tr style=\"text-align: right;\">\n",
       "      <th></th>\n",
       "      <th>recipe</th>\n",
       "      <th>tag</th>\n",
       "      <th>calories</th>\n",
       "    </tr>\n",
       "  </thead>\n",
       "  <tbody>\n",
       "    <tr>\n",
       "      <th>31</th>\n",
       "      <td>Stoofvleespastei</td>\n",
       "      <td>hoofdgerecht</td>\n",
       "      <td>575</td>\n",
       "    </tr>\n",
       "    <tr>\n",
       "      <th>36</th>\n",
       "      <td>Pulled chicken met tortilla's, bonen en avocado</td>\n",
       "      <td>hoofdgerecht</td>\n",
       "      <td>655</td>\n",
       "    </tr>\n",
       "    <tr>\n",
       "      <th>58</th>\n",
       "      <td>Kikkererwtencurry met pinda en spinazie en rijst</td>\n",
       "      <td>hoofdgerecht</td>\n",
       "      <td>570</td>\n",
       "    </tr>\n",
       "    <tr>\n",
       "      <th>145</th>\n",
       "      <td>Salade Niçoise</td>\n",
       "      <td>hoofdgerecht</td>\n",
       "      <td>515</td>\n",
       "    </tr>\n",
       "    <tr>\n",
       "      <th>160</th>\n",
       "      <td>Bolletje met homemade eiersalade en veldsla</td>\n",
       "      <td>lunch</td>\n",
       "      <td>450</td>\n",
       "    </tr>\n",
       "    <tr>\n",
       "      <th>...</th>\n",
       "      <td>...</td>\n",
       "      <td>...</td>\n",
       "      <td>...</td>\n",
       "    </tr>\n",
       "    <tr>\n",
       "      <th>5073</th>\n",
       "      <td>Rundvlees met Amsterdamse ui</td>\n",
       "      <td>hoofdgerecht</td>\n",
       "      <td>495</td>\n",
       "    </tr>\n",
       "    <tr>\n",
       "      <th>5100</th>\n",
       "      <td>Hollandse visschotel</td>\n",
       "      <td>hoofdgerecht</td>\n",
       "      <td>600</td>\n",
       "    </tr>\n",
       "    <tr>\n",
       "      <th>5176</th>\n",
       "      <td>Thaise garnalen met haricots verts</td>\n",
       "      <td>hoofdgerecht</td>\n",
       "      <td>425</td>\n",
       "    </tr>\n",
       "    <tr>\n",
       "      <th>5182</th>\n",
       "      <td>Spaghetti met kaas en reepjes speklap</td>\n",
       "      <td>hoofdgerecht</td>\n",
       "      <td>675</td>\n",
       "    </tr>\n",
       "    <tr>\n",
       "      <th>5195</th>\n",
       "      <td>Kipsalade met mango en geitenkaas</td>\n",
       "      <td>hoofdgerecht</td>\n",
       "      <td>405</td>\n",
       "    </tr>\n",
       "  </tbody>\n",
       "</table>\n",
       "<p>100 rows × 3 columns</p>\n",
       "</div>"
      ],
      "text/plain": [
       "                                                 recipe           tag  \\\n",
       "31                                     Stoofvleespastei  hoofdgerecht   \n",
       "36      Pulled chicken met tortilla's, bonen en avocado  hoofdgerecht   \n",
       "58    Kikkererwtencurry met pinda en spinazie en rijst   hoofdgerecht   \n",
       "145                                      Salade Niçoise  hoofdgerecht   \n",
       "160         Bolletje met homemade eiersalade en veldsla         lunch   \n",
       "...                                                 ...           ...   \n",
       "5073                       Rundvlees met Amsterdamse ui  hoofdgerecht   \n",
       "5100                               Hollandse visschotel  hoofdgerecht   \n",
       "5176                 Thaise garnalen met haricots verts  hoofdgerecht   \n",
       "5182              Spaghetti met kaas en reepjes speklap  hoofdgerecht   \n",
       "5195                  Kipsalade met mango en geitenkaas  hoofdgerecht   \n",
       "\n",
       "      calories  \n",
       "31         575  \n",
       "36         655  \n",
       "58         570  \n",
       "145        515  \n",
       "160        450  \n",
       "...        ...  \n",
       "5073       495  \n",
       "5100       600  \n",
       "5176       425  \n",
       "5182       675  \n",
       "5195       405  \n",
       "\n",
       "[100 rows x 3 columns]"
      ]
     },
     "execution_count": 7,
     "metadata": {},
     "output_type": "execute_result"
    }
   ],
   "source": [
    "random_maaltijden_df=maaltijd_alles[maaltijd_alles.recipe.isin(random_maaltijden)]\n",
    "random_maaltijden_df"
   ]
  },
  {
   "cell_type": "markdown",
   "id": "17c7f92a",
   "metadata": {},
   "source": [
    "# Dictonaries maken lunch en diner\n"
   ]
  },
  {
   "cell_type": "code",
   "execution_count": 8,
   "id": "98cc33c0",
   "metadata": {},
   "outputs": [],
   "source": [
    "random_maaltijden_df_lunch= random_maaltijden_df[random_maaltijden_df[\"tag\"]==\"lunch\"]\n",
    "random_maaltijden_df_lunch = random_maaltijden_df_lunch[[\"recipe\", \"calories\"]]\n",
    "LUNCHES = {row[0]: row[1] for row in random_maaltijden_df_lunch.values}"
   ]
  },
  {
   "cell_type": "code",
   "execution_count": 9,
   "id": "701b008b",
   "metadata": {},
   "outputs": [],
   "source": [
    "random_maaltijden_df_diner= random_maaltijden_df[random_maaltijden_df[\"tag\"]!=\"lunch\"]\n",
    "random_maaltijden_df_diner = random_maaltijden_df_diner[[\"recipe\", \"calories\"]]\n",
    "DINERS = {row[0]: row[1] for row in random_maaltijden_df_diner.values}"
   ]
  },
  {
   "cell_type": "markdown",
   "id": "112deb12",
   "metadata": {},
   "source": [
    "# Importeer de benodigde libraries\n",
    "\n",
    "Importeer pywraplp uit de library ortools.linear_solver \n",
    "\n",
    "Importeer matplotlib.pyplot als plt"
   ]
  },
  {
   "cell_type": "code",
   "execution_count": 10,
   "id": "2a3a981c",
   "metadata": {},
   "outputs": [],
   "source": [
    "from ortools.linear_solver import pywraplp\n",
    "import matplotlib.pyplot as plt\n"
   ]
  },
  {
   "cell_type": "markdown",
   "id": "62e435e8",
   "metadata": {},
   "source": [
    "# Definieer de benodigde variabelen\n",
    "\n",
    "Wij willen voor het gemak 2 keer dezelfde  dictionairy hebben onder een verschillende naam.\n",
    "Deze dictionairies noemen wij MAALTIJDEN en MAALTIJDEN2.\n",
    "\n",
    "Ook maken wij een lijst (UNITS) aan met alleen de 'keys' (namen van de gerechten) van de MAALTIJDEN dictionairy en\n",
    "een lijst (DATA) met de value's (het aantal calorieën van elke maaltijd).\n",
    "\n",
    "Vervolgens maken wij 2 lijsten aan met alle dagen van de week (DAGEN) en een lijst met de afgekorte versie\n",
    "van de dagen (DAGPLT) die wij later gaan gebruiken in onze plot.\n",
    "\n",
    "Als laatste maken wij een dictionairy (AANBEVELING) aan waar de aanbevelingen in komen te staan voor de week \n",
    "en een lijst met recourses waar we een paar essentiële waarden in zetten voor de restricties (1040 is het maximaal aantal calorieën per dag en bijde 1en worden gebruikt om het maximaal aantal diners en lunches limiteren tot 1 per dag)."
   ]
  },
  {
   "cell_type": "code",
   "execution_count": 18,
   "id": "8f77c61f",
   "metadata": {},
   "outputs": [],
   "source": [
    "#Definieer de benodigde variabelen\n",
    "LUNCHES2 = LUNCHES.copy()\n",
    "\n",
    "DINERS2 = DINERS.copy()\n",
    "\n",
    "MAALTIJDEN = LUNCHES | DINERS\n",
    "\n",
    "MAALTIJDEN2 = MAALTIJDEN.copy()\n",
    "\n",
    "UNITS = list(LUNCHES.keys()) + list(DINERS.keys())\n",
    "\n",
    "DATA = list(LUNCHES.values()) +  list(DINERS.values())\n",
    "\n",
    "DAGEN = ['Maandag', 'Dinsdag', 'Woensdag', 'Donderdag', 'Vrijdag', 'Zaterdag', 'Zondag']\n",
    "\n",
    "DAGPLT = ['Ma', 'Di', 'Wo', 'Do', 'Vr', 'Za', 'Zo']\n",
    "\n",
    "Kcal = []\n",
    "Kcal_lunch = []\n",
    "Kcal_diner = [] \n",
    "\n",
    "AANBEVELING = {}\n",
    "\n",
    "RESOURCES = [1040, 1, 1]"
   ]
  },
  {
   "cell_type": "markdown",
   "id": "64b957b3",
   "metadata": {},
   "source": [
    "# Maak het LP model aan\n",
    "\n",
    "Eerst maken wij een leeg LP model aan en noemen deze solver. Hierin geven wij de naam van ons LP model mee. \n",
    "Het tweede onderdeel moet gewoon gekopieerd en geplakt worden.\n",
    "\n",
    "In stap 1 geven wij aan met welk type variabelen wij in de solver gaan werken. Deze hebben wij op integer \n",
    "(Intvar) gezet omdat wij alleen met hele recepten (kunnen) werken. \n",
    "\n",
    "In stap 2 worden de restricties toegevoegd aan het model door middel van for loops. De eerste for loop zorgt\n",
    "ervoor dat alle gekozen recepten niet de maximale caloriegrens van 1040 word overschreden. De tweede for loop\n",
    "zegt dat er maximaal maar 1 lunchrecept gekozen mag worden en de derde for loop geeft aan dat er maar 1 diner \n",
    "gekozen mag worden.\n",
    "\n",
    "In stap 3 van de solver geven we aan wat onze doelfunctie is en wat ons doel is met de doelfunctie. Ons doel \n",
    "is in dit geval om het aandat caloriën zo dicht mogelijk bij de grenswaarde te krijgen van 1040 calorieën, dus \n",
    "kiezen wij om de doelfunctie te maximaliseren (Solver.Maximize()).\n",
    "\n",
    "Vervolgens laten wij het programma zoeken naar de maximale doelfunctie en slaan wij alle gekozen recepten op\n",
    "in een lijst genaamd keuzelijst. Als de solver geen oplossing kan vinden geeft deze een melding hiervoor en word er niks opgeslagen."
   ]
  },
  {
   "cell_type": "code",
   "execution_count": 19,
   "id": "2e088baf",
   "metadata": {},
   "outputs": [],
   "source": [
    "def solve_army(UNITS, DATA, RESOURCES, dag):\n",
    "  # Create the linear solver using the CBC backend\n",
    "  solver = pywraplp.Solver('Minimize resource consumption', pywraplp.Solver.CBC_MIXED_INTEGER_PROGRAMMING)\n",
    "\n",
    "  # 1. Create the variables we want to optimize\n",
    "  units = [solver.IntVar(0, 1, unit) for unit in UNITS]\n",
    "\n",
    "  # 2. Add constraints for each resource\n",
    "  for r in enumerate(RESOURCES):\n",
    "    solver.Add(sum(DATA[u] * units[u] for u, _ in enumerate(units)) <= RESOURCES[0])\n",
    "    # solver.Add(sum(DATA[u] * units[u] for u, _ in enumerate(units)) >= RESOURCES[3])\n",
    "    \n",
    "  for i in range(len(LUNCHES)):\n",
    "    solver.Add(sum(units[u] for u in range(len(LUNCHES))) <= RESOURCES[1])\n",
    "    \n",
    "  for i in range(len(DINERS)):\n",
    "    solver.Add(sum(units[u] for u in range(len(LUNCHES), len(MAALTIJDEN))) <= RESOURCES[2])\n",
    "     \n",
    "  # 3. Minimize the objective function\n",
    "  solver.Maximize(sum(DATA[u] * units[u] for u, _ in enumerate(units)))\n",
    " \n",
    "  # Solve problem\n",
    "  status = solver.Solve()\n",
    "\n",
    "  # If an optimal solution has been found, print results\n",
    "  if status == pywraplp.Solver.OPTIMAL:\n",
    "    for u, _ in enumerate(units):\n",
    "      if units[u].solution_value() == 1:\n",
    "          KEUZELIJST.append(units[u].name())\n",
    "          AANBEVELING[dag] = KEUZELIJST\n",
    "          MAALTIJDEN.pop(units[u].name())\n",
    "          # print(KEUZELIJST)\n",
    "  else:\n",
    "      print('The solver could not find an optimal solution.')"
   ]
  },
  {
   "cell_type": "markdown",
   "id": "c5e039c3",
   "metadata": {},
   "source": [
    "# Zorg ervoor dat voor alle dagen worden ingedeeld\n",
    "\n",
    "Zorg ervoor dat de solver 7 keer word aangeroepen om voor elke dag een aanbeveling te kunnen geven."
   ]
  },
  {
   "cell_type": "code",
   "execution_count": 20,
   "id": "0e868388",
   "metadata": {},
   "outputs": [],
   "source": [
    "for i in range(7):\n",
    "    KEUZELIJST = []\n",
    "    solve_army(UNITS, DATA, RESOURCES, DAGEN[i])\n",
    "    UNITS = list(MAALTIJDEN.keys())\n",
    "    DATA = list(MAALTIJDEN.values())\n"
   ]
  },
  {
   "cell_type": "markdown",
   "id": "117213cd",
   "metadata": {},
   "source": [
    "# Uitprinten van de aanbevelingen\n",
    "\n",
    "Print voor elke dag de aanbeveling uit voor de lunch, het diner en het totaal aantal \n",
    "calorieën van de lunch en het diner."
   ]
  },
  {
   "cell_type": "code",
   "execution_count": 21,
   "id": "3b5afd12",
   "metadata": {},
   "outputs": [
    {
     "name": "stdout",
     "output_type": "stream",
     "text": [
      "\n",
      "AANBEVELINGEN VOOR DE WEEK:\n",
      "\n",
      "Maandag,    LUNCH: Boerenkoolcake met worst en amandelen\n",
      "            DINER: Gehaktbrood met zuurkool &amp; puree\n",
      "            Kcal:   1040\n",
      "Dinsdag,    LUNCH: Griekse yoghurt met geroosterde peer \n",
      "            DINER: Pasta met aardappel, kip en sperziebonen\n",
      "            Kcal:   1040\n",
      "Woensdag,    LUNCH: Sushiwafels\n",
      "            DINER: Pastasalade met aubergine en rauwe ham\n",
      "            Kcal:   1040\n",
      "Donderdag,    LUNCH: Speltbrood met spinaziespread, avocado en kaas\n",
      "            DINER: Hoisinnoedels met gehakt en groene groenten\n",
      "            Kcal:   1040\n",
      "Vrijdag,    LUNCH: Panini met ricotta, citroen en aspergetips\n",
      "            DINER: Bloemkoolbodemquiche met groente en kokosmelk\n",
      "            Kcal:   1040\n",
      "Zaterdag,    LUNCH: Stoofvleespastei\n",
      "            DINER: Wokpaksoi met paddenstoelen\n",
      "            Kcal:   1040\n",
      "Zondag,    LUNCH: Lente-erwtensoep met dille en munt \n",
      "            DINER: Rundvlees in rode wijn met pasta\n",
      "            Kcal:   1040\n"
     ]
    }
   ],
   "source": [
    "print()\n",
    "print(\"AANBEVELINGEN VOOR DE WEEK:\")\n",
    "print()\n",
    "for i in range(len(DAGEN)):\n",
    "    Kcal.append(MAALTIJDEN2[AANBEVELING[DAGEN[i]][0]] + MAALTIJDEN2[AANBEVELING[DAGEN[i]][1]])\n",
    "    Kcal_lunch.append(MAALTIJDEN2[AANBEVELING[DAGEN[i]][0]])\n",
    "    Kcal_diner.append(MAALTIJDEN2[AANBEVELING[DAGEN[i]][1]])\n",
    "    \n",
    "    print(f\"{DAGEN[i]},    LUNCH: {AANBEVELING[DAGEN[i]][0]}\")\n",
    "    print(f\"            DINER: {AANBEVELING[DAGEN[i]][1]}\")\n",
    "    print(f\"            Kcal:   {MAALTIJDEN2[AANBEVELING[DAGEN[i]][0]] + MAALTIJDEN2[AANBEVELING[DAGEN[i]][1]]}\")"
   ]
  },
  {
   "cell_type": "markdown",
   "id": "407566f4",
   "metadata": {},
   "source": [
    "# Maak een plot van het totaal aantal ingedeelde calorieën\n",
    "\n",
    "Eerst worden font1 en font2 toegekent. Hierin staat de betreffende font die we willen gebruiken ('family'), de kleur van de tekst ('color'), de dikte van de text ('weight') en de groote van het lettertype ('size'). font1 wordt hier gebruikt voor de titel en font2 wordt gebruikt voor de namen van de assen.\n",
    "\n",
    "Als tweede wort er een barplot gemaakt en hiervan worden de kleur bepaald, en de naam van de assen en de titel.\n",
    "\n",
    "Als laatste word de plot laten zien van het programma."
   ]
  },
  {
   "cell_type": "code",
   "execution_count": 42,
   "id": "fcaf56a7",
   "metadata": {},
   "outputs": [
    {
     "data": {
      "image/png": "[encoded data removed]",
      "text/plain": [
       "<Figure size 640x480 with 1 Axes>"
      ]
     },
     "metadata": {},
     "output_type": "display_data"
    }
   ],
   "source": [
    "font1 = {'family': 'serif',\n",
    "        'color':  'black',\n",
    "        'weight': 'bold',\n",
    "        'size': 14,\n",
    "        }\n",
    "\n",
    "font2 = {'family': 'serif',\n",
    "        'color':  'black',\n",
    "        'weight': 'bold',\n",
    "        'size': 12,\n",
    "        }\n",
    "\n",
    "plt.bar(DAGPLT, Kcal_lunch, color='deeppink', linewidth = 1.5)\n",
    "plt.bar(DAGPLT, Kcal_diner, bottom=Kcal_lunch, color='hotpink')\n",
    "plt.xlabel('Dagen', fontdict = font2)\n",
    "plt.ylabel('calorieën (Kcal)', fontdict = font2)\n",
    "plt.title(\"Weekelijkse verdeling van het aantal calorieën over lunch en diner\", fontdict = font1)\n",
    "plt.legend([\"Lunch\", \"Diner\"])\n",
    "plt.show()\n",
    "#Figuur.savefig('Kcal_verloop_per_week_V2.jpeg', dpi = 100)"
   ]
  },
  {
   "cell_type": "code",
   "execution_count": null,
   "id": "eb3ad294",
   "metadata": {},
   "outputs": [],
   "source": []
  }
 ],
 "metadata": {
  "kernelspec": {
   "display_name": "Python 3 (ipykernel)",
   "language": "python",
   "name": "python3"
  },
  "language_info": {
   "codemirror_mode": {
    "name": "ipython",
    "version": 3
   },
   "file_extension": ".py",
   "mimetype": "text/x-python",
   "name": "python",
   "nbconvert_exporter": "python",
   "pygments_lexer": "ipython3",
   "version": "3.9.13"
  }
 },
 "nbformat": 4,
 "nbformat_minor": 5
}
