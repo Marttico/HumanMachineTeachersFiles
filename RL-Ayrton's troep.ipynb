{
 "cells": [
  {
   "cell_type": "markdown",
   "id": "90d743b4",
   "metadata": {},
   "source": [
    "Import Dependencies"
   ]
  },
  {
   "cell_type": "code",
   "execution_count": 9,
   "id": "5bb5a83d",
   "metadata": {},
   "outputs": [],
   "source": [
    "import numpy as np\n",
    "import random\n",
    "import gym\n",
    "from gym import Env\n",
    "from gym.spaces import Discrete\n",
    "import random\n",
    "import matplotlib.pyplot as plt\n",
    "import math\n",
    "import torch \n",
    "import torch.nn as nn\n",
    "import torch.nn.functional as F\n",
    "import torch.optim as optim\n",
    "import pandas as pd"
   ]
  },
  {
   "cell_type": "markdown",
   "id": "211ac7c0",
   "metadata": {},
   "source": [
    "Agent"
   ]
  },
  {
   "cell_type": "code",
   "execution_count": 10,
   "id": "e13eae7b",
   "metadata": {},
   "outputs": [],
   "source": [
    "container_amount = 18\n",
    "prio = ['H', 'L']\n",
    "container_id = []\n",
    "container_prio = []\n",
    "\n",
    "for c in range(container_amount):\n",
    "    container_id.append(c)\n",
    "    container_prio_index = random.randrange(len(prio))\n",
    "    container_prio.append(prio[container_prio_index])\n",
    "\n",
    "container_data = np.column_stack((container_id,container_prio))"
   ]
  },
  {
   "cell_type": "markdown",
   "id": "3a5ad82e",
   "metadata": {},
   "source": [
    "Environment"
   ]
  },
  {
   "cell_type": "code",
   "execution_count": 11,
   "id": "22758071",
   "metadata": {},
   "outputs": [],
   "source": [
    "size = (3,3,2)\n",
    "environment = np.array([([( [['0'] * size[2]]) * size[1] ]) * size[0] ]).astype(object)\n",
    "env = environment\n",
    "\n",
    "def scoreEnvironment(env):\n",
    "    result = 0\n",
    "    for x in range(env.shape[0]):\n",
    "        for y in range(env.shape[1]):\n",
    "            for z in range(Environment.shape[2]):\n",
    "                result = (Environment[0,:,:] == 'L').sum()\n",
    "                result -= (Environment[0,:,:] == 'H').sum()\n",
    "                result -= (Environment[2,:,:] == 'L').sum()\n",
    "                result += (Environment[2,:,:] == 'H').sum()\n",
    "    return result\n",
    "\n",
    "\n",
    "#return cleared environment\n",
    "def clearEnvironment(env):\n",
    "    return np.array([[['0'] * Size[2]] * Size[1]] * Size[0])\n",
    "\n",
    "#generate status of board in Boolean array\n",
    "def GenerateStatusDataset(env,dataType):\n",
    "    return np.concatenate([np.array([dataType == 'H'],dtype=np.float32),np.array(env == 'L',dtype=np.float32).flatten(), np.array(env == 'H', dtype=np.float32).flatten(), np.array(env == '0',dtype=np.float32).flatten()])"
   ]
  },
  {
   "cell_type": "markdown",
   "id": "cb5b75c2",
   "metadata": {},
   "source": [
    "State"
   ]
  },
  {
   "cell_type": "code",
   "execution_count": 12,
   "id": "8a74d0d4",
   "metadata": {},
   "outputs": [],
   "source": [
    "def move(env, X, Y, Z):\n",
    "    #if max height reached, place container somewhere else\n",
    "    if Z>size[2] -1:\n",
    "        return False\n",
    "    \n",
    "    #container can not be placed outside the lot\n",
    "    if X<0 or X>= size[0] or Y<0 or Y>= size[1]:\n",
    "        return False\n",
    "    \n",
    "    #container can not be placed when there already is one\n",
    "    if env[X][Y][Z] !='0':\n",
    "        return False\n",
    "    \n",
    "    #container can not be floating\n",
    "    if not env[X][Y][:Z].all() !='0':\n",
    "        return False\n",
    "    \n",
    "    #container in the middle\n",
    "    if Y-1 != -1 and Y+1 != size[1]:\n",
    "        if env[X][Y-1][0] != '0' and env[X][Y+1][0] !='0':\n",
    "            return False\n",
    "        \n",
    "    return True"
   ]
  },
  {
   "cell_type": "markdown",
   "id": "b860bcbe",
   "metadata": {},
   "source": [
    "Action"
   ]
  },
  {
   "cell_type": "code",
   "execution_count": 13,
   "id": "2ac4b9d2",
   "metadata": {},
   "outputs": [],
   "source": [
    "def action_XYZ(action):\n",
    "    value = action\n",
    "    \n",
    "    for a in range(size[0] + 1):\n",
    "        if value <= a * (size[1] * size[2]):\n",
    "            X = a - 1\n",
    "            break \n",
    "\n",
    "    value_Y = value - (X * size[1] * size[2])\n",
    "\n",
    "    for i in range(value_Y + 1):\n",
    "        if value_Y <= i * (size[2]):\n",
    "            Y = i - 1\n",
    "            break\n",
    "\n",
    "    Z = value_Y - Y * size[2] - 1\n",
    "    return X,Y,Z\n",
    "\n",
    "def place_container(action, prio, env):\n",
    "\n",
    "    X,Y,Z = action_XYZ(action)\n",
    "    \n",
    "    if move(env, X,Y,Z):\n",
    "        env[X][Y][Z] = prio\n",
    "        return True, env\n",
    "    else:\n",
    "        return False, env"
   ]
  },
  {
   "cell_type": "markdown",
   "id": "61b89748",
   "metadata": {},
   "source": [
    "Reward & Punishment"
   ]
  },
  {
   "cell_type": "code",
   "execution_count": 14,
   "id": "a7b2cbb4",
   "metadata": {},
   "outputs": [],
   "source": [
    "class Environment():\n",
    "\n",
    "    def __init__(self):\n",
    "        self.action_space = Discrete(int(size[0]*size[1]*size[2]))\n",
    "        self.observation_space = env.flatten()\n",
    "        self.state = self.reset()\n",
    "        self.poging = 0\n",
    "\n",
    "    def step(self,action,prio):\n",
    "        \n",
    "        if type(self.state) == tuple:\n",
    "            self.state = self.state[1]\n",
    "        \n",
    "        b = place_container(action,prio,self.state.reshape(size))\n",
    "        \n",
    "        if b[0]:\n",
    "            reward = 4\n",
    "            self.poging = 0\n",
    "            \n",
    "        else:\n",
    "            reward = -1\n",
    "            self.poging += 1\n",
    "            \n",
    "        self.state = b[1].flatten()\n",
    "        return self.state, reward, self.state\n",
    "        \n",
    "\n",
    "    def reset(self):\n",
    "        self.state = np.array([([( [[0] * size[2]]) * size[1] ]) * size[0] ]).astype(object).flatten()\n",
    "        self.reward = 0\n",
    "        self.poging = 0\n",
    "        return self.reward, self.state\n",
    "\n",
    "    def game_over(self):\n",
    "        if (self.state == '0').sum() == 0 or self.poging >= int(size[0]*size[1]*size[2]):\n",
    "            return True\n",
    "        return False\n",
    "    \n",
    "    def state_(self):\n",
    "        return self.state\n",
    "    def action_state_(self):\n",
    "        return self.action_space"
   ]
  },
  {
   "cell_type": "markdown",
   "id": "64effb4c",
   "metadata": {},
   "source": [
    "Score"
   ]
  },
  {
   "cell_type": "code",
   "execution_count": 15,
   "id": "23f915ab",
   "metadata": {},
   "outputs": [
    {
     "name": "stdout",
     "output_type": "stream",
     "text": [
      "Game:1 Score:0\n",
      "Game:2 Score:0\n",
      "Game:3 Score:0\n"
     ]
    }
   ],
   "source": [
    "a = Environment()\n",
    "z = a.reset()[1]\n",
    "a.step(5,2)\n",
    "a.game_over()\n",
    "a.state_()\n",
    "\n",
    "games = 3\n",
    "scores = []\n",
    "\n",
    "for game in range(1, games+1):\n",
    "    done = False\n",
    "    score = 0 \n",
    "    \n",
    "    #while not env.game_over():\n",
    "        \n",
    "        #action = env.action_space.sample() + 1\n",
    "        #n_state, reward, done = env.step(action,'H')\n",
    "        #score+=reward\n",
    "    print('Game:{} Score:{}'.format(game, score))\n",
    "    scores.append(score)"
   ]
  },
  {
   "cell_type": "markdown",
   "id": "2d712c55",
   "metadata": {},
   "source": [
    "Result"
   ]
  },
  {
   "cell_type": "code",
   "execution_count": 16,
   "id": "2370c9bc",
   "metadata": {},
   "outputs": [
    {
     "data": {
      "text/plain": [
       "Text(0, 0.5, 'Score')"
      ]
     },
     "execution_count": 16,
     "metadata": {},
     "output_type": "execute_result"
    },
    {
     "data": {
      "image/png": "[encoded data removed]",
      "text/plain": [
       "<Figure size 640x480 with 1 Axes>"
      ]
     },
     "metadata": {},
     "output_type": "display_data"
    }
   ],
   "source": [
    "MaxEpisode = 50000\n",
    "SmoothingFactor = 500\n",
    "\n",
    "#plt.plot(np.array(range(int(MaxEpisode/SmoothingFactor)))*SmoothingFactor,np.median(np.reshape(scores[:MaxEpisode],(-1,SmoothingFactor)),axis=1),color=\"red\",label=\"Median score over \"+ str(SmoothingFactor) + \" games\")\n",
    "plt.axhline(y = 48, color = 'green', linestyle = '--',label=\"Maximum score\")\n",
    "\n",
    "plt.legend()\n",
    "plt.title(\"Training score reinforcement learning\")\n",
    "plt.xlabel(\"Episodes\")\n",
    "plt.ylabel(\"Score\")"
   ]
  },
  {
   "cell_type": "code",
   "execution_count": null,
   "id": "ae2d0b60",
   "metadata": {},
   "outputs": [],
   "source": []
  }
 ],
 "metadata": {
  "kernelspec": {
   "display_name": "Python 3 (ipykernel)",
   "language": "python",
   "name": "python3"
  },
  "language_info": {
   "codemirror_mode": {
    "name": "ipython",
    "version": 3
   },
   "file_extension": ".py",
   "mimetype": "text/x-python",
   "name": "python",
   "nbconvert_exporter": "python",
   "pygments_lexer": "ipython3",
   "version": "3.9.13"
  }
 },
 "nbformat": 4,
 "nbformat_minor": 5
}
