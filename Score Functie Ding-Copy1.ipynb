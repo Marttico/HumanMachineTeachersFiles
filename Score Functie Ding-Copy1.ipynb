{
 "cells": [
  {
   "cell_type": "code",
   "execution_count": 1,
   "id": "2630cf1a",
   "metadata": {},
   "outputs": [],
   "source": [
    "import gym\n",
    "import math\n",
    "import random\n",
    "import numpy as np\n",
    "import matplotlib\n",
    "import matplotlib.pyplot as plt"
   ]
  },
  {
   "cell_type": "code",
   "execution_count": 2,
   "id": "e1b23337",
   "metadata": {},
   "outputs": [],
   "source": [
    "#Checks if current position is not floating.\n",
    "def CheckBelow(Environment, X, Y, Z):\n",
    "    return Z == 0 or (Environment[X,Y,:Z] != '0').all()\n",
    "\n",
    "#Checks if current position has container.\n",
    "def CheckPos(Environment, Size, X, Y, Z):\n",
    "    if not ExceedsLot(Size, X, Y, Z):\n",
    "        return Environment[X, Y, Z] != '0'\n",
    "    else:\n",
    "        return False\n",
    "\n",
    "#Checks if coordinates exceed lot.\n",
    "def ExceedsLot(Size, X, Y, Z):\n",
    "    return Size[2] <= Z or Size[1] <= Y or Size[0] <= X or Z < 0 or Y < 0 or X < 0\n",
    "\n",
    "#PAS AAN, bij 4 of 5 breed kan er nog een container tussen gezet worden\n",
    "#Check whether container is in the middle of other containers.\n",
    "def CheckMiddle(Environment, Size, X, Y, Z):\n",
    "    return CheckPos(Environment, Size, X, Y - 1, 0) and CheckPos(Environment, Size, X, Y + 1, 0)\n",
    "\n",
    "#Adds container to environment using state.\n",
    "def AddContainer(Environment, Size, State, X, Y, Z):\n",
    "    tempEnvironment = np.copy(Environment)\n",
    "    if CheckBelow(Environment, X, Y, Z) and not CheckPos(Environment, Size, X, Y, Z) and not ExceedsLot(Size, X, Y, Z) and not CheckMiddle(Environment, Size, X, Y, Z):\n",
    "        tempEnvironment[X,Y,Z] = State\n",
    "    return tempEnvironment"
   ]
  },
  {
   "cell_type": "code",
   "execution_count": 3,
   "id": "bf40ed6a",
   "metadata": {},
   "outputs": [],
   "source": [
    "def scoreEnvironment(Environment):\n",
    "    result = 0\n",
    "    for x in range(Environment.shape[0]):\n",
    "        for y in range(Environment.shape[1]):\n",
    "            for z in range(Environment.shape[2]):\n",
    "                result = (Environment[0,:,:] == 'L').sum()\n",
    "                result -= (Environment[0,:,:] == 'H').sum()\n",
    "                result -= (Environment[2,:,:] == 'L').sum()\n",
    "                result += (Environment[2,:,:] == 'H').sum()\n",
    "    return result\n",
    "\n",
    "\n",
    "#Returns cleared environment\n",
    "def clearEnvironment(Environment):\n",
    "    return np.array([[['0'] * Size[2]] * Size[1]] * Size[0])\n",
    "\n",
    "#Generate status of board in Boolean array\n",
    "def GenerateStatusDataset(Environment,dataType):\n",
    "    return np.concatenate([np.array([dataType == 'H'],dtype=np.float32),np.array(Environment == 'L',dtype=np.float32).flatten(), np.array(Environment == 'H', dtype=np.float32).flatten(), np.array(Environment == '0',dtype=np.float32).flatten()])"
   ]
  },
  {
   "cell_type": "code",
   "execution_count": 4,
   "id": "d80da8ea",
   "metadata": {},
   "outputs": [],
   "source": [
    "def generateEnvironment(size=[3,3,2]):\n",
    "    c =  [[['0'] * size[2]] * size[1]] * size[0]\n",
    "    cSize = size[0]*size[1]*size[2]*3\n",
    "    actionSize = size[0]*size[1]*size[2]\n",
    "    speelveld = np.array(c)\n",
    "    return speelveld, size"
   ]
  },
  {
   "cell_type": "code",
   "execution_count": 5,
   "id": "8b94ba26",
   "metadata": {},
   "outputs": [
    {
     "data": {
      "text/plain": [
       "(array([[['0', '0'],\n",
       "         ['0', '0'],\n",
       "         ['0', '0']],\n",
       " \n",
       "        [['0', '0'],\n",
       "         ['0', '0'],\n",
       "         ['0', '0']],\n",
       " \n",
       "        [['0', '0'],\n",
       "         ['0', '0'],\n",
       "         ['0', '0']]], dtype='<U1'),\n",
       " [3, 3, 2])"
      ]
     },
     "execution_count": 5,
     "metadata": {},
     "output_type": "execute_result"
    }
   ],
   "source": [
    "generateEnvironment()"
   ]
  },
  {
   "cell_type": "code",
   "execution_count": 2,
   "id": "d01356ea",
   "metadata": {},
   "outputs": [],
   "source": [
    "def coord_to_ind(X,Y,Z,lot_size):\n",
    "    return np.ravel_multi_index((X,Y,Z), lot_size)\n",
    "\n",
    "#Zet de index in array om naar X,Y,Z coördinaten\n",
    "def ind_to_coord(ind, lot_size):\n",
    "    return np.unravel_index(ind,lot_size)"
   ]
  },
  {
   "cell_type": "code",
   "execution_count": 19,
   "id": "08e0fa38",
   "metadata": {},
   "outputs": [
    {
     "ename": "NameError",
     "evalue": "name 'generateEnvironment' is not defined",
     "output_type": "error",
     "traceback": [
      "\u001b[0;31m---------------------------------------------------------------------------\u001b[0m",
      "\u001b[0;31mNameError\u001b[0m                                 Traceback (most recent call last)",
      "Cell \u001b[0;32mIn [19], line 7\u001b[0m\n\u001b[1;32m      4\u001b[0m     new_lot \u001b[38;5;241m=\u001b[39m AddContainer(lot, lotsize, prio, act_loc[\u001b[38;5;241m0\u001b[39m], act_loc[\u001b[38;5;241m1\u001b[39m], act_loc[\u001b[38;5;241m2\u001b[39m])\n\u001b[1;32m      5\u001b[0m     \u001b[38;5;28;01mreturn\u001b[39;00m new_lot\n\u001b[0;32m----> 7\u001b[0m lot \u001b[38;5;241m=\u001b[39m \u001b[43mgenerateEnvironment\u001b[49m(lotsize)[\u001b[38;5;241m0\u001b[39m]\n\u001b[1;32m      9\u001b[0m lot \u001b[38;5;241m=\u001b[39m vulenv(lot, \u001b[38;5;241m0\u001b[39m, \u001b[38;5;241m1\u001b[39m)\n\u001b[1;32m     10\u001b[0m lot \u001b[38;5;241m=\u001b[39m vulenv(lot, \u001b[38;5;241m1\u001b[39m, \u001b[38;5;241m2\u001b[39m)\n",
      "\u001b[0;31mNameError\u001b[0m: name 'generateEnvironment' is not defined"
     ]
    }
   ],
   "source": [
    "lotsize = [4,4,5]\n",
    "def vulenv(lot, index, prio):\n",
    "    act_loc = ind_to_coord(index, lotsize)\n",
    "    new_lot = AddContainer(lot, lotsize, prio, act_loc[0], act_loc[1], act_loc[2])\n",
    "    return new_lot\n",
    "\n",
    "lot = generateEnvironment(lotsize)[0]\n",
    "\n",
    "lot = vulenv(lot, 0, 1)\n",
    "lot = vulenv(lot, 1, 2)\n",
    "lot = vulenv(lot, 2, 1)\n",
    "lot = vulenv(lot, 3, 1)\n",
    "lot = vulenv(lot, 4, 2)\n",
    "lot = vulenv(lot, 5, 2)\n",
    "lot = vulenv(lot, 6, 3)\n",
    "lot = vulenv(lot, 7, 3)\n",
    "lot = vulenv(lot, 8, 3)\n",
    "lot = vulenv(lot, 9, 3)\n",
    "lot = vulenv(lot, 10, 2)\n",
    "lot = vulenv(lot, 11, 1)\n",
    "lot = vulenv(lot, 12, 1)\n",
    "lot = vulenv(lot, 13, 1)\n",
    "lot = vulenv(lot, 14, 2)\n",
    "lot = vulenv(lot, 15, 2)\n",
    "lot = vulenv(lot, 16, 3)\n",
    "lot = vulenv(lot, 17, 3)\n",
    "print(lot)\n",
    "\n",
    "idc = 0\n",
    "rs = cont_routes(lot, lotsize,idc)\n",
    "print('container: {0}, routes: {1}'.format(idc, rs))\n",
    "print('-----------------')\n",
    "r1 = rs[0]\n",
    "r2 = rs[1]\n",
    "#print(route_info(r1))\n",
    "#print(route_info(r2))\n",
    "print('score: {0}'.format(score_eindveld(lot,lotsize)))"
   ]
  },
  {
   "cell_type": "code",
   "execution_count": 64,
   "id": "e7d9db60",
   "metadata": {},
   "outputs": [],
   "source": [
    "#Geeft van een gegeven containerindex in de lotindeling de twee wegen om deze container te bereiken\n",
    "def cont_routes(lot_indeling, lot_size, ind): #lot_indeling: array, lot_size: [x,y,z], ind: int\n",
    "    X = lot_size[0]\n",
    "    Y = lot_size[1]\n",
    "    Z = lot_size[2]\n",
    "    lot_index = np.arange(np.prod(lot_size)).reshape(lot_size) #lotindeling maar dan de indexes\n",
    "    indc = ind_to_coord(ind, lot_size) #vind coördinaten van ingevoerde index\n",
    "    \n",
    "    #voeg de containerstack waar de betreffende container in zit toe aan de dictionary als start van de route\n",
    "    stackvalue = lot_indeling[indc[0]][indc[1]]\n",
    "    stackkey = lot_index[indc[0]][indc[1]]\n",
    "    stackdict = dict(zip(stackkey,stackvalue))\n",
    "    \n",
    "    #route 1 berekenen\n",
    "    routestart = {k: v for k, v in stackdict.items() if k >= ind}\n",
    "    route1 = routestart\n",
    "    i = 0\n",
    "    while (lot_index[indc[0]][indc[1]-i][0] % (Y*Z)) > 0:\n",
    "        for z in range(Z):\n",
    "            route1[lot_index[indc[0]][indc[1]-(i+1)][z]] = lot_indeling[indc[0]][indc[1]-(i+1)][z]\n",
    "        i += 1\n",
    "    \n",
    "    #route 2 berekenen\n",
    "    routestart = {k: v for k, v in stackdict.items() if k >= ind}\n",
    "    route2 = routestart\n",
    "    i = 0\n",
    "    while (lot_index[indc[0]][indc[1]+i][Z-1] % (Y*Z)) < (Y*Z-1):\n",
    "        for z in range(Z):\n",
    "            route2[lot_index[indc[0]][indc[1]+(i+1)][z]] = lot_indeling[indc[0]][indc[1]+(i+1)][z]\n",
    "        i += 1\n",
    "    \n",
    "    return route1, route2 #route1: dictionary, route2: dictionary\n",
    "\n",
    "\n",
    "#Geeft de score van een indeling terug\n",
    "def score_eindveld(lot_indeling):\n",
    "    X,Y,Z = lot_indeling.shape\n",
    "    \n",
    "    lot_index = np.arange(np.prod(lot_indeling.shape)).reshape(lot_indeling.shape)\n",
    "    \n",
    "    #maak een lijst van alle verschillende prio indexen in de indeling\n",
    "    #'0' geeft een lege plek aan, dus die telt niet mee\n",
    "    #de hoogste waarde (laagste prio) nemen we niet mee\n",
    "    if np.unique(lot_indeling)[0] == '0':\n",
    "        lot_unique = np.unique(lot_indeling)[1:-1]\n",
    "    else:\n",
    "        lot_unique = np.unique(lot_indeling)[:-1]\n",
    "\n",
    "    #beloon 0 rijen alleen bij een X >= 1, Y >= 3, Z >= 1\n",
    "    inbox = 0\n",
    "    \n",
    "    for p in lot_unique:\n",
    "    \n",
    "        for i in range(len(np.where(lot_indeling == p)[0])):\n",
    "            obstaclesdict = {}\n",
    "            x,y,z = np.array(np.where(lot_indeling == p))[:,i]\n",
    "            \n",
    "            #x = np.where(lot_indeling == p)[0][i]\n",
    "            #y = np.where(lot_indeling == p)[1][i]\n",
    "            #z = np.where(lot_indeling == p)[2][i]\n",
    "            routes = cont_routes(lot_indeling, lot_indeling.shape, lot_index[x][y][z])\n",
    "            routelen1 = len({k: v for k,v in routes[0].items() if int(v) > int(p)})\n",
    "            routelen2 = len({k: v for k,v in routes[1].items() if int(v) > int(p)})\n",
    "\n",
    "            #kies eerste route als die korter is dan tweede\n",
    "            if routelen1 < routelen2:\n",
    "                shortroute = routes[0]\n",
    "            #kies tweede route als die korter is dan eerste\n",
    "            elif routelen1 > routelen2:\n",
    "                shortroute = routes[1]\n",
    "            #als beide routes even lang zijn, kijk dan hoeveel containers op de route dezelfde prio klasse hebben\n",
    "            else:\n",
    "                sameclassroute1 = sum(1 for v in routes[0].values() if v <= list(routes[0].values())[0])\n",
    "                sameclassroute2 = sum(1 for v in routes[1].values() if v <= list(routes[1].values())[0])\n",
    "                #kies eerste route als aantal dezelfe prio klasse containers gelijk aan of meer is dan tweede\n",
    "                if sameclassroute1 >= sameclassroute2:\n",
    "                    shortroute = routes[0]\n",
    "                #kies tweede route als aantal dezelfe prio klasse containers meer is dan eerste\n",
    "                else:\n",
    "                    shortroute = routes[1]\n",
    "            \n",
    "            #sla alle containers op die op de route in de weg zitten (de containers met een hogere prioklasse)\n",
    "            for c in shortroute:\n",
    "                if int(shortroute[c]) > int(p):\n",
    "                    obstaclesdict[c] = shortroute[c]\n",
    "            \n",
    "            #score omlaag als containers in de weg zitten\n",
    "            if len(obstaclesdict) > 0:\n",
    "                inbox += 1\n",
    "\n",
    "    \n",
    "    return inbox #score: integer"
   ]
  },
  {
   "cell_type": "code",
   "execution_count": 178,
   "id": "2f3737af",
   "metadata": {},
   "outputs": [],
   "source": [
    "def getRowScore(row, height, priority):\n",
    "    side = row[1:] <= priority\n",
    "    above = row[0][height:] <= priority\n",
    "    total = side.sum() + above.sum()\n",
    "    totalcontainers = side.size+above.size\n",
    "    return total/totalcontainers\n",
    "    \n",
    "def getContainerMovementScore(row,pos,prio):\n",
    "    right=row[pos[0]:,:]\n",
    "    left=np.flip(row[:pos[0]+1,:],axis=0)\n",
    "    return min(getRowScore(left,pos[1],prio),getRowScore(right,pos[1],prio))\n",
    "\n",
    "def rowScore(env):\n",
    "    totalScore = 0\n",
    "    #Per row\n",
    "    for row in env:\n",
    "        it = np.nditer(row, flags=['multi_index'])\n",
    "        for container in it:\n",
    "            totalScore += getContainerMovementScore(row,it.multi_index,container)\n",
    "\n",
    "    return totalScore"
   ]
  },
  {
   "cell_type": "code",
   "execution_count": 184,
   "id": "639982f3",
   "metadata": {},
   "outputs": [
    {
     "name": "stdout",
     "output_type": "stream",
     "text": [
      "3.1666666666666665\n"
     ]
    },
    {
     "data": {
      "text/plain": [
       "array([[[2, 1],\n",
       "        [1, 2]]])"
      ]
     },
     "execution_count": 184,
     "metadata": {},
     "output_type": "execute_result"
    }
   ],
   "source": [
    "np.random.seed(1)\n",
    "env = np.random.randint(1,4,size=(1,2,2))\n",
    "print(rowScore(env))\n",
    "env"
   ]
  },
  {
   "cell_type": "code",
   "execution_count": null,
   "id": "a52c35a9",
   "metadata": {},
   "outputs": [],
   "source": []
  },
  {
   "cell_type": "code",
   "execution_count": null,
   "id": "1169bae4",
   "metadata": {},
   "outputs": [],
   "source": []
  }
 ],
 "metadata": {
  "kernelspec": {
   "display_name": "Python 3 (ipykernel)",
   "language": "python",
   "name": "python3"
  },
  "language_info": {
   "codemirror_mode": {
    "name": "ipython",
    "version": 3
   },
   "file_extension": ".py",
   "mimetype": "text/x-python",
   "name": "python",
   "nbconvert_exporter": "python",
   "pygments_lexer": "ipython3",
   "version": "3.9.13"
  }
 },
 "nbformat": 4,
 "nbformat_minor": 5
}
