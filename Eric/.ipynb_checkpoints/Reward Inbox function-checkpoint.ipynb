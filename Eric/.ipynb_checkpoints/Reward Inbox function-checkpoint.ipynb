{
 "cells": [
  {
   "cell_type": "markdown",
   "id": "fc21259c",
   "metadata": {},
   "source": [
    "# In this Notebook...\n",
    "- Functions to evaluate end yard layout"
   ]
  },
  {
   "cell_type": "markdown",
   "id": "e3130eaf",
   "metadata": {},
   "source": [
    "# Imports"
   ]
  },
  {
   "cell_type": "code",
   "execution_count": 1,
   "id": "2630cf1a",
   "metadata": {},
   "outputs": [],
   "source": [
    "import gym\n",
    "import math\n",
    "import random\n",
    "import numpy as np\n",
    "import matplotlib\n",
    "import matplotlib.pyplot as plt"
   ]
  },
  {
   "cell_type": "markdown",
   "id": "1ef13b59",
   "metadata": {},
   "source": [
    "# Needed Functions"
   ]
  },
  {
   "cell_type": "code",
   "execution_count": 2,
   "id": "e1b23337",
   "metadata": {},
   "outputs": [],
   "source": [
    "#Checks if current position is not floating.\n",
    "def CheckBelow(Environment, X, Y, Z):\n",
    "    return Z == 0 or (Environment[X,Y,:Z] != '0').all()\n",
    "\n",
    "#Checks if current position has container.\n",
    "def CheckPos(Environment, Size, X, Y, Z):\n",
    "    if not ExceedsLot(Size, X, Y, Z):\n",
    "        return Environment[X, Y, Z] != '0'\n",
    "    else:\n",
    "        return False\n",
    "\n",
    "#Checks if coordinates exceed lot.\n",
    "def ExceedsLot(Size, X, Y, Z):\n",
    "    return Size[2] <= Z or Size[1] <= Y or Size[0] <= X or Z < 0 or Y < 0 or X < 0\n",
    "\n",
    "#Check whether container is in the middle of other containers.\n",
    "def CheckMiddle(Environment, Size, X, Y, Z):\n",
    "    return CheckPos(Environment, Size, X, Y - 1, 0) and CheckPos(Environment, Size, X, Y + 1, 0)\n",
    "\n",
    "#Adds container to environment using state.\n",
    "def AddContainer(Environment, Size, State, X, Y, Z):\n",
    "    tempEnvironment = np.copy(Environment)\n",
    "    if CheckBelow(Environment, X, Y, Z) and not CheckPos(Environment, Size, X, Y, Z) and not ExceedsLot(Size, X, Y, Z) and not CheckMiddle(Environment, Size, X, Y, Z):\n",
    "        tempEnvironment[X,Y,Z] = State\n",
    "    return tempEnvironment"
   ]
  },
  {
   "cell_type": "code",
   "execution_count": 3,
   "id": "d80da8ea",
   "metadata": {},
   "outputs": [],
   "source": [
    "def generateEnvironment(size=[3,3,2]):\n",
    "    c =  [[['0'] * size[2]] * size[1]] * size[0]\n",
    "    cSize = size[0]*size[1]*size[2]*3\n",
    "    actionSize = size[0]*size[1]*size[2]\n",
    "    speelveld = np.array(c)\n",
    "    return speelveld, size"
   ]
  },
  {
   "cell_type": "markdown",
   "id": "472a2b9b",
   "metadata": {},
   "source": [
    "# Convert Functions"
   ]
  },
  {
   "cell_type": "code",
   "execution_count": 4,
   "id": "d01356ea",
   "metadata": {},
   "outputs": [],
   "source": [
    "#From X,Y,Z coördinates to index in array\n",
    "def coord_to_ind(X, Y, Z, lot_size):\n",
    "    grid = np.arange(np.prod(lot_size)).reshape(lot_size)\n",
    "    ind = grid[X][Y][Z]\n",
    "    return ind\n",
    "\n",
    "#From index in array to X,Y,Z coördinates\n",
    "def ind_to_coord(ind, lot_size):\n",
    "    grid = np.arange(np.prod(lot_size)).reshape(lot_size)\n",
    "    coord = np.where(grid[:,:,:] == ind)\n",
    "    X = coord[0][0]\n",
    "    Y = coord[1][0]\n",
    "    Z = coord[2][0]\n",
    "    return X, Y, Z"
   ]
  },
  {
   "cell_type": "markdown",
   "id": "77fe751b",
   "metadata": {},
   "source": [
    "# Routes Function"
   ]
  },
  {
   "cell_type": "code",
   "execution_count": 5,
   "id": "794792d6",
   "metadata": {},
   "outputs": [],
   "source": [
    "#returns from a container in a yard layout, the two routes to get that container\n",
    "def cont_routes(lot_indeling, lot_size, ind): #lot_indeling: array, lot_size: [x,y,z], ind: int\n",
    "    X = lot_size[0]\n",
    "    Y = lot_size[1]\n",
    "    Z = lot_size[2]\n",
    "    lot_index = np.arange(np.prod(lot_size)).reshape(lot_size) #array with all the indices\n",
    "    indc = ind_to_coord(ind, lot_size) #find coordinates of given index\n",
    "    \n",
    "    #add container stack of given container as start of route\n",
    "    stackvalue = lot_indeling[indc[0]][indc[1]]\n",
    "    stackkey = lot_index[indc[0]][indc[1]]\n",
    "    stackdict = dict(zip(stackkey,stackvalue))\n",
    "    \n",
    "    #calculate route 1\n",
    "    routestart = {k: v for k, v in stackdict.items() if k >= ind}\n",
    "    route1 = routestart\n",
    "    i = 0\n",
    "    while (lot_index[indc[0]][indc[1]-i][0] % (Y*Z)) > 0:\n",
    "        for z in range(Z):\n",
    "            route1[lot_index[indc[0]][indc[1]-(i+1)][z]] = lot_indeling[indc[0]][indc[1]-(i+1)][z]\n",
    "        i += 1\n",
    "    \n",
    "    #calculate route 2\n",
    "    routestart = {k: v for k, v in stackdict.items() if k >= ind}\n",
    "    route2 = routestart\n",
    "    i = 0\n",
    "    while (lot_index[indc[0]][indc[1]+i][Z-1] % (Y*Z)) < (Y*Z-1):\n",
    "        for z in range(Z):\n",
    "            route2[lot_index[indc[0]][indc[1]+(i+1)][z]] = lot_indeling[indc[0]][indc[1]+(i+1)][z]\n",
    "        i += 1\n",
    "    \n",
    "    return route1, route2 #route1: dictionary, route2: dictionary"
   ]
  },
  {
   "cell_type": "markdown",
   "id": "22689eaa",
   "metadata": {},
   "source": [
    "# Score/Inbox Function"
   ]
  },
  {
   "cell_type": "code",
   "execution_count": 12,
   "id": "e7d9db60",
   "metadata": {},
   "outputs": [],
   "source": [
    "#Returns the score and the amount of boxed in containers in a layout\n",
    "#WARNING: The function works best when layout is full\n",
    "def score_eindveld(lot_indeling,lot_size):\n",
    "    X = lot_size[0]\n",
    "    Y = lot_size[1]\n",
    "    Z = lot_size[2]\n",
    "    lot_index = np.arange(np.prod(lot_size)).reshape(lot_size)\n",
    "    \n",
    "    #make a list of all unique prio in the layout\n",
    "    #'0' is an open space so it doesn't count\n",
    "    #highest value (lowest prio) doesn't count\n",
    "    if np.unique(lot_indeling)[0] == '0':\n",
    "        lot_unique = np.unique(lot_indeling)[1:-1]\n",
    "    else:\n",
    "        lot_unique = np.unique(lot_indeling)[:-1]\n",
    "\n",
    "    score = 0\n",
    "    inbox = 0\n",
    "    for p in lot_unique:\n",
    "    \n",
    "        for i in range(len(np.where(lot_indeling == p)[0])):\n",
    "            obstaclesdict = {}\n",
    "            \n",
    "            x = np.where(lot_indeling == p)[0][i]\n",
    "            y = np.where(lot_indeling == p)[1][i]\n",
    "            z = np.where(lot_indeling == p)[2][i]\n",
    "            routes = cont_routes(lot_indeling, lot_size, lot_index[x][y][z])\n",
    "            routelen1 = len({k: v for k,v in routes[0].items() if int(v) > int(p)})\n",
    "            routelen2 = len({k: v for k,v in routes[1].items() if int(v) > int(p)})\n",
    "\n",
    "            #choose first route if shorter than second\n",
    "            if routelen1 < routelen2:\n",
    "                shortroute = routes[0]\n",
    "            #choose second route if shorter than first\n",
    "            elif routelen1 > routelen2:\n",
    "                shortroute = routes[1]\n",
    "            #if both routes equally long, look how many containers of same prio are on each route\n",
    "            else:\n",
    "                sameclassroute1 = sum(1 for v in routes[0].values() if v <= list(routes[0].values())[0])\n",
    "                sameclassroute2 = sum(1 for v in routes[1].values() if v <= list(routes[1].values())[0])\n",
    "                #choose first route if amount of same prio equal or more than second\n",
    "                if sameclassroute1 >= sameclassroute2:\n",
    "                    shortroute = routes[0]\n",
    "                #choose second route if amount of prio more than first\n",
    "                else:\n",
    "                    shortroute = routes[1]\n",
    "\n",
    "            print('beste route: {0}'.format(shortroute))\n",
    "            \n",
    "            #save all containers that are in the way (containers with higher value)\n",
    "            for c in shortroute:\n",
    "                if int(shortroute[c]) > int(p):\n",
    "                    obstaclesdict[c] = shortroute[c]\n",
    "            \n",
    "            #decrease score when containers are in the way\n",
    "            #this also means the container is boxed in\n",
    "            if len(obstaclesdict) > 0:\n",
    "                inbox += 1\n",
    "                print('blocked in?: YES')\n",
    "                for o in obstaclesdict:\n",
    "                    score = score - (int(obstaclesdict[o]) - int(p)) \n",
    "                    \n",
    "            #increase score when no containers in the way\n",
    "            else:\n",
    "                print('blocked in?: NO')\n",
    "                score += ((Y*Z)/2) \n",
    "                \n",
    "            print('-----------------')\n",
    "    \n",
    "    return score, inbox #score: integer, inbox: integer"
   ]
  },
  {
   "cell_type": "markdown",
   "id": "aaafa7f5",
   "metadata": {},
   "source": [
    "# Testing on Environment"
   ]
  },
  {
   "cell_type": "code",
   "execution_count": 15,
   "id": "08e0fa38",
   "metadata": {},
   "outputs": [
    {
     "name": "stdout",
     "output_type": "stream",
     "text": [
      "[[['1' '2']\n",
      "  ['2' '2']\n",
      "  ['1' '3']]\n",
      "\n",
      " [['1' '3']\n",
      "  ['2' '2']\n",
      "  ['1' '3']]\n",
      "\n",
      " [['1' '3']\n",
      "  ['2' '2']\n",
      "  ['1' '3']]]\n"
     ]
    }
   ],
   "source": [
    "#Create yard where you can test functions\n",
    "lotsize = [3,3,2]\n",
    "def vulenv(lot, index, prio):\n",
    "    act_loc = ind_to_coord(index, lotsize)\n",
    "    new_lot = AddContainer(lot, lotsize, prio, act_loc[0], act_loc[1], act_loc[2])\n",
    "    return new_lot\n",
    "\n",
    "lot = generateEnvironment(lotsize)[0]\n",
    "lot = vulenv(lot, 0, 1)\n",
    "lot = vulenv(lot, 1, 2)\n",
    "lot = vulenv(lot, 2, 2)\n",
    "lot = vulenv(lot, 3, 2)\n",
    "lot = vulenv(lot, 4, 1)\n",
    "lot = vulenv(lot, 5, 3)\n",
    "lot = vulenv(lot, 6, 1)\n",
    "lot = vulenv(lot, 7, 3)\n",
    "lot = vulenv(lot, 8, 2)\n",
    "lot = vulenv(lot, 9, 2)\n",
    "lot = vulenv(lot, 10, 1)\n",
    "lot = vulenv(lot, 11, 3)\n",
    "lot = vulenv(lot, 12, 1)\n",
    "lot = vulenv(lot, 13, 3)\n",
    "lot = vulenv(lot, 14, 2)\n",
    "lot = vulenv(lot, 15, 2)\n",
    "lot = vulenv(lot, 16, 1)\n",
    "lot = vulenv(lot, 17, 3)\n",
    "print(lot)"
   ]
  },
  {
   "cell_type": "code",
   "execution_count": 16,
   "id": "7557f790",
   "metadata": {},
   "outputs": [
    {
     "name": "stdout",
     "output_type": "stream",
     "text": [
      "beste route: {0: '1', 1: '2'}\n",
      "blocked in?: YES\n",
      "-----------------\n",
      "beste route: {4: '1', 5: '3'}\n",
      "blocked in?: YES\n",
      "-----------------\n",
      "beste route: {6: '1', 7: '3'}\n",
      "blocked in?: YES\n",
      "-----------------\n",
      "beste route: {10: '1', 11: '3'}\n",
      "blocked in?: YES\n",
      "-----------------\n",
      "beste route: {12: '1', 13: '3'}\n",
      "blocked in?: YES\n",
      "-----------------\n",
      "beste route: {16: '1', 17: '3'}\n",
      "blocked in?: YES\n",
      "-----------------\n",
      "beste route: {1: '2'}\n",
      "blocked in?: NO\n",
      "-----------------\n",
      "beste route: {2: '2', 3: '2', 0: '1', 1: '2'}\n",
      "blocked in?: NO\n",
      "-----------------\n",
      "beste route: {3: '2', 0: '1', 1: '2'}\n",
      "blocked in?: NO\n",
      "-----------------\n",
      "beste route: {8: '2', 9: '2', 6: '1', 7: '3'}\n",
      "blocked in?: YES\n",
      "-----------------\n",
      "beste route: {9: '2', 6: '1', 7: '3'}\n",
      "blocked in?: YES\n",
      "-----------------\n",
      "beste route: {14: '2', 15: '2', 12: '1', 13: '3'}\n",
      "blocked in?: YES\n",
      "-----------------\n",
      "beste route: {15: '2', 12: '1', 13: '3'}\n",
      "blocked in?: YES\n",
      "-----------------\n",
      "score: (-6.0, 10)\n"
     ]
    }
   ],
   "source": [
    "idc = 0\n",
    "rs = cont_routes(lot, lotsize,idc)\n",
    "#print('container: {0}, routes: {1}'.format(idc, rs))\n",
    "#print('-----------------')\n",
    "r1 = rs[0]\n",
    "r2 = rs[1]\n",
    "print('score: {0}'.format(score_eindveld(lot,lotsize)))"
   ]
  },
  {
   "cell_type": "code",
   "execution_count": null,
   "id": "639982f3",
   "metadata": {},
   "outputs": [],
   "source": []
  }
 ],
 "metadata": {
  "kernelspec": {
   "display_name": "Python 3 (ipykernel)",
   "language": "python",
   "name": "python3"
  },
  "language_info": {
   "codemirror_mode": {
    "name": "ipython",
    "version": 3
   },
   "file_extension": ".py",
   "mimetype": "text/x-python",
   "name": "python",
   "nbconvert_exporter": "python",
   "pygments_lexer": "ipython3",
   "version": "3.9.13"
  }
 },
 "nbformat": 4,
 "nbformat_minor": 5
}
